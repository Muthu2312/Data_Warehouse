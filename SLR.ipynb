{
  "cells": [
    {
      "cell_type": "markdown",
      "metadata": {
        "id": "view-in-github",
        "colab_type": "text"
      },
      "source": [
        "<a href=\"https://colab.research.google.com/github/Muthu2312/Great_Lakes/blob/main/SLR.ipynb\" target=\"_parent\"><img src=\"https://colab.research.google.com/assets/colab-badge.svg\" alt=\"Open In Colab\"/></a>"
      ]
    },
    {
      "cell_type": "markdown",
      "metadata": {
        "id": "68MTpfk1U5iH"
      },
      "source": [
        "<table align=\"center\" width=100%>\n",
        "    <tr>\n",
        "        <td width=\"15%\">\n",
        "            <img src=\"in_class.png\">\n",
        "        </td>\n",
        "        <td>\n",
        "            <div align=\"center\">\n",
        "                <font color=\"#21618C\" size=8px>\n",
        "                    <b> Inclass - Lab <br>(Day 3)\n",
        "                    </b>\n",
        "                </font>\n",
        "            </div>\n",
        "        </td>\n",
        "    </tr>\n",
        "</table>"
      ]
    },
    {
      "cell_type": "markdown",
      "metadata": {
        "id": "oeQzGGZ9U5iU"
      },
      "source": [
        "### About the data set  (Life Expectancy data)\n",
        "\n",
        "The dataset contains information about several health and economic factors that contribute to average life expectancy for different countries. <br> Attribute information: \n",
        "\n",
        "**Country:** Name of the country\n",
        "\n",
        "**Year:** Year the observations were recorded\n",
        "\n",
        "**Status:** Whether the country is Developed or Developing\n",
        "\n",
        "**Adult_Mortality:** Mortality rate for age group 15-60 out of every 1000 individuals of the population\n",
        "\n",
        "**Infant_Deaths:** Number of infant deaths per 1000 population\n",
        "\n",
        "**Alcohol:** Alcohol, recorded per capita (15+) consumption (in litres of pure alcohol)\n",
        "\n",
        "**Hepatitis B:** Hepatitis B (HepB) immunization coverage for 1 year olds (Percentage)\n",
        "\n",
        "**Measles:** Number of reported cases for measles per 1000 from population\n",
        "\n",
        "**BMI:** Average Body Mass Index for entire population\n",
        "\n",
        "**Underfive_Deaths:** Number of deaths under 5 years of age per 1000 population\n",
        "\n",
        "**Polio:** Polio (Pol3) immunization coverage for 1 year olds (Percentage)\n",
        "\n",
        "**Diphtheria:** Diphtheria tetanus toxoid and pertussis (DTP3) immunization coverage for 1 year olds (Percentage)\n",
        "\n",
        "**HIV:** Deaths per 1000 live births due to HIV/AIDS (0-4 years)\n",
        "\n",
        "**GDP:** Gross Domestic Product per capita (in USD)\n",
        "\n",
        "**Population:** Population of the country\n",
        "\n",
        "**Malnourished10_19:** Prevalence of malnutrition among children and adolescents for Age 10 to 19 (Percentage)\n",
        "\n",
        "**Malnourished5_9:** Prevalence of malnutrition among children for Age 5 to 9 (Percentage)\n",
        "\n",
        "**Income_Index:** Human Development Index (HDI) in terms of national income per capita (index ranging from 0 to 1)\n",
        "\n",
        "**Schooling:** Number of years of Schooling\n",
        "\n",
        "**Life_Expectancy:** Life Expectancy in age for the country\n"
      ]
    },
    {
      "cell_type": "markdown",
      "metadata": {
        "id": "n6o_0UL9U5iW"
      },
      "source": [
        "##  Table of Content\n",
        "\n",
        "1. **[Data Preparation](#eda)**\n",
        "2. **[Linear Regression](#lf)**\n",
        "3. **[Gradient Descent](#gd)**\n",
        "4. **[Regularization](#reg)**\n",
        "5. **[Grid Search](#gs)**"
      ]
    },
    {
      "cell_type": "markdown",
      "metadata": {
        "id": "m3Jzrn_5U5iX"
      },
      "source": [
        "**Import the required libraries**"
      ]
    },
    {
      "cell_type": "code",
      "execution_count": 1,
      "metadata": {
        "id": "2OM3_o-2U5iY"
      },
      "outputs": [],
      "source": [
        "import numpy as np\n",
        "import pandas as pd\n",
        "import matplotlib.pyplot as plt\n",
        "import seaborn as sns"
      ]
    },
    {
      "cell_type": "code",
      "execution_count": 2,
      "metadata": {
        "id": "mumnEbbsU5ib"
      },
      "outputs": [],
      "source": [
        "from sklearn.model_selection import train_test_split\n",
        "from sklearn.linear_model import LinearRegression\n",
        "LR = LinearRegression()"
      ]
    },
    {
      "cell_type": "code",
      "execution_count": 3,
      "metadata": {
        "colab": {
          "base_uri": "https://localhost:8080/"
        },
        "id": "43__sZWOU5ic",
        "outputId": "c579ad68-2787-464d-8da8-7972c37e41c5"
      },
      "outputs": [
        {
          "output_type": "stream",
          "name": "stderr",
          "text": [
            "/usr/local/lib/python3.7/dist-packages/statsmodels/tools/_testing.py:19: FutureWarning: pandas.util.testing is deprecated. Use the functions in the public API at pandas.testing instead.\n",
            "  import pandas.util.testing as tm\n"
          ]
        }
      ],
      "source": [
        "import statsmodels.api as sm\n",
        "import statsmodels.stats.api as sms"
      ]
    },
    {
      "cell_type": "markdown",
      "metadata": {
        "id": "MGLZ3rGFU5id"
      },
      "source": [
        "#### Load the Life expectancy dataset and display the first five records "
      ]
    },
    {
      "cell_type": "code",
      "execution_count": 4,
      "metadata": {
        "colab": {
          "base_uri": "https://localhost:8080/",
          "height": 288
        },
        "id": "PwxvOfOdU5if",
        "outputId": "e0318110-d037-49be-e5ff-9eb908433388"
      },
      "outputs": [
        {
          "output_type": "execute_result",
          "data": {
            "text/html": [
              "\n",
              "  <div id=\"df-76f40b83-42d5-46c0-83fb-85f406d47d77\">\n",
              "    <div class=\"colab-df-container\">\n",
              "      <div>\n",
              "<style scoped>\n",
              "    .dataframe tbody tr th:only-of-type {\n",
              "        vertical-align: middle;\n",
              "    }\n",
              "\n",
              "    .dataframe tbody tr th {\n",
              "        vertical-align: top;\n",
              "    }\n",
              "\n",
              "    .dataframe thead th {\n",
              "        text-align: right;\n",
              "    }\n",
              "</style>\n",
              "<table border=\"1\" class=\"dataframe\">\n",
              "  <thead>\n",
              "    <tr style=\"text-align: right;\">\n",
              "      <th></th>\n",
              "      <th>Country</th>\n",
              "      <th>Year</th>\n",
              "      <th>Status</th>\n",
              "      <th>Adult_Mortality</th>\n",
              "      <th>Infant_Deaths</th>\n",
              "      <th>Alcohol</th>\n",
              "      <th>Hepatitis B</th>\n",
              "      <th>Measles</th>\n",
              "      <th>BMI</th>\n",
              "      <th>Underfive_Deaths</th>\n",
              "      <th>Polio</th>\n",
              "      <th>Diphtheria</th>\n",
              "      <th>HIV</th>\n",
              "      <th>GDP</th>\n",
              "      <th>Population</th>\n",
              "      <th>Malnourished10_19</th>\n",
              "      <th>Malnourished5_9</th>\n",
              "      <th>Income_Index</th>\n",
              "      <th>Schooling</th>\n",
              "      <th>Life_Expectancy</th>\n",
              "    </tr>\n",
              "  </thead>\n",
              "  <tbody>\n",
              "    <tr>\n",
              "      <th>0</th>\n",
              "      <td>Afghanistan</td>\n",
              "      <td>2015</td>\n",
              "      <td>Developing</td>\n",
              "      <td>263.0</td>\n",
              "      <td>62</td>\n",
              "      <td>0.01</td>\n",
              "      <td>65.0</td>\n",
              "      <td>1154</td>\n",
              "      <td>19.1</td>\n",
              "      <td>83</td>\n",
              "      <td>6</td>\n",
              "      <td>65</td>\n",
              "      <td>0.1</td>\n",
              "      <td>584.259210</td>\n",
              "      <td>33736494.0</td>\n",
              "      <td>17.2</td>\n",
              "      <td>17.3</td>\n",
              "      <td>0.479</td>\n",
              "      <td>10.1</td>\n",
              "      <td>65.0</td>\n",
              "    </tr>\n",
              "    <tr>\n",
              "      <th>1</th>\n",
              "      <td>Albania</td>\n",
              "      <td>2015</td>\n",
              "      <td>Developing</td>\n",
              "      <td>74.0</td>\n",
              "      <td>0</td>\n",
              "      <td>4.60</td>\n",
              "      <td>99.0</td>\n",
              "      <td>0</td>\n",
              "      <td>58.0</td>\n",
              "      <td>0</td>\n",
              "      <td>99</td>\n",
              "      <td>99</td>\n",
              "      <td>0.1</td>\n",
              "      <td>3954.227830</td>\n",
              "      <td>28873.0</td>\n",
              "      <td>1.2</td>\n",
              "      <td>1.3</td>\n",
              "      <td>0.762</td>\n",
              "      <td>14.2</td>\n",
              "      <td>77.8</td>\n",
              "    </tr>\n",
              "    <tr>\n",
              "      <th>2</th>\n",
              "      <td>Algeria</td>\n",
              "      <td>2015</td>\n",
              "      <td>Developing</td>\n",
              "      <td>19.0</td>\n",
              "      <td>21</td>\n",
              "      <td>NaN</td>\n",
              "      <td>95.0</td>\n",
              "      <td>63</td>\n",
              "      <td>59.5</td>\n",
              "      <td>24</td>\n",
              "      <td>95</td>\n",
              "      <td>95</td>\n",
              "      <td>0.1</td>\n",
              "      <td>4132.762920</td>\n",
              "      <td>39871528.0</td>\n",
              "      <td>6.0</td>\n",
              "      <td>5.8</td>\n",
              "      <td>0.743</td>\n",
              "      <td>14.4</td>\n",
              "      <td>75.6</td>\n",
              "    </tr>\n",
              "    <tr>\n",
              "      <th>3</th>\n",
              "      <td>Angola</td>\n",
              "      <td>2015</td>\n",
              "      <td>Developing</td>\n",
              "      <td>335.0</td>\n",
              "      <td>66</td>\n",
              "      <td>NaN</td>\n",
              "      <td>64.0</td>\n",
              "      <td>118</td>\n",
              "      <td>23.3</td>\n",
              "      <td>98</td>\n",
              "      <td>7</td>\n",
              "      <td>64</td>\n",
              "      <td>1.9</td>\n",
              "      <td>3695.793748</td>\n",
              "      <td>2785935.0</td>\n",
              "      <td>8.3</td>\n",
              "      <td>8.2</td>\n",
              "      <td>0.531</td>\n",
              "      <td>11.4</td>\n",
              "      <td>52.4</td>\n",
              "    </tr>\n",
              "    <tr>\n",
              "      <th>4</th>\n",
              "      <td>Antigua</td>\n",
              "      <td>2015</td>\n",
              "      <td>Developing</td>\n",
              "      <td>13.0</td>\n",
              "      <td>0</td>\n",
              "      <td>NaN</td>\n",
              "      <td>99.0</td>\n",
              "      <td>0</td>\n",
              "      <td>47.7</td>\n",
              "      <td>0</td>\n",
              "      <td>86</td>\n",
              "      <td>99</td>\n",
              "      <td>0.2</td>\n",
              "      <td>13566.954100</td>\n",
              "      <td>NaN</td>\n",
              "      <td>3.3</td>\n",
              "      <td>3.3</td>\n",
              "      <td>0.784</td>\n",
              "      <td>13.9</td>\n",
              "      <td>76.4</td>\n",
              "    </tr>\n",
              "  </tbody>\n",
              "</table>\n",
              "</div>\n",
              "      <button class=\"colab-df-convert\" onclick=\"convertToInteractive('df-76f40b83-42d5-46c0-83fb-85f406d47d77')\"\n",
              "              title=\"Convert this dataframe to an interactive table.\"\n",
              "              style=\"display:none;\">\n",
              "        \n",
              "  <svg xmlns=\"http://www.w3.org/2000/svg\" height=\"24px\"viewBox=\"0 0 24 24\"\n",
              "       width=\"24px\">\n",
              "    <path d=\"M0 0h24v24H0V0z\" fill=\"none\"/>\n",
              "    <path d=\"M18.56 5.44l.94 2.06.94-2.06 2.06-.94-2.06-.94-.94-2.06-.94 2.06-2.06.94zm-11 1L8.5 8.5l.94-2.06 2.06-.94-2.06-.94L8.5 2.5l-.94 2.06-2.06.94zm10 10l.94 2.06.94-2.06 2.06-.94-2.06-.94-.94-2.06-.94 2.06-2.06.94z\"/><path d=\"M17.41 7.96l-1.37-1.37c-.4-.4-.92-.59-1.43-.59-.52 0-1.04.2-1.43.59L10.3 9.45l-7.72 7.72c-.78.78-.78 2.05 0 2.83L4 21.41c.39.39.9.59 1.41.59.51 0 1.02-.2 1.41-.59l7.78-7.78 2.81-2.81c.8-.78.8-2.07 0-2.86zM5.41 20L4 18.59l7.72-7.72 1.47 1.35L5.41 20z\"/>\n",
              "  </svg>\n",
              "      </button>\n",
              "      \n",
              "  <style>\n",
              "    .colab-df-container {\n",
              "      display:flex;\n",
              "      flex-wrap:wrap;\n",
              "      gap: 12px;\n",
              "    }\n",
              "\n",
              "    .colab-df-convert {\n",
              "      background-color: #E8F0FE;\n",
              "      border: none;\n",
              "      border-radius: 50%;\n",
              "      cursor: pointer;\n",
              "      display: none;\n",
              "      fill: #1967D2;\n",
              "      height: 32px;\n",
              "      padding: 0 0 0 0;\n",
              "      width: 32px;\n",
              "    }\n",
              "\n",
              "    .colab-df-convert:hover {\n",
              "      background-color: #E2EBFA;\n",
              "      box-shadow: 0px 1px 2px rgba(60, 64, 67, 0.3), 0px 1px 3px 1px rgba(60, 64, 67, 0.15);\n",
              "      fill: #174EA6;\n",
              "    }\n",
              "\n",
              "    [theme=dark] .colab-df-convert {\n",
              "      background-color: #3B4455;\n",
              "      fill: #D2E3FC;\n",
              "    }\n",
              "\n",
              "    [theme=dark] .colab-df-convert:hover {\n",
              "      background-color: #434B5C;\n",
              "      box-shadow: 0px 1px 3px 1px rgba(0, 0, 0, 0.15);\n",
              "      filter: drop-shadow(0px 1px 2px rgba(0, 0, 0, 0.3));\n",
              "      fill: #FFFFFF;\n",
              "    }\n",
              "  </style>\n",
              "\n",
              "      <script>\n",
              "        const buttonEl =\n",
              "          document.querySelector('#df-76f40b83-42d5-46c0-83fb-85f406d47d77 button.colab-df-convert');\n",
              "        buttonEl.style.display =\n",
              "          google.colab.kernel.accessAllowed ? 'block' : 'none';\n",
              "\n",
              "        async function convertToInteractive(key) {\n",
              "          const element = document.querySelector('#df-76f40b83-42d5-46c0-83fb-85f406d47d77');\n",
              "          const dataTable =\n",
              "            await google.colab.kernel.invokeFunction('convertToInteractive',\n",
              "                                                     [key], {});\n",
              "          if (!dataTable) return;\n",
              "\n",
              "          const docLinkHtml = 'Like what you see? Visit the ' +\n",
              "            '<a target=\"_blank\" href=https://colab.research.google.com/notebooks/data_table.ipynb>data table notebook</a>'\n",
              "            + ' to learn more about interactive tables.';\n",
              "          element.innerHTML = '';\n",
              "          dataTable['output_type'] = 'display_data';\n",
              "          await google.colab.output.renderOutput(dataTable, element);\n",
              "          const docLink = document.createElement('div');\n",
              "          docLink.innerHTML = docLinkHtml;\n",
              "          element.appendChild(docLink);\n",
              "        }\n",
              "      </script>\n",
              "    </div>\n",
              "  </div>\n",
              "  "
            ],
            "text/plain": [
              "       Country  Year      Status  ...  Income_Index  Schooling  Life_Expectancy\n",
              "0  Afghanistan  2015  Developing  ...         0.479       10.1             65.0\n",
              "1      Albania  2015  Developing  ...         0.762       14.2             77.8\n",
              "2      Algeria  2015  Developing  ...         0.743       14.4             75.6\n",
              "3       Angola  2015  Developing  ...         0.531       11.4             52.4\n",
              "4      Antigua  2015  Developing  ...         0.784       13.9             76.4\n",
              "\n",
              "[5 rows x 20 columns]"
            ]
          },
          "metadata": {},
          "execution_count": 4
        }
      ],
      "source": [
        "df_lifeExp = pd.read_csv(\"Life_Expectancy.csv\")\n",
        "df_lifeExp.head()"
      ]
    },
    {
      "cell_type": "markdown",
      "metadata": {
        "id": "Li-TwgtVU5ih"
      },
      "source": [
        "#### Check the shape of the data and display its information"
      ]
    },
    {
      "cell_type": "code",
      "execution_count": 5,
      "metadata": {
        "scrolled": true,
        "colab": {
          "base_uri": "https://localhost:8080/"
        },
        "id": "TAonf51MU5ii",
        "outputId": "918675ad-6b55-4b51-fcc1-8a4029fe3389"
      },
      "outputs": [
        {
          "output_type": "execute_result",
          "data": {
            "text/plain": [
              "(182, 20)"
            ]
          },
          "metadata": {},
          "execution_count": 5
        }
      ],
      "source": [
        "df_lifeExp.shape"
      ]
    },
    {
      "cell_type": "code",
      "execution_count": 6,
      "metadata": {
        "colab": {
          "base_uri": "https://localhost:8080/",
          "height": 382
        },
        "id": "sTJBwkBnU5ij",
        "outputId": "cce75d49-d6f5-47e1-fc50-b0d60e26ebbc"
      },
      "outputs": [
        {
          "output_type": "execute_result",
          "data": {
            "text/html": [
              "\n",
              "  <div id=\"df-abb48b3e-a5c4-4994-af26-fdc7bf1ca4c5\">\n",
              "    <div class=\"colab-df-container\">\n",
              "      <div>\n",
              "<style scoped>\n",
              "    .dataframe tbody tr th:only-of-type {\n",
              "        vertical-align: middle;\n",
              "    }\n",
              "\n",
              "    .dataframe tbody tr th {\n",
              "        vertical-align: top;\n",
              "    }\n",
              "\n",
              "    .dataframe thead th {\n",
              "        text-align: right;\n",
              "    }\n",
              "</style>\n",
              "<table border=\"1\" class=\"dataframe\">\n",
              "  <thead>\n",
              "    <tr style=\"text-align: right;\">\n",
              "      <th></th>\n",
              "      <th>Year</th>\n",
              "      <th>Adult_Mortality</th>\n",
              "      <th>Infant_Deaths</th>\n",
              "      <th>Alcohol</th>\n",
              "      <th>Hepatitis B</th>\n",
              "      <th>Measles</th>\n",
              "      <th>BMI</th>\n",
              "      <th>Underfive_Deaths</th>\n",
              "      <th>Polio</th>\n",
              "      <th>Diphtheria</th>\n",
              "      <th>HIV</th>\n",
              "      <th>GDP</th>\n",
              "      <th>Population</th>\n",
              "      <th>Malnourished10_19</th>\n",
              "      <th>Malnourished5_9</th>\n",
              "      <th>Income_Index</th>\n",
              "      <th>Schooling</th>\n",
              "      <th>Life_Expectancy</th>\n",
              "    </tr>\n",
              "  </thead>\n",
              "  <tbody>\n",
              "    <tr>\n",
              "      <th>count</th>\n",
              "      <td>182.000000</td>\n",
              "      <td>173.000000</td>\n",
              "      <td>182.000000</td>\n",
              "      <td>15.000000</td>\n",
              "      <td>173.000000</td>\n",
              "      <td>182.000000</td>\n",
              "      <td>178.000000</td>\n",
              "      <td>182.000000</td>\n",
              "      <td>182.000000</td>\n",
              "      <td>182.000000</td>\n",
              "      <td>182.00000</td>\n",
              "      <td>157.000000</td>\n",
              "      <td>1.410000e+02</td>\n",
              "      <td>178.000000</td>\n",
              "      <td>178.000000</td>\n",
              "      <td>169.000000</td>\n",
              "      <td>173.000000</td>\n",
              "      <td>173.000000</td>\n",
              "    </tr>\n",
              "    <tr>\n",
              "      <th>mean</th>\n",
              "      <td>2014.890110</td>\n",
              "      <td>149.971098</td>\n",
              "      <td>21.741758</td>\n",
              "      <td>2.719333</td>\n",
              "      <td>81.710983</td>\n",
              "      <td>1482.104396</td>\n",
              "      <td>44.411236</td>\n",
              "      <td>28.851648</td>\n",
              "      <td>82.961538</td>\n",
              "      <td>84.357143</td>\n",
              "      <td>0.62033</td>\n",
              "      <td>7098.949079</td>\n",
              "      <td>1.133250e+07</td>\n",
              "      <td>4.368539</td>\n",
              "      <td>4.412360</td>\n",
              "      <td>0.696586</td>\n",
              "      <td>12.845665</td>\n",
              "      <td>72.007514</td>\n",
              "    </tr>\n",
              "    <tr>\n",
              "      <th>std</th>\n",
              "      <td>0.457003</td>\n",
              "      <td>95.679846</td>\n",
              "      <td>82.297159</td>\n",
              "      <td>3.887194</td>\n",
              "      <td>25.391991</td>\n",
              "      <td>7859.929395</td>\n",
              "      <td>21.305610</td>\n",
              "      <td>105.904392</td>\n",
              "      <td>24.973658</td>\n",
              "      <td>22.958019</td>\n",
              "      <td>1.33283</td>\n",
              "      <td>11603.099478</td>\n",
              "      <td>2.912065e+07</td>\n",
              "      <td>4.137007</td>\n",
              "      <td>4.223363</td>\n",
              "      <td>0.152706</td>\n",
              "      <td>3.215180</td>\n",
              "      <td>8.032405</td>\n",
              "    </tr>\n",
              "    <tr>\n",
              "      <th>min</th>\n",
              "      <td>2013.000000</td>\n",
              "      <td>1.000000</td>\n",
              "      <td>0.000000</td>\n",
              "      <td>0.010000</td>\n",
              "      <td>6.000000</td>\n",
              "      <td>0.000000</td>\n",
              "      <td>2.500000</td>\n",
              "      <td>0.000000</td>\n",
              "      <td>5.000000</td>\n",
              "      <td>6.000000</td>\n",
              "      <td>0.10000</td>\n",
              "      <td>33.681223</td>\n",
              "      <td>2.920000e+02</td>\n",
              "      <td>0.100000</td>\n",
              "      <td>0.100000</td>\n",
              "      <td>0.347000</td>\n",
              "      <td>0.000000</td>\n",
              "      <td>51.000000</td>\n",
              "    </tr>\n",
              "    <tr>\n",
              "      <th>25%</th>\n",
              "      <td>2015.000000</td>\n",
              "      <td>74.000000</td>\n",
              "      <td>0.000000</td>\n",
              "      <td>0.010000</td>\n",
              "      <td>78.000000</td>\n",
              "      <td>0.000000</td>\n",
              "      <td>24.425000</td>\n",
              "      <td>0.000000</td>\n",
              "      <td>83.250000</td>\n",
              "      <td>84.000000</td>\n",
              "      <td>0.10000</td>\n",
              "      <td>762.261218</td>\n",
              "      <td>2.635310e+05</td>\n",
              "      <td>1.500000</td>\n",
              "      <td>1.400000</td>\n",
              "      <td>0.575000</td>\n",
              "      <td>10.800000</td>\n",
              "      <td>66.200000</td>\n",
              "    </tr>\n",
              "    <tr>\n",
              "      <th>50%</th>\n",
              "      <td>2015.000000</td>\n",
              "      <td>137.000000</td>\n",
              "      <td>2.000000</td>\n",
              "      <td>0.010000</td>\n",
              "      <td>93.000000</td>\n",
              "      <td>9.000000</td>\n",
              "      <td>52.650000</td>\n",
              "      <td>2.000000</td>\n",
              "      <td>93.000000</td>\n",
              "      <td>94.000000</td>\n",
              "      <td>0.10000</td>\n",
              "      <td>3111.762887</td>\n",
              "      <td>1.977527e+06</td>\n",
              "      <td>3.150000</td>\n",
              "      <td>3.250000</td>\n",
              "      <td>0.733000</td>\n",
              "      <td>13.100000</td>\n",
              "      <td>74.100000</td>\n",
              "    </tr>\n",
              "    <tr>\n",
              "      <th>75%</th>\n",
              "      <td>2015.000000</td>\n",
              "      <td>199.000000</td>\n",
              "      <td>15.000000</td>\n",
              "      <td>5.285000</td>\n",
              "      <td>97.000000</td>\n",
              "      <td>197.250000</td>\n",
              "      <td>62.100000</td>\n",
              "      <td>19.500000</td>\n",
              "      <td>97.750000</td>\n",
              "      <td>97.000000</td>\n",
              "      <td>0.30000</td>\n",
              "      <td>6993.477360</td>\n",
              "      <td>1.127366e+07</td>\n",
              "      <td>6.400000</td>\n",
              "      <td>6.200000</td>\n",
              "      <td>0.799000</td>\n",
              "      <td>15.000000</td>\n",
              "      <td>77.100000</td>\n",
              "    </tr>\n",
              "    <tr>\n",
              "      <th>max</th>\n",
              "      <td>2015.000000</td>\n",
              "      <td>484.000000</td>\n",
              "      <td>910.000000</td>\n",
              "      <td>10.660000</td>\n",
              "      <td>99.000000</td>\n",
              "      <td>90387.000000</td>\n",
              "      <td>87.300000</td>\n",
              "      <td>1100.000000</td>\n",
              "      <td>99.000000</td>\n",
              "      <td>99.000000</td>\n",
              "      <td>9.30000</td>\n",
              "      <td>66346.522670</td>\n",
              "      <td>2.581621e+08</td>\n",
              "      <td>26.700000</td>\n",
              "      <td>27.300000</td>\n",
              "      <td>0.948000</td>\n",
              "      <td>20.400000</td>\n",
              "      <td>88.000000</td>\n",
              "    </tr>\n",
              "  </tbody>\n",
              "</table>\n",
              "</div>\n",
              "      <button class=\"colab-df-convert\" onclick=\"convertToInteractive('df-abb48b3e-a5c4-4994-af26-fdc7bf1ca4c5')\"\n",
              "              title=\"Convert this dataframe to an interactive table.\"\n",
              "              style=\"display:none;\">\n",
              "        \n",
              "  <svg xmlns=\"http://www.w3.org/2000/svg\" height=\"24px\"viewBox=\"0 0 24 24\"\n",
              "       width=\"24px\">\n",
              "    <path d=\"M0 0h24v24H0V0z\" fill=\"none\"/>\n",
              "    <path d=\"M18.56 5.44l.94 2.06.94-2.06 2.06-.94-2.06-.94-.94-2.06-.94 2.06-2.06.94zm-11 1L8.5 8.5l.94-2.06 2.06-.94-2.06-.94L8.5 2.5l-.94 2.06-2.06.94zm10 10l.94 2.06.94-2.06 2.06-.94-2.06-.94-.94-2.06-.94 2.06-2.06.94z\"/><path d=\"M17.41 7.96l-1.37-1.37c-.4-.4-.92-.59-1.43-.59-.52 0-1.04.2-1.43.59L10.3 9.45l-7.72 7.72c-.78.78-.78 2.05 0 2.83L4 21.41c.39.39.9.59 1.41.59.51 0 1.02-.2 1.41-.59l7.78-7.78 2.81-2.81c.8-.78.8-2.07 0-2.86zM5.41 20L4 18.59l7.72-7.72 1.47 1.35L5.41 20z\"/>\n",
              "  </svg>\n",
              "      </button>\n",
              "      \n",
              "  <style>\n",
              "    .colab-df-container {\n",
              "      display:flex;\n",
              "      flex-wrap:wrap;\n",
              "      gap: 12px;\n",
              "    }\n",
              "\n",
              "    .colab-df-convert {\n",
              "      background-color: #E8F0FE;\n",
              "      border: none;\n",
              "      border-radius: 50%;\n",
              "      cursor: pointer;\n",
              "      display: none;\n",
              "      fill: #1967D2;\n",
              "      height: 32px;\n",
              "      padding: 0 0 0 0;\n",
              "      width: 32px;\n",
              "    }\n",
              "\n",
              "    .colab-df-convert:hover {\n",
              "      background-color: #E2EBFA;\n",
              "      box-shadow: 0px 1px 2px rgba(60, 64, 67, 0.3), 0px 1px 3px 1px rgba(60, 64, 67, 0.15);\n",
              "      fill: #174EA6;\n",
              "    }\n",
              "\n",
              "    [theme=dark] .colab-df-convert {\n",
              "      background-color: #3B4455;\n",
              "      fill: #D2E3FC;\n",
              "    }\n",
              "\n",
              "    [theme=dark] .colab-df-convert:hover {\n",
              "      background-color: #434B5C;\n",
              "      box-shadow: 0px 1px 3px 1px rgba(0, 0, 0, 0.15);\n",
              "      filter: drop-shadow(0px 1px 2px rgba(0, 0, 0, 0.3));\n",
              "      fill: #FFFFFF;\n",
              "    }\n",
              "  </style>\n",
              "\n",
              "      <script>\n",
              "        const buttonEl =\n",
              "          document.querySelector('#df-abb48b3e-a5c4-4994-af26-fdc7bf1ca4c5 button.colab-df-convert');\n",
              "        buttonEl.style.display =\n",
              "          google.colab.kernel.accessAllowed ? 'block' : 'none';\n",
              "\n",
              "        async function convertToInteractive(key) {\n",
              "          const element = document.querySelector('#df-abb48b3e-a5c4-4994-af26-fdc7bf1ca4c5');\n",
              "          const dataTable =\n",
              "            await google.colab.kernel.invokeFunction('convertToInteractive',\n",
              "                                                     [key], {});\n",
              "          if (!dataTable) return;\n",
              "\n",
              "          const docLinkHtml = 'Like what you see? Visit the ' +\n",
              "            '<a target=\"_blank\" href=https://colab.research.google.com/notebooks/data_table.ipynb>data table notebook</a>'\n",
              "            + ' to learn more about interactive tables.';\n",
              "          element.innerHTML = '';\n",
              "          dataTable['output_type'] = 'display_data';\n",
              "          await google.colab.output.renderOutput(dataTable, element);\n",
              "          const docLink = document.createElement('div');\n",
              "          docLink.innerHTML = docLinkHtml;\n",
              "          element.appendChild(docLink);\n",
              "        }\n",
              "      </script>\n",
              "    </div>\n",
              "  </div>\n",
              "  "
            ],
            "text/plain": [
              "              Year  Adult_Mortality  ...   Schooling  Life_Expectancy\n",
              "count   182.000000       173.000000  ...  173.000000       173.000000\n",
              "mean   2014.890110       149.971098  ...   12.845665        72.007514\n",
              "std       0.457003        95.679846  ...    3.215180         8.032405\n",
              "min    2013.000000         1.000000  ...    0.000000        51.000000\n",
              "25%    2015.000000        74.000000  ...   10.800000        66.200000\n",
              "50%    2015.000000       137.000000  ...   13.100000        74.100000\n",
              "75%    2015.000000       199.000000  ...   15.000000        77.100000\n",
              "max    2015.000000       484.000000  ...   20.400000        88.000000\n",
              "\n",
              "[8 rows x 18 columns]"
            ]
          },
          "metadata": {},
          "execution_count": 6
        }
      ],
      "source": [
        "df_lifeExp.describe()"
      ]
    },
    {
      "cell_type": "code",
      "execution_count": 6,
      "metadata": {
        "id": "g0-OMfIBU5ik"
      },
      "outputs": [],
      "source": [
        ""
      ]
    },
    {
      "cell_type": "markdown",
      "metadata": {
        "id": "bHbkSLJ0U5ik"
      },
      "source": [
        "### Let's begin with some hands-on practice exercises"
      ]
    },
    {
      "cell_type": "markdown",
      "metadata": {
        "id": "wRJ1d8zdU5il"
      },
      "source": [
        "<a id=\"eda\"> </a>\n",
        "## 1. Data Preparation"
      ]
    },
    {
      "cell_type": "markdown",
      "metadata": {
        "collapsed": true,
        "id": "GGZRD6H4U5il"
      },
      "source": [
        "<table align=\"left\">\n",
        "    <tr>\n",
        "        <td width=\"6%\">\n",
        "            <img src=\"question_icon.png\">\n",
        "        </td>\n",
        "        <td>\n",
        "            <div align=\"left\", style=\"font-size:120%\">\n",
        "                <font color=\"#21618C\">\n",
        "                    <b>1. The dataset gives the life expectancy for different countries. Check if any information about life expectancy is missing from the given records. How do we fix the problem if present?</b>\n",
        "                </font>\n",
        "            </div>\n",
        "        </td>\n",
        "    </tr>\n",
        "</table>"
      ]
    },
    {
      "cell_type": "code",
      "execution_count": 7,
      "metadata": {
        "colab": {
          "base_uri": "https://localhost:8080/"
        },
        "id": "XnYigaLmU5im",
        "outputId": "db2956f2-ecff-4bc8-e811-1f161f19f17d"
      },
      "outputs": [
        {
          "output_type": "execute_result",
          "data": {
            "text/plain": [
              "9"
            ]
          },
          "metadata": {},
          "execution_count": 7
        }
      ],
      "source": [
        "df_lifeExp['Life_Expectancy'].isnull().sum()"
      ]
    },
    {
      "cell_type": "code",
      "execution_count": 8,
      "metadata": {
        "colab": {
          "base_uri": "https://localhost:8080/"
        },
        "id": "n-TUoxnZU5in",
        "outputId": "34ab5518-e27d-4443-92a4-52315c6289c6"
      },
      "outputs": [
        {
          "output_type": "execute_result",
          "data": {
            "text/plain": [
              "(182, 20)"
            ]
          },
          "metadata": {},
          "execution_count": 8
        }
      ],
      "source": [
        "df_lifeExp.shape"
      ]
    },
    {
      "cell_type": "code",
      "execution_count": 9,
      "metadata": {
        "colab": {
          "base_uri": "https://localhost:8080/"
        },
        "id": "ZCQMYeaxU5in",
        "outputId": "b9062592-f178-4342-9293-29d26bc75ce5"
      },
      "outputs": [
        {
          "output_type": "execute_result",
          "data": {
            "text/plain": [
              "(173, 20)"
            ]
          },
          "metadata": {},
          "execution_count": 9
        }
      ],
      "source": [
        "df_lifeExp.dropna(subset=['Life_Expectancy'],axis =0).shape"
      ]
    },
    {
      "cell_type": "code",
      "execution_count": 10,
      "metadata": {
        "id": "JtVZ7jBpU5io"
      },
      "outputs": [],
      "source": [
        "# Or we can do another method also."
      ]
    },
    {
      "cell_type": "code",
      "execution_count": 11,
      "metadata": {
        "id": "UhjU8pNCU5ip"
      },
      "outputs": [],
      "source": [
        "null = df_lifeExp['Life_Expectancy'].isnull()"
      ]
    },
    {
      "cell_type": "code",
      "execution_count": 12,
      "metadata": {
        "colab": {
          "base_uri": "https://localhost:8080/"
        },
        "id": "3yIefO5PU5ip",
        "outputId": "554a2c5a-0c0e-4881-b236-461048c88e83"
      },
      "outputs": [
        {
          "output_type": "execute_result",
          "data": {
            "text/plain": [
              "[46, 100, 104, 111, 118, 122, 135, 138, 168]"
            ]
          },
          "metadata": {},
          "execution_count": 12
        }
      ],
      "source": [
        "null_list = null.index[null==True].tolist()\n",
        "null_list"
      ]
    },
    {
      "cell_type": "code",
      "execution_count": 13,
      "metadata": {
        "id": "R4tK_VRMU5iq"
      },
      "outputs": [],
      "source": [
        "df_lifeExp.drop(df_lifeExp.index[null_list],inplace =True)"
      ]
    },
    {
      "cell_type": "code",
      "execution_count": 14,
      "metadata": {
        "colab": {
          "base_uri": "https://localhost:8080/"
        },
        "id": "pfwawHDBU5iq",
        "outputId": "13208d38-9c54-4c55-8fd0-59cdff3bbdbc"
      },
      "outputs": [
        {
          "output_type": "execute_result",
          "data": {
            "text/plain": [
              "(173, 20)"
            ]
          },
          "metadata": {},
          "execution_count": 14
        }
      ],
      "source": [
        "df_lifeExp.shape"
      ]
    },
    {
      "cell_type": "markdown",
      "metadata": {
        "collapsed": true,
        "id": "4-A0xDXqU5ir"
      },
      "source": [
        "<table align=\"left\">\n",
        "    <tr>\n",
        "        <td width=\"6%\">\n",
        "            <img src=\"question_icon.png\">\n",
        "        </td>\n",
        "        <td>\n",
        "            <div align=\"left\", style=\"font-size:120%\">\n",
        "                <font color=\"#21618C\">\n",
        "                    <b>2. How do we handle the missing values from the entire dataset?</b>\n",
        "                </font>\n",
        "            </div>\n",
        "        </td>\n",
        "    </tr>\n",
        "</table>"
      ]
    },
    {
      "cell_type": "code",
      "execution_count": 15,
      "metadata": {
        "id": "fKVGJaktU5ir"
      },
      "outputs": [],
      "source": [
        "total_null_counts = df_lifeExp.isnull().sum().sort_values(ascending =False)"
      ]
    },
    {
      "cell_type": "code",
      "execution_count": 16,
      "metadata": {
        "id": "Kejt-0xvU5is"
      },
      "outputs": [],
      "source": [
        "total_null_per = ((df_lifeExp.isnull().sum()/df_lifeExp.isnull().count())* 100).sort_values(ascending = False)"
      ]
    },
    {
      "cell_type": "code",
      "execution_count": 17,
      "metadata": {
        "colab": {
          "base_uri": "https://localhost:8080/",
          "height": 677
        },
        "id": "uQ4wTmQPU5is",
        "outputId": "527e928d-5cc3-4065-e43d-0dd9659c5802"
      },
      "outputs": [
        {
          "output_type": "execute_result",
          "data": {
            "text/html": [
              "\n",
              "  <div id=\"df-1af990b5-cf8a-4330-882c-b988cd36ca37\">\n",
              "    <div class=\"colab-df-container\">\n",
              "      <div>\n",
              "<style scoped>\n",
              "    .dataframe tbody tr th:only-of-type {\n",
              "        vertical-align: middle;\n",
              "    }\n",
              "\n",
              "    .dataframe tbody tr th {\n",
              "        vertical-align: top;\n",
              "    }\n",
              "\n",
              "    .dataframe thead th {\n",
              "        text-align: right;\n",
              "    }\n",
              "</style>\n",
              "<table border=\"1\" class=\"dataframe\">\n",
              "  <thead>\n",
              "    <tr style=\"text-align: right;\">\n",
              "      <th></th>\n",
              "      <th>total_null_counts</th>\n",
              "      <th>total_null_percentage</th>\n",
              "    </tr>\n",
              "  </thead>\n",
              "  <tbody>\n",
              "    <tr>\n",
              "      <th>Alcohol</th>\n",
              "      <td>166</td>\n",
              "      <td>95.953757</td>\n",
              "    </tr>\n",
              "    <tr>\n",
              "      <th>Population</th>\n",
              "      <td>34</td>\n",
              "      <td>19.653179</td>\n",
              "    </tr>\n",
              "    <tr>\n",
              "      <th>GDP</th>\n",
              "      <td>21</td>\n",
              "      <td>12.138728</td>\n",
              "    </tr>\n",
              "    <tr>\n",
              "      <th>Hepatitis B</th>\n",
              "      <td>9</td>\n",
              "      <td>5.202312</td>\n",
              "    </tr>\n",
              "    <tr>\n",
              "      <th>Schooling</th>\n",
              "      <td>7</td>\n",
              "      <td>4.046243</td>\n",
              "    </tr>\n",
              "    <tr>\n",
              "      <th>Income_Index</th>\n",
              "      <td>7</td>\n",
              "      <td>4.046243</td>\n",
              "    </tr>\n",
              "    <tr>\n",
              "      <th>Malnourished5_9</th>\n",
              "      <td>2</td>\n",
              "      <td>1.156069</td>\n",
              "    </tr>\n",
              "    <tr>\n",
              "      <th>Malnourished10_19</th>\n",
              "      <td>2</td>\n",
              "      <td>1.156069</td>\n",
              "    </tr>\n",
              "    <tr>\n",
              "      <th>BMI</th>\n",
              "      <td>2</td>\n",
              "      <td>1.156069</td>\n",
              "    </tr>\n",
              "    <tr>\n",
              "      <th>Country</th>\n",
              "      <td>0</td>\n",
              "      <td>0.000000</td>\n",
              "    </tr>\n",
              "    <tr>\n",
              "      <th>HIV</th>\n",
              "      <td>0</td>\n",
              "      <td>0.000000</td>\n",
              "    </tr>\n",
              "    <tr>\n",
              "      <th>Polio</th>\n",
              "      <td>0</td>\n",
              "      <td>0.000000</td>\n",
              "    </tr>\n",
              "    <tr>\n",
              "      <th>Diphtheria</th>\n",
              "      <td>0</td>\n",
              "      <td>0.000000</td>\n",
              "    </tr>\n",
              "    <tr>\n",
              "      <th>Year</th>\n",
              "      <td>0</td>\n",
              "      <td>0.000000</td>\n",
              "    </tr>\n",
              "    <tr>\n",
              "      <th>Underfive_Deaths</th>\n",
              "      <td>0</td>\n",
              "      <td>0.000000</td>\n",
              "    </tr>\n",
              "    <tr>\n",
              "      <th>Measles</th>\n",
              "      <td>0</td>\n",
              "      <td>0.000000</td>\n",
              "    </tr>\n",
              "    <tr>\n",
              "      <th>Infant_Deaths</th>\n",
              "      <td>0</td>\n",
              "      <td>0.000000</td>\n",
              "    </tr>\n",
              "    <tr>\n",
              "      <th>Adult_Mortality</th>\n",
              "      <td>0</td>\n",
              "      <td>0.000000</td>\n",
              "    </tr>\n",
              "    <tr>\n",
              "      <th>Status</th>\n",
              "      <td>0</td>\n",
              "      <td>0.000000</td>\n",
              "    </tr>\n",
              "    <tr>\n",
              "      <th>Life_Expectancy</th>\n",
              "      <td>0</td>\n",
              "      <td>0.000000</td>\n",
              "    </tr>\n",
              "  </tbody>\n",
              "</table>\n",
              "</div>\n",
              "      <button class=\"colab-df-convert\" onclick=\"convertToInteractive('df-1af990b5-cf8a-4330-882c-b988cd36ca37')\"\n",
              "              title=\"Convert this dataframe to an interactive table.\"\n",
              "              style=\"display:none;\">\n",
              "        \n",
              "  <svg xmlns=\"http://www.w3.org/2000/svg\" height=\"24px\"viewBox=\"0 0 24 24\"\n",
              "       width=\"24px\">\n",
              "    <path d=\"M0 0h24v24H0V0z\" fill=\"none\"/>\n",
              "    <path d=\"M18.56 5.44l.94 2.06.94-2.06 2.06-.94-2.06-.94-.94-2.06-.94 2.06-2.06.94zm-11 1L8.5 8.5l.94-2.06 2.06-.94-2.06-.94L8.5 2.5l-.94 2.06-2.06.94zm10 10l.94 2.06.94-2.06 2.06-.94-2.06-.94-.94-2.06-.94 2.06-2.06.94z\"/><path d=\"M17.41 7.96l-1.37-1.37c-.4-.4-.92-.59-1.43-.59-.52 0-1.04.2-1.43.59L10.3 9.45l-7.72 7.72c-.78.78-.78 2.05 0 2.83L4 21.41c.39.39.9.59 1.41.59.51 0 1.02-.2 1.41-.59l7.78-7.78 2.81-2.81c.8-.78.8-2.07 0-2.86zM5.41 20L4 18.59l7.72-7.72 1.47 1.35L5.41 20z\"/>\n",
              "  </svg>\n",
              "      </button>\n",
              "      \n",
              "  <style>\n",
              "    .colab-df-container {\n",
              "      display:flex;\n",
              "      flex-wrap:wrap;\n",
              "      gap: 12px;\n",
              "    }\n",
              "\n",
              "    .colab-df-convert {\n",
              "      background-color: #E8F0FE;\n",
              "      border: none;\n",
              "      border-radius: 50%;\n",
              "      cursor: pointer;\n",
              "      display: none;\n",
              "      fill: #1967D2;\n",
              "      height: 32px;\n",
              "      padding: 0 0 0 0;\n",
              "      width: 32px;\n",
              "    }\n",
              "\n",
              "    .colab-df-convert:hover {\n",
              "      background-color: #E2EBFA;\n",
              "      box-shadow: 0px 1px 2px rgba(60, 64, 67, 0.3), 0px 1px 3px 1px rgba(60, 64, 67, 0.15);\n",
              "      fill: #174EA6;\n",
              "    }\n",
              "\n",
              "    [theme=dark] .colab-df-convert {\n",
              "      background-color: #3B4455;\n",
              "      fill: #D2E3FC;\n",
              "    }\n",
              "\n",
              "    [theme=dark] .colab-df-convert:hover {\n",
              "      background-color: #434B5C;\n",
              "      box-shadow: 0px 1px 3px 1px rgba(0, 0, 0, 0.15);\n",
              "      filter: drop-shadow(0px 1px 2px rgba(0, 0, 0, 0.3));\n",
              "      fill: #FFFFFF;\n",
              "    }\n",
              "  </style>\n",
              "\n",
              "      <script>\n",
              "        const buttonEl =\n",
              "          document.querySelector('#df-1af990b5-cf8a-4330-882c-b988cd36ca37 button.colab-df-convert');\n",
              "        buttonEl.style.display =\n",
              "          google.colab.kernel.accessAllowed ? 'block' : 'none';\n",
              "\n",
              "        async function convertToInteractive(key) {\n",
              "          const element = document.querySelector('#df-1af990b5-cf8a-4330-882c-b988cd36ca37');\n",
              "          const dataTable =\n",
              "            await google.colab.kernel.invokeFunction('convertToInteractive',\n",
              "                                                     [key], {});\n",
              "          if (!dataTable) return;\n",
              "\n",
              "          const docLinkHtml = 'Like what you see? Visit the ' +\n",
              "            '<a target=\"_blank\" href=https://colab.research.google.com/notebooks/data_table.ipynb>data table notebook</a>'\n",
              "            + ' to learn more about interactive tables.';\n",
              "          element.innerHTML = '';\n",
              "          dataTable['output_type'] = 'display_data';\n",
              "          await google.colab.output.renderOutput(dataTable, element);\n",
              "          const docLink = document.createElement('div');\n",
              "          docLink.innerHTML = docLinkHtml;\n",
              "          element.appendChild(docLink);\n",
              "        }\n",
              "      </script>\n",
              "    </div>\n",
              "  </div>\n",
              "  "
            ],
            "text/plain": [
              "                   total_null_counts  total_null_percentage\n",
              "Alcohol                          166              95.953757\n",
              "Population                        34              19.653179\n",
              "GDP                               21              12.138728\n",
              "Hepatitis B                        9               5.202312\n",
              "Schooling                          7               4.046243\n",
              "Income_Index                       7               4.046243\n",
              "Malnourished5_9                    2               1.156069\n",
              "Malnourished10_19                  2               1.156069\n",
              "BMI                                2               1.156069\n",
              "Country                            0               0.000000\n",
              "HIV                                0               0.000000\n",
              "Polio                              0               0.000000\n",
              "Diphtheria                         0               0.000000\n",
              "Year                               0               0.000000\n",
              "Underfive_Deaths                   0               0.000000\n",
              "Measles                            0               0.000000\n",
              "Infant_Deaths                      0               0.000000\n",
              "Adult_Mortality                    0               0.000000\n",
              "Status                             0               0.000000\n",
              "Life_Expectancy                    0               0.000000"
            ]
          },
          "metadata": {},
          "execution_count": 17
        }
      ],
      "source": [
        "df_null_data = pd.concat([total_null_counts,total_null_per],axis =1,keys =['total_null_counts','total_null_percentage'])\n",
        "df_null_data"
      ]
    },
    {
      "cell_type": "code",
      "execution_count": 18,
      "metadata": {
        "id": "tZqdFjDJU5it"
      },
      "outputs": [],
      "source": [
        "# as we see that alcohol data is 95% null values so we cant able to do anything so drop the feature."
      ]
    },
    {
      "cell_type": "code",
      "execution_count": 19,
      "metadata": {
        "id": "m12lx5edU5it"
      },
      "outputs": [],
      "source": [
        "df_lifeExp = df_lifeExp.drop(\"Alcohol\",axis=1)"
      ]
    },
    {
      "cell_type": "code",
      "execution_count": 20,
      "metadata": {
        "id": "lynCA9gMU5iu"
      },
      "outputs": [],
      "source": [
        "# And check the distribution of the features for imputing the null values. "
      ]
    },
    {
      "cell_type": "code",
      "execution_count": 21,
      "metadata": {
        "colab": {
          "base_uri": "https://localhost:8080/",
          "height": 585
        },
        "id": "nVbLNv_-U5iu",
        "outputId": "ede88496-4097-4656-d8e3-749a921635af"
      },
      "outputs": [
        {
          "output_type": "display_data",
          "data": {
            "image/png": "[encoded data removed]",
            "text/plain": [
              "<Figure size 1080x576 with 9 Axes>"
            ]
          },
          "metadata": {
            "needs_background": "light"
          }
        }
      ],
      "source": [
        "df_lifeExp[['Hepatitis B','BMI','GDP','Population','Malnourished10_19',\n",
        "                                'Malnourished5_9','Income_Index','Schooling']].hist(bins=20,figsize=(15,8))\n",
        "plt.tight_layout()\n",
        "plt.show()"
      ]
    },
    {
      "cell_type": "code",
      "execution_count": 22,
      "metadata": {
        "id": "MweXbaYQU5iu"
      },
      "outputs": [],
      "source": [
        "# impute skewed variables with median\n",
        "\n",
        "# impute for variable 'GDP'\n",
        "df_lifeExp['GDP'] = df_lifeExp['GDP'].fillna(df_lifeExp['GDP'].median())\n",
        "\n",
        "# impute for variable 'Hepatitis B'\n",
        "df_lifeExp['Hepatitis B'] = df_lifeExp['Hepatitis B'].fillna(df_lifeExp['Hepatitis B'].median())\n",
        "\n",
        "\n",
        "# impute for variable 'Malnourished10_19'\n",
        "df_lifeExp['Malnourished10_19'] = df_lifeExp['Malnourished10_19'].fillna(df_lifeExp['Malnourished10_19'].median())\n",
        "\n",
        "\n",
        "# impute for variable 'Malnourished5_9'\n",
        "df_lifeExp['Malnourished5_9'] = df_lifeExp['Malnourished5_9'].fillna(df_lifeExp['Malnourished5_9'].median())\n",
        "\n",
        "\n",
        "# impute for variable 'Population'\n",
        "df_lifeExp['Population'] = df_lifeExp['Population'].fillna(df_lifeExp['Population'].median())"
      ]
    },
    {
      "cell_type": "code",
      "execution_count": 23,
      "metadata": {
        "id": "p4pbymsCU5iv"
      },
      "outputs": [],
      "source": [
        "# impute remaining variables with mean \n",
        "\n",
        "# impute for variable 'BMI'\n",
        "df_lifeExp['BMI'] = df_lifeExp['BMI'].fillna(df_lifeExp['BMI'].mean())\n",
        "\n",
        "# impute for variable 'Income_Index'\n",
        "df_lifeExp['Income_Index'] = df_lifeExp['Income_Index'].fillna(df_lifeExp['Income_Index'].mean())\n",
        "\n",
        "# impute for variable 'Schooling' \n",
        "df_lifeExp['Schooling'] = df_lifeExp['Schooling'].fillna(df_lifeExp['Schooling'].mean())"
      ]
    },
    {
      "cell_type": "code",
      "execution_count": 24,
      "metadata": {
        "colab": {
          "base_uri": "https://localhost:8080/"
        },
        "id": "yzMYwPpRU5iv",
        "outputId": "72840f04-e2fa-4255-d9e5-a52e07640d9f"
      },
      "outputs": [
        {
          "output_type": "execute_result",
          "data": {
            "text/plain": [
              "Country              0\n",
              "Year                 0\n",
              "Status               0\n",
              "Adult_Mortality      0\n",
              "Infant_Deaths        0\n",
              "Hepatitis B          0\n",
              "Measles              0\n",
              "BMI                  0\n",
              "Underfive_Deaths     0\n",
              "Polio                0\n",
              "Diphtheria           0\n",
              "HIV                  0\n",
              "GDP                  0\n",
              "Population           0\n",
              "Malnourished10_19    0\n",
              "Malnourished5_9      0\n",
              "Income_Index         0\n",
              "Schooling            0\n",
              "Life_Expectancy      0\n",
              "dtype: int64"
            ]
          },
          "metadata": {},
          "execution_count": 24
        }
      ],
      "source": [
        "df_lifeExp.isnull().sum()"
      ]
    },
    {
      "cell_type": "markdown",
      "metadata": {
        "collapsed": true,
        "id": "mv-0q41qU5iw"
      },
      "source": [
        "<table align=\"left\">\n",
        "    <tr>\n",
        "        <td width=\"6%\">\n",
        "            <img src=\"question_icon.png\">\n",
        "        </td>\n",
        "        <td>\n",
        "            <div align=\"left\", style=\"font-size:120%\">\n",
        "                <font color=\"#21618C\">\n",
        "                    <b>3. Are there any redundant features in the data?</b>\n",
        "                </font>\n",
        "            </div>\n",
        "        </td>\n",
        "    </tr>\n",
        "</table>"
      ]
    },
    {
      "cell_type": "code",
      "execution_count": 25,
      "metadata": {
        "colab": {
          "base_uri": "https://localhost:8080/",
          "height": 382
        },
        "id": "y1YVUIPhU5iw",
        "outputId": "3149e60b-ce23-4efc-de66-2d70bda70625"
      },
      "outputs": [
        {
          "output_type": "execute_result",
          "data": {
            "text/html": [
              "\n",
              "  <div id=\"df-c949458e-09dc-4188-b343-278eb9fdc68e\">\n",
              "    <div class=\"colab-df-container\">\n",
              "      <div>\n",
              "<style scoped>\n",
              "    .dataframe tbody tr th:only-of-type {\n",
              "        vertical-align: middle;\n",
              "    }\n",
              "\n",
              "    .dataframe tbody tr th {\n",
              "        vertical-align: top;\n",
              "    }\n",
              "\n",
              "    .dataframe thead th {\n",
              "        text-align: right;\n",
              "    }\n",
              "</style>\n",
              "<table border=\"1\" class=\"dataframe\">\n",
              "  <thead>\n",
              "    <tr style=\"text-align: right;\">\n",
              "      <th></th>\n",
              "      <th>Year</th>\n",
              "      <th>Adult_Mortality</th>\n",
              "      <th>Infant_Deaths</th>\n",
              "      <th>Hepatitis B</th>\n",
              "      <th>Measles</th>\n",
              "      <th>BMI</th>\n",
              "      <th>Underfive_Deaths</th>\n",
              "      <th>Polio</th>\n",
              "      <th>Diphtheria</th>\n",
              "      <th>HIV</th>\n",
              "      <th>GDP</th>\n",
              "      <th>Population</th>\n",
              "      <th>Malnourished10_19</th>\n",
              "      <th>Malnourished5_9</th>\n",
              "      <th>Income_Index</th>\n",
              "      <th>Schooling</th>\n",
              "      <th>Life_Expectancy</th>\n",
              "    </tr>\n",
              "  </thead>\n",
              "  <tbody>\n",
              "    <tr>\n",
              "      <th>count</th>\n",
              "      <td>173.000000</td>\n",
              "      <td>173.000000</td>\n",
              "      <td>173.000000</td>\n",
              "      <td>173.000000</td>\n",
              "      <td>173.000000</td>\n",
              "      <td>173.000000</td>\n",
              "      <td>173.000000</td>\n",
              "      <td>173.000000</td>\n",
              "      <td>173.000000</td>\n",
              "      <td>173.000000</td>\n",
              "      <td>173.000000</td>\n",
              "      <td>1.730000e+02</td>\n",
              "      <td>173.000000</td>\n",
              "      <td>173.000000</td>\n",
              "      <td>173.000000</td>\n",
              "      <td>173.000000</td>\n",
              "      <td>173.000000</td>\n",
              "    </tr>\n",
              "    <tr>\n",
              "      <th>mean</th>\n",
              "      <td>2014.988439</td>\n",
              "      <td>149.971098</td>\n",
              "      <td>22.872832</td>\n",
              "      <td>82.716763</td>\n",
              "      <td>1559.208092</td>\n",
              "      <td>43.466667</td>\n",
              "      <td>30.352601</td>\n",
              "      <td>83.040462</td>\n",
              "      <td>84.508671</td>\n",
              "      <td>0.647399</td>\n",
              "      <td>6764.134560</td>\n",
              "      <td>9.663690e+06</td>\n",
              "      <td>4.492486</td>\n",
              "      <td>4.539306</td>\n",
              "      <td>0.695627</td>\n",
              "      <td>12.995783</td>\n",
              "      <td>72.007514</td>\n",
              "    </tr>\n",
              "    <tr>\n",
              "      <th>std</th>\n",
              "      <td>0.152057</td>\n",
              "      <td>95.679846</td>\n",
              "      <td>84.268577</td>\n",
              "      <td>24.066903</td>\n",
              "      <td>8055.443243</td>\n",
              "      <td>20.378109</td>\n",
              "      <td>108.428722</td>\n",
              "      <td>24.833951</td>\n",
              "      <td>22.687364</td>\n",
              "      <td>1.361795</td>\n",
              "      <td>11095.340318</td>\n",
              "      <td>2.650522e+07</td>\n",
              "      <td>4.131178</td>\n",
              "      <td>4.217814</td>\n",
              "      <td>0.150721</td>\n",
              "      <td>2.879849</td>\n",
              "      <td>8.032405</td>\n",
              "    </tr>\n",
              "    <tr>\n",
              "      <th>min</th>\n",
              "      <td>2013.000000</td>\n",
              "      <td>1.000000</td>\n",
              "      <td>0.000000</td>\n",
              "      <td>6.000000</td>\n",
              "      <td>0.000000</td>\n",
              "      <td>2.500000</td>\n",
              "      <td>0.000000</td>\n",
              "      <td>5.000000</td>\n",
              "      <td>6.000000</td>\n",
              "      <td>0.100000</td>\n",
              "      <td>33.681223</td>\n",
              "      <td>2.966000e+03</td>\n",
              "      <td>0.100000</td>\n",
              "      <td>0.100000</td>\n",
              "      <td>0.347000</td>\n",
              "      <td>4.900000</td>\n",
              "      <td>51.000000</td>\n",
              "    </tr>\n",
              "    <tr>\n",
              "      <th>25%</th>\n",
              "      <td>2015.000000</td>\n",
              "      <td>74.000000</td>\n",
              "      <td>0.000000</td>\n",
              "      <td>81.000000</td>\n",
              "      <td>0.000000</td>\n",
              "      <td>24.400000</td>\n",
              "      <td>0.000000</td>\n",
              "      <td>84.000000</td>\n",
              "      <td>84.000000</td>\n",
              "      <td>0.100000</td>\n",
              "      <td>918.677154</td>\n",
              "      <td>5.874820e+05</td>\n",
              "      <td>1.500000</td>\n",
              "      <td>1.500000</td>\n",
              "      <td>0.576000</td>\n",
              "      <td>11.100000</td>\n",
              "      <td>66.200000</td>\n",
              "    </tr>\n",
              "    <tr>\n",
              "      <th>50%</th>\n",
              "      <td>2015.000000</td>\n",
              "      <td>137.000000</td>\n",
              "      <td>2.000000</td>\n",
              "      <td>93.000000</td>\n",
              "      <td>16.000000</td>\n",
              "      <td>51.000000</td>\n",
              "      <td>3.000000</td>\n",
              "      <td>93.000000</td>\n",
              "      <td>94.000000</td>\n",
              "      <td>0.100000</td>\n",
              "      <td>3124.343998</td>\n",
              "      <td>2.174645e+06</td>\n",
              "      <td>3.300000</td>\n",
              "      <td>3.300000</td>\n",
              "      <td>0.723000</td>\n",
              "      <td>13.100000</td>\n",
              "      <td>74.100000</td>\n",
              "    </tr>\n",
              "    <tr>\n",
              "      <th>75%</th>\n",
              "      <td>2015.000000</td>\n",
              "      <td>199.000000</td>\n",
              "      <td>17.000000</td>\n",
              "      <td>97.000000</td>\n",
              "      <td>212.000000</td>\n",
              "      <td>61.600000</td>\n",
              "      <td>21.000000</td>\n",
              "      <td>97.000000</td>\n",
              "      <td>97.000000</td>\n",
              "      <td>0.300000</td>\n",
              "      <td>6461.192554</td>\n",
              "      <td>7.177991e+06</td>\n",
              "      <td>6.400000</td>\n",
              "      <td>6.400000</td>\n",
              "      <td>0.798000</td>\n",
              "      <td>15.000000</td>\n",
              "      <td>77.100000</td>\n",
              "    </tr>\n",
              "    <tr>\n",
              "      <th>max</th>\n",
              "      <td>2015.000000</td>\n",
              "      <td>484.000000</td>\n",
              "      <td>910.000000</td>\n",
              "      <td>99.000000</td>\n",
              "      <td>90387.000000</td>\n",
              "      <td>77.600000</td>\n",
              "      <td>1100.000000</td>\n",
              "      <td>99.000000</td>\n",
              "      <td>99.000000</td>\n",
              "      <td>9.300000</td>\n",
              "      <td>66346.522670</td>\n",
              "      <td>2.581621e+08</td>\n",
              "      <td>26.700000</td>\n",
              "      <td>27.300000</td>\n",
              "      <td>0.948000</td>\n",
              "      <td>20.400000</td>\n",
              "      <td>88.000000</td>\n",
              "    </tr>\n",
              "  </tbody>\n",
              "</table>\n",
              "</div>\n",
              "      <button class=\"colab-df-convert\" onclick=\"convertToInteractive('df-c949458e-09dc-4188-b343-278eb9fdc68e')\"\n",
              "              title=\"Convert this dataframe to an interactive table.\"\n",
              "              style=\"display:none;\">\n",
              "        \n",
              "  <svg xmlns=\"http://www.w3.org/2000/svg\" height=\"24px\"viewBox=\"0 0 24 24\"\n",
              "       width=\"24px\">\n",
              "    <path d=\"M0 0h24v24H0V0z\" fill=\"none\"/>\n",
              "    <path d=\"M18.56 5.44l.94 2.06.94-2.06 2.06-.94-2.06-.94-.94-2.06-.94 2.06-2.06.94zm-11 1L8.5 8.5l.94-2.06 2.06-.94-2.06-.94L8.5 2.5l-.94 2.06-2.06.94zm10 10l.94 2.06.94-2.06 2.06-.94-2.06-.94-.94-2.06-.94 2.06-2.06.94z\"/><path d=\"M17.41 7.96l-1.37-1.37c-.4-.4-.92-.59-1.43-.59-.52 0-1.04.2-1.43.59L10.3 9.45l-7.72 7.72c-.78.78-.78 2.05 0 2.83L4 21.41c.39.39.9.59 1.41.59.51 0 1.02-.2 1.41-.59l7.78-7.78 2.81-2.81c.8-.78.8-2.07 0-2.86zM5.41 20L4 18.59l7.72-7.72 1.47 1.35L5.41 20z\"/>\n",
              "  </svg>\n",
              "      </button>\n",
              "      \n",
              "  <style>\n",
              "    .colab-df-container {\n",
              "      display:flex;\n",
              "      flex-wrap:wrap;\n",
              "      gap: 12px;\n",
              "    }\n",
              "\n",
              "    .colab-df-convert {\n",
              "      background-color: #E8F0FE;\n",
              "      border: none;\n",
              "      border-radius: 50%;\n",
              "      cursor: pointer;\n",
              "      display: none;\n",
              "      fill: #1967D2;\n",
              "      height: 32px;\n",
              "      padding: 0 0 0 0;\n",
              "      width: 32px;\n",
              "    }\n",
              "\n",
              "    .colab-df-convert:hover {\n",
              "      background-color: #E2EBFA;\n",
              "      box-shadow: 0px 1px 2px rgba(60, 64, 67, 0.3), 0px 1px 3px 1px rgba(60, 64, 67, 0.15);\n",
              "      fill: #174EA6;\n",
              "    }\n",
              "\n",
              "    [theme=dark] .colab-df-convert {\n",
              "      background-color: #3B4455;\n",
              "      fill: #D2E3FC;\n",
              "    }\n",
              "\n",
              "    [theme=dark] .colab-df-convert:hover {\n",
              "      background-color: #434B5C;\n",
              "      box-shadow: 0px 1px 3px 1px rgba(0, 0, 0, 0.15);\n",
              "      filter: drop-shadow(0px 1px 2px rgba(0, 0, 0, 0.3));\n",
              "      fill: #FFFFFF;\n",
              "    }\n",
              "  </style>\n",
              "\n",
              "      <script>\n",
              "        const buttonEl =\n",
              "          document.querySelector('#df-c949458e-09dc-4188-b343-278eb9fdc68e button.colab-df-convert');\n",
              "        buttonEl.style.display =\n",
              "          google.colab.kernel.accessAllowed ? 'block' : 'none';\n",
              "\n",
              "        async function convertToInteractive(key) {\n",
              "          const element = document.querySelector('#df-c949458e-09dc-4188-b343-278eb9fdc68e');\n",
              "          const dataTable =\n",
              "            await google.colab.kernel.invokeFunction('convertToInteractive',\n",
              "                                                     [key], {});\n",
              "          if (!dataTable) return;\n",
              "\n",
              "          const docLinkHtml = 'Like what you see? Visit the ' +\n",
              "            '<a target=\"_blank\" href=https://colab.research.google.com/notebooks/data_table.ipynb>data table notebook</a>'\n",
              "            + ' to learn more about interactive tables.';\n",
              "          element.innerHTML = '';\n",
              "          dataTable['output_type'] = 'display_data';\n",
              "          await google.colab.output.renderOutput(dataTable, element);\n",
              "          const docLink = document.createElement('div');\n",
              "          docLink.innerHTML = docLinkHtml;\n",
              "          element.appendChild(docLink);\n",
              "        }\n",
              "      </script>\n",
              "    </div>\n",
              "  </div>\n",
              "  "
            ],
            "text/plain": [
              "              Year  Adult_Mortality  ...   Schooling  Life_Expectancy\n",
              "count   173.000000       173.000000  ...  173.000000       173.000000\n",
              "mean   2014.988439       149.971098  ...   12.995783        72.007514\n",
              "std       0.152057        95.679846  ...    2.879849         8.032405\n",
              "min    2013.000000         1.000000  ...    4.900000        51.000000\n",
              "25%    2015.000000        74.000000  ...   11.100000        66.200000\n",
              "50%    2015.000000       137.000000  ...   13.100000        74.100000\n",
              "75%    2015.000000       199.000000  ...   15.000000        77.100000\n",
              "max    2015.000000       484.000000  ...   20.400000        88.000000\n",
              "\n",
              "[8 rows x 17 columns]"
            ]
          },
          "metadata": {},
          "execution_count": 25
        }
      ],
      "source": [
        "df_lifeExp.describe()"
      ]
    },
    {
      "cell_type": "code",
      "execution_count": 26,
      "metadata": {
        "id": "vIDKSUxvU5ix"
      },
      "outputs": [],
      "source": [
        "# We can see that year feature's standardiviation is very low and and see that 1st,2nd and 3rd quartile are same so we can\n",
        "# drop the year the feature."
      ]
    },
    {
      "cell_type": "code",
      "execution_count": 27,
      "metadata": {
        "colab": {
          "base_uri": "https://localhost:8080/"
        },
        "id": "4v-1tP3JU5ix",
        "outputId": "332bd627-73c1-4de3-b094-a7377935d4f3"
      },
      "outputs": [
        {
          "output_type": "execute_result",
          "data": {
            "text/plain": [
              "2015    172\n",
              "2013      1\n",
              "Name: Year, dtype: int64"
            ]
          },
          "metadata": {},
          "execution_count": 27
        }
      ],
      "source": [
        "df_lifeExp['Year'].value_counts()"
      ]
    },
    {
      "cell_type": "code",
      "execution_count": 28,
      "metadata": {
        "id": "dQj8mcxSU5ix"
      },
      "outputs": [],
      "source": [
        "# see now only entry is 2013 so we can drop the column."
      ]
    },
    {
      "cell_type": "code",
      "execution_count": 29,
      "metadata": {
        "id": "zC0MvbZJU5iy"
      },
      "outputs": [],
      "source": [
        "df_lifeExp.drop('Year',axis=1,inplace = True)"
      ]
    },
    {
      "cell_type": "code",
      "execution_count": 30,
      "metadata": {
        "colab": {
          "base_uri": "https://localhost:8080/",
          "height": 175
        },
        "id": "IXJEQm_vU5iy",
        "outputId": "6c3ca44c-ac7f-438d-8b6a-f31eb6470b7a"
      },
      "outputs": [
        {
          "output_type": "execute_result",
          "data": {
            "text/html": [
              "\n",
              "  <div id=\"df-a46c8f89-cc73-48c7-92fa-61ce108277d7\">\n",
              "    <div class=\"colab-df-container\">\n",
              "      <div>\n",
              "<style scoped>\n",
              "    .dataframe tbody tr th:only-of-type {\n",
              "        vertical-align: middle;\n",
              "    }\n",
              "\n",
              "    .dataframe tbody tr th {\n",
              "        vertical-align: top;\n",
              "    }\n",
              "\n",
              "    .dataframe thead th {\n",
              "        text-align: right;\n",
              "    }\n",
              "</style>\n",
              "<table border=\"1\" class=\"dataframe\">\n",
              "  <thead>\n",
              "    <tr style=\"text-align: right;\">\n",
              "      <th></th>\n",
              "      <th>Country</th>\n",
              "      <th>Status</th>\n",
              "    </tr>\n",
              "  </thead>\n",
              "  <tbody>\n",
              "    <tr>\n",
              "      <th>count</th>\n",
              "      <td>173</td>\n",
              "      <td>173</td>\n",
              "    </tr>\n",
              "    <tr>\n",
              "      <th>unique</th>\n",
              "      <td>173</td>\n",
              "      <td>2</td>\n",
              "    </tr>\n",
              "    <tr>\n",
              "      <th>top</th>\n",
              "      <td>Afghanistan</td>\n",
              "      <td>Developing</td>\n",
              "    </tr>\n",
              "    <tr>\n",
              "      <th>freq</th>\n",
              "      <td>1</td>\n",
              "      <td>141</td>\n",
              "    </tr>\n",
              "  </tbody>\n",
              "</table>\n",
              "</div>\n",
              "      <button class=\"colab-df-convert\" onclick=\"convertToInteractive('df-a46c8f89-cc73-48c7-92fa-61ce108277d7')\"\n",
              "              title=\"Convert this dataframe to an interactive table.\"\n",
              "              style=\"display:none;\">\n",
              "        \n",
              "  <svg xmlns=\"http://www.w3.org/2000/svg\" height=\"24px\"viewBox=\"0 0 24 24\"\n",
              "       width=\"24px\">\n",
              "    <path d=\"M0 0h24v24H0V0z\" fill=\"none\"/>\n",
              "    <path d=\"M18.56 5.44l.94 2.06.94-2.06 2.06-.94-2.06-.94-.94-2.06-.94 2.06-2.06.94zm-11 1L8.5 8.5l.94-2.06 2.06-.94-2.06-.94L8.5 2.5l-.94 2.06-2.06.94zm10 10l.94 2.06.94-2.06 2.06-.94-2.06-.94-.94-2.06-.94 2.06-2.06.94z\"/><path d=\"M17.41 7.96l-1.37-1.37c-.4-.4-.92-.59-1.43-.59-.52 0-1.04.2-1.43.59L10.3 9.45l-7.72 7.72c-.78.78-.78 2.05 0 2.83L4 21.41c.39.39.9.59 1.41.59.51 0 1.02-.2 1.41-.59l7.78-7.78 2.81-2.81c.8-.78.8-2.07 0-2.86zM5.41 20L4 18.59l7.72-7.72 1.47 1.35L5.41 20z\"/>\n",
              "  </svg>\n",
              "      </button>\n",
              "      \n",
              "  <style>\n",
              "    .colab-df-container {\n",
              "      display:flex;\n",
              "      flex-wrap:wrap;\n",
              "      gap: 12px;\n",
              "    }\n",
              "\n",
              "    .colab-df-convert {\n",
              "      background-color: #E8F0FE;\n",
              "      border: none;\n",
              "      border-radius: 50%;\n",
              "      cursor: pointer;\n",
              "      display: none;\n",
              "      fill: #1967D2;\n",
              "      height: 32px;\n",
              "      padding: 0 0 0 0;\n",
              "      width: 32px;\n",
              "    }\n",
              "\n",
              "    .colab-df-convert:hover {\n",
              "      background-color: #E2EBFA;\n",
              "      box-shadow: 0px 1px 2px rgba(60, 64, 67, 0.3), 0px 1px 3px 1px rgba(60, 64, 67, 0.15);\n",
              "      fill: #174EA6;\n",
              "    }\n",
              "\n",
              "    [theme=dark] .colab-df-convert {\n",
              "      background-color: #3B4455;\n",
              "      fill: #D2E3FC;\n",
              "    }\n",
              "\n",
              "    [theme=dark] .colab-df-convert:hover {\n",
              "      background-color: #434B5C;\n",
              "      box-shadow: 0px 1px 3px 1px rgba(0, 0, 0, 0.15);\n",
              "      filter: drop-shadow(0px 1px 2px rgba(0, 0, 0, 0.3));\n",
              "      fill: #FFFFFF;\n",
              "    }\n",
              "  </style>\n",
              "\n",
              "      <script>\n",
              "        const buttonEl =\n",
              "          document.querySelector('#df-a46c8f89-cc73-48c7-92fa-61ce108277d7 button.colab-df-convert');\n",
              "        buttonEl.style.display =\n",
              "          google.colab.kernel.accessAllowed ? 'block' : 'none';\n",
              "\n",
              "        async function convertToInteractive(key) {\n",
              "          const element = document.querySelector('#df-a46c8f89-cc73-48c7-92fa-61ce108277d7');\n",
              "          const dataTable =\n",
              "            await google.colab.kernel.invokeFunction('convertToInteractive',\n",
              "                                                     [key], {});\n",
              "          if (!dataTable) return;\n",
              "\n",
              "          const docLinkHtml = 'Like what you see? Visit the ' +\n",
              "            '<a target=\"_blank\" href=https://colab.research.google.com/notebooks/data_table.ipynb>data table notebook</a>'\n",
              "            + ' to learn more about interactive tables.';\n",
              "          element.innerHTML = '';\n",
              "          dataTable['output_type'] = 'display_data';\n",
              "          await google.colab.output.renderOutput(dataTable, element);\n",
              "          const docLink = document.createElement('div');\n",
              "          docLink.innerHTML = docLinkHtml;\n",
              "          element.appendChild(docLink);\n",
              "        }\n",
              "      </script>\n",
              "    </div>\n",
              "  </div>\n",
              "  "
            ],
            "text/plain": [
              "            Country      Status\n",
              "count           173         173\n",
              "unique          173           2\n",
              "top     Afghanistan  Developing\n",
              "freq              1         141"
            ]
          },
          "metadata": {},
          "execution_count": 30
        }
      ],
      "source": [
        "df_lifeExp.describe(include=object)"
      ]
    },
    {
      "cell_type": "code",
      "execution_count": 31,
      "metadata": {
        "id": "aZlMMJqdU5iy"
      },
      "outputs": [],
      "source": [
        "# We see that the Country variable has all unique countries so we can drop the feature."
      ]
    },
    {
      "cell_type": "code",
      "execution_count": 32,
      "metadata": {
        "id": "Hiss3RFKU5iz"
      },
      "outputs": [],
      "source": [
        "df_lifeExp.drop('Country',axis=1,inplace=True)"
      ]
    },
    {
      "cell_type": "raw",
      "metadata": {
        "id": "JvBsMlAYU5iz"
      },
      "source": [
        "#The variable Underfive_Deaths gives the number of deaths for age group 0-5 which includes the age group 0-1,\n",
        "#hence we can eliminate the variable Infant_Deaths as it provides no new information."
      ]
    },
    {
      "cell_type": "code",
      "execution_count": 33,
      "metadata": {
        "id": "GnZnaxm5U5iz"
      },
      "outputs": [],
      "source": [
        "df_lifeExp = df_lifeExp.drop(\"Infant_Deaths\",axis=1)"
      ]
    },
    {
      "cell_type": "code",
      "execution_count": 34,
      "metadata": {
        "colab": {
          "base_uri": "https://localhost:8080/"
        },
        "id": "6yYOlMthU5i0",
        "outputId": "568948fa-99d9-411a-a585-04b7bac98d08"
      },
      "outputs": [
        {
          "output_type": "execute_result",
          "data": {
            "text/plain": [
              "(173, 16)"
            ]
          },
          "metadata": {},
          "execution_count": 34
        }
      ],
      "source": [
        "df_lifeExp.shape"
      ]
    },
    {
      "cell_type": "code",
      "execution_count": 34,
      "metadata": {
        "id": "JiIBTgFfU5i0"
      },
      "outputs": [],
      "source": [
        ""
      ]
    },
    {
      "cell_type": "markdown",
      "metadata": {
        "collapsed": true,
        "id": "3FegWi_9U5i0"
      },
      "source": [
        "<table align=\"left\">\n",
        "    <tr>\n",
        "        <td width=\"6%\">\n",
        "            <img src=\"question_icon.png\">\n",
        "        </td>\n",
        "        <td>\n",
        "            <div align=\"left\", style=\"font-size:120%\">\n",
        "                <font color=\"#21618C\">\n",
        "                    <b>4. Perform dummy encoding for appropriate variables of the dataset if required</b>\n",
        "                </font>\n",
        "            </div>\n",
        "        </td>\n",
        "    </tr>\n",
        "</table>"
      ]
    },
    {
      "cell_type": "code",
      "execution_count": 35,
      "metadata": {
        "scrolled": true,
        "colab": {
          "base_uri": "https://localhost:8080/",
          "height": 112
        },
        "id": "ZPKdCXOtU5i1",
        "outputId": "c07cdacc-32a6-417a-a790-f42f1d0540e6"
      },
      "outputs": [
        {
          "output_type": "execute_result",
          "data": {
            "text/html": [
              "\n",
              "  <div id=\"df-7b5061f2-8f8c-40d6-9858-4a25bbfc11be\">\n",
              "    <div class=\"colab-df-container\">\n",
              "      <div>\n",
              "<style scoped>\n",
              "    .dataframe tbody tr th:only-of-type {\n",
              "        vertical-align: middle;\n",
              "    }\n",
              "\n",
              "    .dataframe tbody tr th {\n",
              "        vertical-align: top;\n",
              "    }\n",
              "\n",
              "    .dataframe thead th {\n",
              "        text-align: right;\n",
              "    }\n",
              "</style>\n",
              "<table border=\"1\" class=\"dataframe\">\n",
              "  <thead>\n",
              "    <tr style=\"text-align: right;\">\n",
              "      <th></th>\n",
              "      <th>Status</th>\n",
              "    </tr>\n",
              "  </thead>\n",
              "  <tbody>\n",
              "    <tr>\n",
              "      <th>0</th>\n",
              "      <td>Developing</td>\n",
              "    </tr>\n",
              "    <tr>\n",
              "      <th>1</th>\n",
              "      <td>Developing</td>\n",
              "    </tr>\n",
              "  </tbody>\n",
              "</table>\n",
              "</div>\n",
              "      <button class=\"colab-df-convert\" onclick=\"convertToInteractive('df-7b5061f2-8f8c-40d6-9858-4a25bbfc11be')\"\n",
              "              title=\"Convert this dataframe to an interactive table.\"\n",
              "              style=\"display:none;\">\n",
              "        \n",
              "  <svg xmlns=\"http://www.w3.org/2000/svg\" height=\"24px\"viewBox=\"0 0 24 24\"\n",
              "       width=\"24px\">\n",
              "    <path d=\"M0 0h24v24H0V0z\" fill=\"none\"/>\n",
              "    <path d=\"M18.56 5.44l.94 2.06.94-2.06 2.06-.94-2.06-.94-.94-2.06-.94 2.06-2.06.94zm-11 1L8.5 8.5l.94-2.06 2.06-.94-2.06-.94L8.5 2.5l-.94 2.06-2.06.94zm10 10l.94 2.06.94-2.06 2.06-.94-2.06-.94-.94-2.06-.94 2.06-2.06.94z\"/><path d=\"M17.41 7.96l-1.37-1.37c-.4-.4-.92-.59-1.43-.59-.52 0-1.04.2-1.43.59L10.3 9.45l-7.72 7.72c-.78.78-.78 2.05 0 2.83L4 21.41c.39.39.9.59 1.41.59.51 0 1.02-.2 1.41-.59l7.78-7.78 2.81-2.81c.8-.78.8-2.07 0-2.86zM5.41 20L4 18.59l7.72-7.72 1.47 1.35L5.41 20z\"/>\n",
              "  </svg>\n",
              "      </button>\n",
              "      \n",
              "  <style>\n",
              "    .colab-df-container {\n",
              "      display:flex;\n",
              "      flex-wrap:wrap;\n",
              "      gap: 12px;\n",
              "    }\n",
              "\n",
              "    .colab-df-convert {\n",
              "      background-color: #E8F0FE;\n",
              "      border: none;\n",
              "      border-radius: 50%;\n",
              "      cursor: pointer;\n",
              "      display: none;\n",
              "      fill: #1967D2;\n",
              "      height: 32px;\n",
              "      padding: 0 0 0 0;\n",
              "      width: 32px;\n",
              "    }\n",
              "\n",
              "    .colab-df-convert:hover {\n",
              "      background-color: #E2EBFA;\n",
              "      box-shadow: 0px 1px 2px rgba(60, 64, 67, 0.3), 0px 1px 3px 1px rgba(60, 64, 67, 0.15);\n",
              "      fill: #174EA6;\n",
              "    }\n",
              "\n",
              "    [theme=dark] .colab-df-convert {\n",
              "      background-color: #3B4455;\n",
              "      fill: #D2E3FC;\n",
              "    }\n",
              "\n",
              "    [theme=dark] .colab-df-convert:hover {\n",
              "      background-color: #434B5C;\n",
              "      box-shadow: 0px 1px 3px 1px rgba(0, 0, 0, 0.15);\n",
              "      filter: drop-shadow(0px 1px 2px rgba(0, 0, 0, 0.3));\n",
              "      fill: #FFFFFF;\n",
              "    }\n",
              "  </style>\n",
              "\n",
              "      <script>\n",
              "        const buttonEl =\n",
              "          document.querySelector('#df-7b5061f2-8f8c-40d6-9858-4a25bbfc11be button.colab-df-convert');\n",
              "        buttonEl.style.display =\n",
              "          google.colab.kernel.accessAllowed ? 'block' : 'none';\n",
              "\n",
              "        async function convertToInteractive(key) {\n",
              "          const element = document.querySelector('#df-7b5061f2-8f8c-40d6-9858-4a25bbfc11be');\n",
              "          const dataTable =\n",
              "            await google.colab.kernel.invokeFunction('convertToInteractive',\n",
              "                                                     [key], {});\n",
              "          if (!dataTable) return;\n",
              "\n",
              "          const docLinkHtml = 'Like what you see? Visit the ' +\n",
              "            '<a target=\"_blank\" href=https://colab.research.google.com/notebooks/data_table.ipynb>data table notebook</a>'\n",
              "            + ' to learn more about interactive tables.';\n",
              "          element.innerHTML = '';\n",
              "          dataTable['output_type'] = 'display_data';\n",
              "          await google.colab.output.renderOutput(dataTable, element);\n",
              "          const docLink = document.createElement('div');\n",
              "          docLink.innerHTML = docLinkHtml;\n",
              "          element.appendChild(docLink);\n",
              "        }\n",
              "      </script>\n",
              "    </div>\n",
              "  </div>\n",
              "  "
            ],
            "text/plain": [
              "       Status\n",
              "0  Developing\n",
              "1  Developing"
            ]
          },
          "metadata": {},
          "execution_count": 35
        }
      ],
      "source": [
        "\n",
        "df_lifeExp.select_dtypes(object).head(2)"
      ]
    },
    {
      "cell_type": "code",
      "execution_count": 36,
      "metadata": {
        "id": "txvg_z3uU5i1"
      },
      "outputs": [],
      "source": [
        "df_lifeExp['Status']=pd.get_dummies(data = df_lifeExp['Status'],drop_first=True)"
      ]
    },
    {
      "cell_type": "code",
      "execution_count": 37,
      "metadata": {
        "colab": {
          "base_uri": "https://localhost:8080/",
          "height": 288
        },
        "id": "BYkr54WNU5i1",
        "outputId": "8675a2e9-15cc-413e-d807-7e4a892c0d54"
      },
      "outputs": [
        {
          "output_type": "execute_result",
          "data": {
            "text/html": [
              "\n",
              "  <div id=\"df-dbcc2010-5b5b-4664-94b7-4568cf5ee114\">\n",
              "    <div class=\"colab-df-container\">\n",
              "      <div>\n",
              "<style scoped>\n",
              "    .dataframe tbody tr th:only-of-type {\n",
              "        vertical-align: middle;\n",
              "    }\n",
              "\n",
              "    .dataframe tbody tr th {\n",
              "        vertical-align: top;\n",
              "    }\n",
              "\n",
              "    .dataframe thead th {\n",
              "        text-align: right;\n",
              "    }\n",
              "</style>\n",
              "<table border=\"1\" class=\"dataframe\">\n",
              "  <thead>\n",
              "    <tr style=\"text-align: right;\">\n",
              "      <th></th>\n",
              "      <th>Status</th>\n",
              "      <th>Adult_Mortality</th>\n",
              "      <th>Hepatitis B</th>\n",
              "      <th>Measles</th>\n",
              "      <th>BMI</th>\n",
              "      <th>Underfive_Deaths</th>\n",
              "      <th>Polio</th>\n",
              "      <th>Diphtheria</th>\n",
              "      <th>HIV</th>\n",
              "      <th>GDP</th>\n",
              "      <th>Population</th>\n",
              "      <th>Malnourished10_19</th>\n",
              "      <th>Malnourished5_9</th>\n",
              "      <th>Income_Index</th>\n",
              "      <th>Schooling</th>\n",
              "      <th>Life_Expectancy</th>\n",
              "    </tr>\n",
              "  </thead>\n",
              "  <tbody>\n",
              "    <tr>\n",
              "      <th>0</th>\n",
              "      <td>1</td>\n",
              "      <td>263.0</td>\n",
              "      <td>65.0</td>\n",
              "      <td>1154</td>\n",
              "      <td>19.1</td>\n",
              "      <td>83</td>\n",
              "      <td>6</td>\n",
              "      <td>65</td>\n",
              "      <td>0.1</td>\n",
              "      <td>584.259210</td>\n",
              "      <td>33736494.0</td>\n",
              "      <td>17.2</td>\n",
              "      <td>17.3</td>\n",
              "      <td>0.479</td>\n",
              "      <td>10.1</td>\n",
              "      <td>65.0</td>\n",
              "    </tr>\n",
              "    <tr>\n",
              "      <th>1</th>\n",
              "      <td>1</td>\n",
              "      <td>74.0</td>\n",
              "      <td>99.0</td>\n",
              "      <td>0</td>\n",
              "      <td>58.0</td>\n",
              "      <td>0</td>\n",
              "      <td>99</td>\n",
              "      <td>99</td>\n",
              "      <td>0.1</td>\n",
              "      <td>3954.227830</td>\n",
              "      <td>28873.0</td>\n",
              "      <td>1.2</td>\n",
              "      <td>1.3</td>\n",
              "      <td>0.762</td>\n",
              "      <td>14.2</td>\n",
              "      <td>77.8</td>\n",
              "    </tr>\n",
              "    <tr>\n",
              "      <th>2</th>\n",
              "      <td>1</td>\n",
              "      <td>19.0</td>\n",
              "      <td>95.0</td>\n",
              "      <td>63</td>\n",
              "      <td>59.5</td>\n",
              "      <td>24</td>\n",
              "      <td>95</td>\n",
              "      <td>95</td>\n",
              "      <td>0.1</td>\n",
              "      <td>4132.762920</td>\n",
              "      <td>39871528.0</td>\n",
              "      <td>6.0</td>\n",
              "      <td>5.8</td>\n",
              "      <td>0.743</td>\n",
              "      <td>14.4</td>\n",
              "      <td>75.6</td>\n",
              "    </tr>\n",
              "    <tr>\n",
              "      <th>3</th>\n",
              "      <td>1</td>\n",
              "      <td>335.0</td>\n",
              "      <td>64.0</td>\n",
              "      <td>118</td>\n",
              "      <td>23.3</td>\n",
              "      <td>98</td>\n",
              "      <td>7</td>\n",
              "      <td>64</td>\n",
              "      <td>1.9</td>\n",
              "      <td>3695.793748</td>\n",
              "      <td>2785935.0</td>\n",
              "      <td>8.3</td>\n",
              "      <td>8.2</td>\n",
              "      <td>0.531</td>\n",
              "      <td>11.4</td>\n",
              "      <td>52.4</td>\n",
              "    </tr>\n",
              "    <tr>\n",
              "      <th>4</th>\n",
              "      <td>1</td>\n",
              "      <td>13.0</td>\n",
              "      <td>99.0</td>\n",
              "      <td>0</td>\n",
              "      <td>47.7</td>\n",
              "      <td>0</td>\n",
              "      <td>86</td>\n",
              "      <td>99</td>\n",
              "      <td>0.2</td>\n",
              "      <td>13566.954100</td>\n",
              "      <td>2174645.0</td>\n",
              "      <td>3.3</td>\n",
              "      <td>3.3</td>\n",
              "      <td>0.784</td>\n",
              "      <td>13.9</td>\n",
              "      <td>76.4</td>\n",
              "    </tr>\n",
              "  </tbody>\n",
              "</table>\n",
              "</div>\n",
              "      <button class=\"colab-df-convert\" onclick=\"convertToInteractive('df-dbcc2010-5b5b-4664-94b7-4568cf5ee114')\"\n",
              "              title=\"Convert this dataframe to an interactive table.\"\n",
              "              style=\"display:none;\">\n",
              "        \n",
              "  <svg xmlns=\"http://www.w3.org/2000/svg\" height=\"24px\"viewBox=\"0 0 24 24\"\n",
              "       width=\"24px\">\n",
              "    <path d=\"M0 0h24v24H0V0z\" fill=\"none\"/>\n",
              "    <path d=\"M18.56 5.44l.94 2.06.94-2.06 2.06-.94-2.06-.94-.94-2.06-.94 2.06-2.06.94zm-11 1L8.5 8.5l.94-2.06 2.06-.94-2.06-.94L8.5 2.5l-.94 2.06-2.06.94zm10 10l.94 2.06.94-2.06 2.06-.94-2.06-.94-.94-2.06-.94 2.06-2.06.94z\"/><path d=\"M17.41 7.96l-1.37-1.37c-.4-.4-.92-.59-1.43-.59-.52 0-1.04.2-1.43.59L10.3 9.45l-7.72 7.72c-.78.78-.78 2.05 0 2.83L4 21.41c.39.39.9.59 1.41.59.51 0 1.02-.2 1.41-.59l7.78-7.78 2.81-2.81c.8-.78.8-2.07 0-2.86zM5.41 20L4 18.59l7.72-7.72 1.47 1.35L5.41 20z\"/>\n",
              "  </svg>\n",
              "      </button>\n",
              "      \n",
              "  <style>\n",
              "    .colab-df-container {\n",
              "      display:flex;\n",
              "      flex-wrap:wrap;\n",
              "      gap: 12px;\n",
              "    }\n",
              "\n",
              "    .colab-df-convert {\n",
              "      background-color: #E8F0FE;\n",
              "      border: none;\n",
              "      border-radius: 50%;\n",
              "      cursor: pointer;\n",
              "      display: none;\n",
              "      fill: #1967D2;\n",
              "      height: 32px;\n",
              "      padding: 0 0 0 0;\n",
              "      width: 32px;\n",
              "    }\n",
              "\n",
              "    .colab-df-convert:hover {\n",
              "      background-color: #E2EBFA;\n",
              "      box-shadow: 0px 1px 2px rgba(60, 64, 67, 0.3), 0px 1px 3px 1px rgba(60, 64, 67, 0.15);\n",
              "      fill: #174EA6;\n",
              "    }\n",
              "\n",
              "    [theme=dark] .colab-df-convert {\n",
              "      background-color: #3B4455;\n",
              "      fill: #D2E3FC;\n",
              "    }\n",
              "\n",
              "    [theme=dark] .colab-df-convert:hover {\n",
              "      background-color: #434B5C;\n",
              "      box-shadow: 0px 1px 3px 1px rgba(0, 0, 0, 0.15);\n",
              "      filter: drop-shadow(0px 1px 2px rgba(0, 0, 0, 0.3));\n",
              "      fill: #FFFFFF;\n",
              "    }\n",
              "  </style>\n",
              "\n",
              "      <script>\n",
              "        const buttonEl =\n",
              "          document.querySelector('#df-dbcc2010-5b5b-4664-94b7-4568cf5ee114 button.colab-df-convert');\n",
              "        buttonEl.style.display =\n",
              "          google.colab.kernel.accessAllowed ? 'block' : 'none';\n",
              "\n",
              "        async function convertToInteractive(key) {\n",
              "          const element = document.querySelector('#df-dbcc2010-5b5b-4664-94b7-4568cf5ee114');\n",
              "          const dataTable =\n",
              "            await google.colab.kernel.invokeFunction('convertToInteractive',\n",
              "                                                     [key], {});\n",
              "          if (!dataTable) return;\n",
              "\n",
              "          const docLinkHtml = 'Like what you see? Visit the ' +\n",
              "            '<a target=\"_blank\" href=https://colab.research.google.com/notebooks/data_table.ipynb>data table notebook</a>'\n",
              "            + ' to learn more about interactive tables.';\n",
              "          element.innerHTML = '';\n",
              "          dataTable['output_type'] = 'display_data';\n",
              "          await google.colab.output.renderOutput(dataTable, element);\n",
              "          const docLink = document.createElement('div');\n",
              "          docLink.innerHTML = docLinkHtml;\n",
              "          element.appendChild(docLink);\n",
              "        }\n",
              "      </script>\n",
              "    </div>\n",
              "  </div>\n",
              "  "
            ],
            "text/plain": [
              "   Status  Adult_Mortality  ...  Schooling  Life_Expectancy\n",
              "0       1            263.0  ...       10.1             65.0\n",
              "1       1             74.0  ...       14.2             77.8\n",
              "2       1             19.0  ...       14.4             75.6\n",
              "3       1            335.0  ...       11.4             52.4\n",
              "4       1             13.0  ...       13.9             76.4\n",
              "\n",
              "[5 rows x 16 columns]"
            ]
          },
          "metadata": {},
          "execution_count": 37
        }
      ],
      "source": [
        "df_lifeExp.head()"
      ]
    },
    {
      "cell_type": "code",
      "execution_count": 38,
      "metadata": {
        "id": "WYDGl8ByU5i2"
      },
      "outputs": [],
      "source": [
        "# There is strong correlation between malnouishment10_19 and malnourishment5_9\n",
        "df_lifeExp = df_lifeExp.drop(\"Malnourished10_19\",axis=1)"
      ]
    },
    {
      "cell_type": "code",
      "execution_count": 39,
      "metadata": {
        "colab": {
          "base_uri": "https://localhost:8080/",
          "height": 288
        },
        "id": "m908w9EkU5i2",
        "outputId": "c354ada0-fd79-417d-931e-d00ce9c2abe1"
      },
      "outputs": [
        {
          "output_type": "execute_result",
          "data": {
            "text/html": [
              "\n",
              "  <div id=\"df-c0346984-ce23-4372-ae60-77e9b5c81e41\">\n",
              "    <div class=\"colab-df-container\">\n",
              "      <div>\n",
              "<style scoped>\n",
              "    .dataframe tbody tr th:only-of-type {\n",
              "        vertical-align: middle;\n",
              "    }\n",
              "\n",
              "    .dataframe tbody tr th {\n",
              "        vertical-align: top;\n",
              "    }\n",
              "\n",
              "    .dataframe thead th {\n",
              "        text-align: right;\n",
              "    }\n",
              "</style>\n",
              "<table border=\"1\" class=\"dataframe\">\n",
              "  <thead>\n",
              "    <tr style=\"text-align: right;\">\n",
              "      <th></th>\n",
              "      <th>Status</th>\n",
              "      <th>Adult_Mortality</th>\n",
              "      <th>Hepatitis B</th>\n",
              "      <th>Measles</th>\n",
              "      <th>BMI</th>\n",
              "      <th>Underfive_Deaths</th>\n",
              "      <th>Polio</th>\n",
              "      <th>Diphtheria</th>\n",
              "      <th>HIV</th>\n",
              "      <th>GDP</th>\n",
              "      <th>Population</th>\n",
              "      <th>Malnourished5_9</th>\n",
              "      <th>Income_Index</th>\n",
              "      <th>Schooling</th>\n",
              "      <th>Life_Expectancy</th>\n",
              "    </tr>\n",
              "  </thead>\n",
              "  <tbody>\n",
              "    <tr>\n",
              "      <th>0</th>\n",
              "      <td>1</td>\n",
              "      <td>263.0</td>\n",
              "      <td>65.0</td>\n",
              "      <td>1154</td>\n",
              "      <td>19.1</td>\n",
              "      <td>83</td>\n",
              "      <td>6</td>\n",
              "      <td>65</td>\n",
              "      <td>0.1</td>\n",
              "      <td>584.259210</td>\n",
              "      <td>33736494.0</td>\n",
              "      <td>17.3</td>\n",
              "      <td>0.479</td>\n",
              "      <td>10.1</td>\n",
              "      <td>65.0</td>\n",
              "    </tr>\n",
              "    <tr>\n",
              "      <th>1</th>\n",
              "      <td>1</td>\n",
              "      <td>74.0</td>\n",
              "      <td>99.0</td>\n",
              "      <td>0</td>\n",
              "      <td>58.0</td>\n",
              "      <td>0</td>\n",
              "      <td>99</td>\n",
              "      <td>99</td>\n",
              "      <td>0.1</td>\n",
              "      <td>3954.227830</td>\n",
              "      <td>28873.0</td>\n",
              "      <td>1.3</td>\n",
              "      <td>0.762</td>\n",
              "      <td>14.2</td>\n",
              "      <td>77.8</td>\n",
              "    </tr>\n",
              "    <tr>\n",
              "      <th>2</th>\n",
              "      <td>1</td>\n",
              "      <td>19.0</td>\n",
              "      <td>95.0</td>\n",
              "      <td>63</td>\n",
              "      <td>59.5</td>\n",
              "      <td>24</td>\n",
              "      <td>95</td>\n",
              "      <td>95</td>\n",
              "      <td>0.1</td>\n",
              "      <td>4132.762920</td>\n",
              "      <td>39871528.0</td>\n",
              "      <td>5.8</td>\n",
              "      <td>0.743</td>\n",
              "      <td>14.4</td>\n",
              "      <td>75.6</td>\n",
              "    </tr>\n",
              "    <tr>\n",
              "      <th>3</th>\n",
              "      <td>1</td>\n",
              "      <td>335.0</td>\n",
              "      <td>64.0</td>\n",
              "      <td>118</td>\n",
              "      <td>23.3</td>\n",
              "      <td>98</td>\n",
              "      <td>7</td>\n",
              "      <td>64</td>\n",
              "      <td>1.9</td>\n",
              "      <td>3695.793748</td>\n",
              "      <td>2785935.0</td>\n",
              "      <td>8.2</td>\n",
              "      <td>0.531</td>\n",
              "      <td>11.4</td>\n",
              "      <td>52.4</td>\n",
              "    </tr>\n",
              "    <tr>\n",
              "      <th>4</th>\n",
              "      <td>1</td>\n",
              "      <td>13.0</td>\n",
              "      <td>99.0</td>\n",
              "      <td>0</td>\n",
              "      <td>47.7</td>\n",
              "      <td>0</td>\n",
              "      <td>86</td>\n",
              "      <td>99</td>\n",
              "      <td>0.2</td>\n",
              "      <td>13566.954100</td>\n",
              "      <td>2174645.0</td>\n",
              "      <td>3.3</td>\n",
              "      <td>0.784</td>\n",
              "      <td>13.9</td>\n",
              "      <td>76.4</td>\n",
              "    </tr>\n",
              "  </tbody>\n",
              "</table>\n",
              "</div>\n",
              "      <button class=\"colab-df-convert\" onclick=\"convertToInteractive('df-c0346984-ce23-4372-ae60-77e9b5c81e41')\"\n",
              "              title=\"Convert this dataframe to an interactive table.\"\n",
              "              style=\"display:none;\">\n",
              "        \n",
              "  <svg xmlns=\"http://www.w3.org/2000/svg\" height=\"24px\"viewBox=\"0 0 24 24\"\n",
              "       width=\"24px\">\n",
              "    <path d=\"M0 0h24v24H0V0z\" fill=\"none\"/>\n",
              "    <path d=\"M18.56 5.44l.94 2.06.94-2.06 2.06-.94-2.06-.94-.94-2.06-.94 2.06-2.06.94zm-11 1L8.5 8.5l.94-2.06 2.06-.94-2.06-.94L8.5 2.5l-.94 2.06-2.06.94zm10 10l.94 2.06.94-2.06 2.06-.94-2.06-.94-.94-2.06-.94 2.06-2.06.94z\"/><path d=\"M17.41 7.96l-1.37-1.37c-.4-.4-.92-.59-1.43-.59-.52 0-1.04.2-1.43.59L10.3 9.45l-7.72 7.72c-.78.78-.78 2.05 0 2.83L4 21.41c.39.39.9.59 1.41.59.51 0 1.02-.2 1.41-.59l7.78-7.78 2.81-2.81c.8-.78.8-2.07 0-2.86zM5.41 20L4 18.59l7.72-7.72 1.47 1.35L5.41 20z\"/>\n",
              "  </svg>\n",
              "      </button>\n",
              "      \n",
              "  <style>\n",
              "    .colab-df-container {\n",
              "      display:flex;\n",
              "      flex-wrap:wrap;\n",
              "      gap: 12px;\n",
              "    }\n",
              "\n",
              "    .colab-df-convert {\n",
              "      background-color: #E8F0FE;\n",
              "      border: none;\n",
              "      border-radius: 50%;\n",
              "      cursor: pointer;\n",
              "      display: none;\n",
              "      fill: #1967D2;\n",
              "      height: 32px;\n",
              "      padding: 0 0 0 0;\n",
              "      width: 32px;\n",
              "    }\n",
              "\n",
              "    .colab-df-convert:hover {\n",
              "      background-color: #E2EBFA;\n",
              "      box-shadow: 0px 1px 2px rgba(60, 64, 67, 0.3), 0px 1px 3px 1px rgba(60, 64, 67, 0.15);\n",
              "      fill: #174EA6;\n",
              "    }\n",
              "\n",
              "    [theme=dark] .colab-df-convert {\n",
              "      background-color: #3B4455;\n",
              "      fill: #D2E3FC;\n",
              "    }\n",
              "\n",
              "    [theme=dark] .colab-df-convert:hover {\n",
              "      background-color: #434B5C;\n",
              "      box-shadow: 0px 1px 3px 1px rgba(0, 0, 0, 0.15);\n",
              "      filter: drop-shadow(0px 1px 2px rgba(0, 0, 0, 0.3));\n",
              "      fill: #FFFFFF;\n",
              "    }\n",
              "  </style>\n",
              "\n",
              "      <script>\n",
              "        const buttonEl =\n",
              "          document.querySelector('#df-c0346984-ce23-4372-ae60-77e9b5c81e41 button.colab-df-convert');\n",
              "        buttonEl.style.display =\n",
              "          google.colab.kernel.accessAllowed ? 'block' : 'none';\n",
              "\n",
              "        async function convertToInteractive(key) {\n",
              "          const element = document.querySelector('#df-c0346984-ce23-4372-ae60-77e9b5c81e41');\n",
              "          const dataTable =\n",
              "            await google.colab.kernel.invokeFunction('convertToInteractive',\n",
              "                                                     [key], {});\n",
              "          if (!dataTable) return;\n",
              "\n",
              "          const docLinkHtml = 'Like what you see? Visit the ' +\n",
              "            '<a target=\"_blank\" href=https://colab.research.google.com/notebooks/data_table.ipynb>data table notebook</a>'\n",
              "            + ' to learn more about interactive tables.';\n",
              "          element.innerHTML = '';\n",
              "          dataTable['output_type'] = 'display_data';\n",
              "          await google.colab.output.renderOutput(dataTable, element);\n",
              "          const docLink = document.createElement('div');\n",
              "          docLink.innerHTML = docLinkHtml;\n",
              "          element.appendChild(docLink);\n",
              "        }\n",
              "      </script>\n",
              "    </div>\n",
              "  </div>\n",
              "  "
            ],
            "text/plain": [
              "   Status  Adult_Mortality  ...  Schooling  Life_Expectancy\n",
              "0       1            263.0  ...       10.1             65.0\n",
              "1       1             74.0  ...       14.2             77.8\n",
              "2       1             19.0  ...       14.4             75.6\n",
              "3       1            335.0  ...       11.4             52.4\n",
              "4       1             13.0  ...       13.9             76.4\n",
              "\n",
              "[5 rows x 15 columns]"
            ]
          },
          "metadata": {},
          "execution_count": 39
        }
      ],
      "source": [
        "df_lifeExp.head()"
      ]
    },
    {
      "cell_type": "markdown",
      "metadata": {
        "id": "PLGal60BU5i2"
      },
      "source": [
        "<a id=\"lf\"> </a>\n",
        "## 2. Linear Regression"
      ]
    },
    {
      "cell_type": "markdown",
      "metadata": {
        "collapsed": true,
        "id": "Cj9q_8x4U5i3"
      },
      "source": [
        "<table align=\"left\">\n",
        "    <tr>\n",
        "        <td width=\"6%\">\n",
        "            <img src=\"question_icon.png\">\n",
        "        </td>\n",
        "        <td>\n",
        "            <div align=\"left\", style=\"font-size:120%\">\n",
        "                <font color=\"#21618C\">\n",
        "                    <b>5.  Build a full model on the given data. Check whether the obtained residuals have constant variance\n",
        "</b>\n",
        "                </font>\n",
        "            </div>\n",
        "        </td>\n",
        "    </tr>\n",
        "</table>"
      ]
    },
    {
      "cell_type": "code",
      "execution_count": 40,
      "metadata": {
        "id": "YH3xAHxBU5i3"
      },
      "outputs": [],
      "source": [
        "X = df_lifeExp.drop(\"Life_Expectancy\",axis =1)\n",
        "y = df_lifeExp['Life_Expectancy']"
      ]
    },
    {
      "cell_type": "code",
      "execution_count": 41,
      "metadata": {
        "id": "bFEslHPOU5i3"
      },
      "outputs": [],
      "source": [
        "from sklearn.model_selection import train_test_split"
      ]
    },
    {
      "cell_type": "code",
      "execution_count": 42,
      "metadata": {
        "id": "x6MItBsUU5i4"
      },
      "outputs": [],
      "source": [
        "x_train,x_test,y_train,y_test = train_test_split(X,y,test_size=.20,random_state=10)"
      ]
    },
    {
      "cell_type": "code",
      "execution_count": 43,
      "metadata": {
        "colab": {
          "base_uri": "https://localhost:8080/"
        },
        "id": "S0SeNXCMU5i4",
        "outputId": "af08c436-45e5-4082-b2e1-2d75a774d9a3"
      },
      "outputs": [
        {
          "output_type": "execute_result",
          "data": {
            "text/plain": [
              "((138, 14), (138,), (35, 14), (35,))"
            ]
          },
          "metadata": {},
          "execution_count": 43
        }
      ],
      "source": [
        "x_train.shape,y_train.shape,x_test.shape,y_test.shape"
      ]
    },
    {
      "cell_type": "code",
      "execution_count": 44,
      "metadata": {
        "colab": {
          "base_uri": "https://localhost:8080/"
        },
        "id": "y8K4ns1GU5i4",
        "outputId": "669b9f11-eaa4-4203-d02c-fdf175baa356"
      },
      "outputs": [
        {
          "output_type": "stream",
          "name": "stderr",
          "text": [
            "/usr/local/lib/python3.7/dist-packages/statsmodels/tsa/tsatools.py:117: FutureWarning: In a future version of pandas all arguments of concat except for the argument 'objs' will be keyword-only\n",
            "  x = pd.concat(x[::order], 1)\n"
          ]
        }
      ],
      "source": [
        "MLR_model = sm.OLS(y_train,sm.add_constant(x_train)).fit()\n",
        "residuals = MLR_model.resid"
      ]
    },
    {
      "cell_type": "code",
      "execution_count": 45,
      "metadata": {
        "colab": {
          "base_uri": "https://localhost:8080/"
        },
        "id": "d1EJgD1eU5i5",
        "outputId": "415f281b-79f0-47b3-d5cd-cff5e8e9675d"
      },
      "outputs": [
        {
          "output_type": "execute_result",
          "data": {
            "text/plain": [
              "(0.6675950842014723, 0.9314325054333612, 'increasing')"
            ]
          },
          "metadata": {},
          "execution_count": 45
        }
      ],
      "source": [
        "sms.het_goldfeldquandt(y=residuals,x=x_train)"
      ]
    },
    {
      "cell_type": "code",
      "execution_count": 46,
      "metadata": {
        "colab": {
          "base_uri": "https://localhost:8080/"
        },
        "id": "cIVnbbSwU5i5",
        "outputId": "eb4f8b64-b719-4d91-9499-a5db1bee42aa"
      },
      "outputs": [
        {
          "output_type": "execute_result",
          "data": {
            "text/plain": [
              "(12.003371576465026, 0.6060320058329157, 0.836992183485975, 0.6280540332712736)"
            ]
          },
          "metadata": {},
          "execution_count": 46
        }
      ],
      "source": [
        "sms.het_breuschpagan(resid=residuals,exog_het=MLR_model.model.exog)"
      ]
    },
    {
      "cell_type": "code",
      "execution_count": 47,
      "metadata": {
        "colab": {
          "base_uri": "https://localhost:8080/",
          "height": 394
        },
        "id": "z2T3ptuWU5i5",
        "outputId": "7268ad44-6943-489e-c17f-7fc7876e7df0"
      },
      "outputs": [
        {
          "output_type": "display_data",
          "data": {
            "image/png": "[encoded data removed]",
            "text/plain": [
              "<Figure size 720x432 with 1 Axes>"
            ]
          },
          "metadata": {
            "needs_background": "light"
          }
        }
      ],
      "source": [
        "plt.figure(figsize=(10,6))\n",
        "plt.scatter(MLR_model.fittedvalues,residuals)\n",
        "plt.xlabel(\"predicted_values\",fontsize =15)\n",
        "plt.ylabel(\"Residuals/Errors\",fontsize=15)\n",
        "plt.show()"
      ]
    },
    {
      "cell_type": "code",
      "execution_count": 48,
      "metadata": {
        "id": "6yazM8pIU5i6"
      },
      "outputs": [],
      "source": [
        "# All the test for residuals seems like homoscedastic. Hence we can say that residuals are constants."
      ]
    },
    {
      "cell_type": "markdown",
      "metadata": {
        "collapsed": true,
        "id": "ZOHUbAPsU5i6"
      },
      "source": [
        "<table align=\"left\">\n",
        "    <tr>\n",
        "        <td width=\"6%\">\n",
        "            <img src=\"question_icon.png\">\n",
        "        </td>\n",
        "        <td>\n",
        "            <div align=\"left\", style=\"font-size:120%\">\n",
        "                <font color=\"#21618C\">\n",
        "                    <b>6. Build a model to study the impact of immunization on life expectancy, using least squares regression. Find the unexplained variation for the model\n",
        "</b>\n",
        "                </font>\n",
        "            </div>\n",
        "        </td>\n",
        "    </tr>\n",
        "</table>"
      ]
    },
    {
      "cell_type": "code",
      "execution_count": 49,
      "metadata": {
        "id": "Uj5GsJwXU5i7"
      },
      "outputs": [],
      "source": [
        "X = df_lifeExp.iloc[:,[2,6,7]]\n",
        "y = df_lifeExp['Life_Expectancy']   "
      ]
    },
    {
      "cell_type": "code",
      "execution_count": 50,
      "metadata": {
        "colab": {
          "base_uri": "https://localhost:8080/"
        },
        "id": "X-PtvJW5U5i7",
        "outputId": "cf209ff1-f405-4d8d-b69e-302d2e5ff5fa"
      },
      "outputs": [
        {
          "output_type": "execute_result",
          "data": {
            "text/plain": [
              "LinearRegression()"
            ]
          },
          "metadata": {},
          "execution_count": 50
        }
      ],
      "source": [
        "MLR_model = LR.fit(X,y)\n",
        "MLR_model "
      ]
    },
    {
      "cell_type": "code",
      "execution_count": 51,
      "metadata": {
        "colab": {
          "base_uri": "https://localhost:8080/"
        },
        "id": "K2r6M_J8U5i7",
        "outputId": "1318a986-f574-47a4-ad0b-74f92517a21b"
      },
      "outputs": [
        {
          "output_type": "execute_result",
          "data": {
            "text/plain": [
              "array([61.37644108, 75.17077635, 74.31405189, 61.38301174, 73.73588981,\n",
              "       73.98949489, 74.32062255, 73.88568966, 73.88568966, 74.74898478,\n",
              "       74.31405189, 74.95659523, 74.74241412, 74.74241412, 75.17077635,\n",
              "       75.22801255, 74.09987077, 71.08819385, 75.06040046, 75.17077635,\n",
              "       70.6466903 , 74.42442778, 74.74898478, 75.17077635, 73.40009123,\n",
              "       73.45732743, 74.09987077, 73.71398106, 72.80821343, 71.84768374,\n",
              "       75.5178306 , 64.03335839, 64.4814326 , 74.4709968 , 75.17077635,\n",
              "       73.45732743, 73.56770332, 55.68029492, 73.67150854, 74.09987077,\n",
              "       75.17077635, 74.74241412, 74.74241412, 74.85936067, 73.88568966,\n",
              "       71.95805963, 72.62193731, 71.33522827, 73.88568966, 73.56770332,\n",
              "       57.50411973, 74.31405189, 74.00016206, 70.23804005, 75.17077635,\n",
              "       74.97135891, 75.64342962, 63.51698294, 74.63203823, 73.76874311,\n",
              "       74.60432939, 72.81478409, 75.34248494, 74.44413976, 62.64181579,\n",
              "       64.20811554, 73.98292423, 60.77072707, 74.74241412, 75.51419354,\n",
              "       73.61427235, 72.49022708, 62.94666081, 74.95659523, 67.05570249,\n",
              "       74.31405189, 74.25681569, 73.88568966, 73.45732743, 75.03106926,\n",
              "       75.17077635, 74.95659523, 72.36670988, 62.71771601, 75.17077635,\n",
              "       74.74241412, 74.37128809, 70.65326096, 64.6141151 , 65.10426396,\n",
              "       74.74241412, 73.82845346, 75.45695734, 68.96609468, 72.81478409,\n",
              "       75.17077635, 75.17077635, 67.89518911, 74.85688652, 68.93981204,\n",
              "       74.85279   , 72.88678397, 75.17077635, 73.42961859, 75.17077635,\n",
              "       55.68029492, 73.0289652 , 73.67150854, 64.40650464, 74.37128809,\n",
              "       73.67150854, 75.06697112, 67.88861845, 64.46172062, 74.42852429,\n",
              "       75.17077635, 69.38788625, 69.49169148, 73.44418611, 64.61417116,\n",
              "       63.30937249, 74.4088123 , 74.95659523, 75.17077635, 74.95659523,\n",
              "       72.65374266, 77.60786113, 74.74241412, 75.06697112, 75.17077635,\n",
              "       67.95157352, 74.84621934, 72.58746165, 74.37128809, 74.68517792,\n",
              "       72.38642186, 74.528233  , 74.528233  , 74.42852429, 75.06697112,\n",
              "       63.51433225, 70.0304296 , 61.71021943, 74.74241412, 75.17077635,\n",
              "       73.88568966, 73.0289652 , 64.17266761, 76.7309174 , 74.97135891,\n",
              "       58.77473975, 74.528233  , 75.17077635, 70.13423482, 72.81478409,\n",
              "       62.94666081, 78.62477522, 74.95659523, 74.74241412, 75.17077635,\n",
              "       71.11447649, 62.04077269, 75.17077635, 74.6999416 , 74.26500871,\n",
              "       74.31405189, 75.17077635, 67.78481322, 72.60060297, 74.74241412,\n",
              "       68.08308758, 55.89447604, 72.71097886])"
            ]
          },
          "metadata": {},
          "execution_count": 51
        }
      ],
      "source": [
        "predicted = MLR_model.predict(X)\n",
        "predicted"
      ]
    },
    {
      "cell_type": "code",
      "execution_count": 52,
      "metadata": {
        "colab": {
          "base_uri": "https://localhost:8080/"
        },
        "id": "Qf3tb9EQU5i8",
        "outputId": "4ff3ba15-d762-4e6b-d7a8-ac8542a1768b"
      },
      "outputs": [
        {
          "output_type": "execute_result",
          "data": {
            "text/plain": [
              "0      3.623559\n",
              "1      2.629224\n",
              "2      1.285948\n",
              "3     -8.983012\n",
              "4      2.664110\n",
              "         ...   \n",
              "177    1.499397\n",
              "178    1.257586\n",
              "179   -2.383088\n",
              "180    5.905524\n",
              "181   -5.710979\n",
              "Name: Life_Expectancy, Length: 173, dtype: float64"
            ]
          },
          "metadata": {},
          "execution_count": 52
        }
      ],
      "source": [
        "errors = y-predicted # can use model.resid\n",
        "errors"
      ]
    },
    {
      "cell_type": "code",
      "execution_count": 53,
      "metadata": {
        "id": "UHRgndVpU5i8"
      },
      "outputs": [],
      "source": [
        "SSE = np.sum(errors**2)"
      ]
    },
    {
      "cell_type": "code",
      "execution_count": 54,
      "metadata": {
        "colab": {
          "base_uri": "https://localhost:8080/"
        },
        "id": "qQyslrJcU5i8",
        "outputId": "e094663f-cf5a-4945-fdc4-a91602fb0366"
      },
      "outputs": [
        {
          "output_type": "stream",
          "name": "stdout",
          "text": [
            "UNEXPLAINED ERRORS 7272.464916334297\n"
          ]
        }
      ],
      "source": [
        "print(\"UNEXPLAINED ERRORS\",SSE)"
      ]
    },
    {
      "cell_type": "markdown",
      "metadata": {
        "collapsed": true,
        "id": "niTDub7ZU5i9"
      },
      "source": [
        "<table align=\"left\">\n",
        "    <tr>\n",
        "        <td width=\"6%\">\n",
        "            <img src=\"question_icon.png\">\n",
        "        </td>\n",
        "        <td>\n",
        "            <div align=\"left\", style=\"font-size:120%\">\n",
        "                <font color=\"#21618C\">\n",
        "                    <b>7. Build a model to study the impact of malnutrition on life expectancy, using least squares regression. Interpret the coeffients</b>\n",
        "                </font>\n",
        "            </div>\n",
        "        </td>\n",
        "    </tr>\n",
        "</table>"
      ]
    },
    {
      "cell_type": "code",
      "execution_count": 55,
      "metadata": {
        "id": "8tKXlFioU5i9"
      },
      "outputs": [],
      "source": [
        "X = df_lifeExp[[\"Malnourished5_9\"]]\n",
        "y = df_lifeExp['Life_Expectancy']"
      ]
    },
    {
      "cell_type": "code",
      "execution_count": 56,
      "metadata": {
        "colab": {
          "base_uri": "https://localhost:8080/"
        },
        "id": "5wsXO-MhU5i-",
        "outputId": "19292fe3-418a-49cb-d504-1071578f711b"
      },
      "outputs": [
        {
          "output_type": "stream",
          "name": "stdout",
          "text": [
            "Coefficient [-0.89331203] Intercept 76.06253141399701\n"
          ]
        }
      ],
      "source": [
        "MLR_model = LR.fit(X,y)\n",
        "print(\"Coefficient\",MLR_model.coef_,\"Intercept\",MLR_model.intercept_)"
      ]
    },
    {
      "cell_type": "code",
      "execution_count": 57,
      "metadata": {
        "colab": {
          "base_uri": "https://localhost:8080/"
        },
        "id": "0VelJV6QU5i-",
        "outputId": "7e447846-290b-41e8-c541-cc89b419dd93"
      },
      "outputs": [
        {
          "output_type": "stream",
          "name": "stdout",
          "text": [
            "                            OLS Regression Results                            \n",
            "==============================================================================\n",
            "Dep. Variable:        Life_Expectancy   R-squared:                       0.220\n",
            "Model:                            OLS   Adj. R-squared:                  0.215\n",
            "Method:                 Least Squares   F-statistic:                     48.24\n",
            "Date:                Thu, 03 Mar 2022   Prob (F-statistic):           7.54e-11\n",
            "Time:                        05:52:29   Log-Likelihood:                -583.92\n",
            "No. Observations:                 173   AIC:                             1172.\n",
            "Df Residuals:                     171   BIC:                             1178.\n",
            "Df Model:                           1                                         \n",
            "Covariance Type:            nonrobust                                         \n",
            "===================================================================================\n",
            "                      coef    std err          t      P>|t|      [0.025      0.975]\n",
            "-----------------------------------------------------------------------------------\n",
            "const              76.0625      0.796     95.569      0.000      74.491      77.634\n",
            "Malnourished5_9    -0.8933      0.129     -6.946      0.000      -1.147      -0.639\n",
            "==============================================================================\n",
            "Omnibus:                        7.299   Durbin-Watson:                   1.892\n",
            "Prob(Omnibus):                  0.026   Jarque-Bera (JB):                7.619\n",
            "Skew:                          -0.506   Prob(JB):                       0.0222\n",
            "Kurtosis:                       2.818   Cond. No.                         9.23\n",
            "==============================================================================\n",
            "\n",
            "Warnings:\n",
            "[1] Standard Errors assume that the covariance matrix of the errors is correctly specified.\n"
          ]
        },
        {
          "output_type": "stream",
          "name": "stderr",
          "text": [
            "/usr/local/lib/python3.7/dist-packages/statsmodels/tsa/tsatools.py:117: FutureWarning: In a future version of pandas all arguments of concat except for the argument 'objs' will be keyword-only\n",
            "  x = pd.concat(x[::order], 1)\n"
          ]
        }
      ],
      "source": [
        "MLR_model = sm.OLS(y,sm.add_constant(X)).fit()\n",
        "print(MLR_model.summary())"
      ]
    },
    {
      "cell_type": "code",
      "execution_count": 58,
      "metadata": {
        "id": "eN0vWPFNU5i-"
      },
      "outputs": [],
      "source": [
        "# AS we see that the intercept is 73.1322,when the all features are zero."
      ]
    },
    {
      "cell_type": "code",
      "execution_count": 59,
      "metadata": {
        "id": "_BhpyucKU5i-"
      },
      "outputs": [],
      "source": [
        "#βMalnourished5_9 = -0.5004, it implies that the average decrease in the life expectancy of the\n",
        "#people due to the malnourshment of children aged between 5 to 9 years,keeping other variables constant"
      ]
    },
    {
      "cell_type": "markdown",
      "metadata": {
        "id": "h0vzNuxsU5i_"
      },
      "source": [
        "<a id=\"gd\"> </a>\n",
        "## 3. Gradient Descent"
      ]
    },
    {
      "cell_type": "markdown",
      "metadata": {
        "collapsed": true,
        "id": "Vq45VJykU5i_"
      },
      "source": [
        "<table align=\"left\">\n",
        "    <tr>\n",
        "        <td width=\"6%\">\n",
        "            <img src=\"question_icon.png\">\n",
        "        </td>\n",
        "        <td>\n",
        "            <div align=\"left\", style=\"font-size:120%\">\n",
        "                <font color=\"#21618C\">\n",
        "                    <b>8. Build a model to study the influence of adult mortality rate on life expectancy using both the least squares regression and gradient descent approach. Are the fits for both the models different?</b>\n",
        "                </font>\n",
        "            </div>\n",
        "        </td>\n",
        "    </tr>\n",
        "</table>"
      ]
    },
    {
      "cell_type": "code",
      "execution_count": 60,
      "metadata": {
        "id": "CdpP4ScLU5i_"
      },
      "outputs": [],
      "source": [
        "from sklearn.preprocessing import StandardScaler"
      ]
    },
    {
      "cell_type": "code",
      "execution_count": 61,
      "metadata": {
        "id": "qAeIqBiWU5jA"
      },
      "outputs": [],
      "source": [
        "# select the variable describing adult mortality rate\n",
        "# reshape(): used to change the dimension of input since SGDRegressor expects atleast a 2-D numpy array\n",
        "\n",
        "X = df_lifeExp.iloc[:,1].values # we use iloc so the values of x is in list of series \n",
        "X = X.reshape(-1,1) # we reshape the x to change it to 2-D array\n",
        "\n",
        "# set the dependent variable\n",
        "y = df_lifeExp['Life_Expectancy']\n",
        "\n",
        "# initialize the standard scalar\n",
        "X_scaler = StandardScaler()\n",
        "\n",
        "# standardize all the columns of df_lifeExp\n",
        "X = X_scaler.fit_transform(X)\n",
        "\n",
        "# standardize the target explicitly and storing it in a new variable 'y'\n",
        "y = (y - y.mean()) / y.std()\n",
        "\n",
        "# split data into train subset and test subset\n",
        "# set 'random_state' to generate the same dataset each time you run the code \n",
        "# 'test_size' returns the proportion of data to be included in the test set\n",
        "X_train, X_test, y_train, y_test = train_test_split(X, y, random_state = 10, test_size = 0.2)"
      ]
    },
    {
      "cell_type": "code",
      "execution_count": 62,
      "metadata": {
        "id": "bHfzqOhpU5jA"
      },
      "outputs": [],
      "source": [
        "SLR_model = LR.fit(X_train,y_train)\n",
        "SLR_pred = SLR_model.predict(X_train)"
      ]
    },
    {
      "cell_type": "code",
      "execution_count": 63,
      "metadata": {
        "id": "I-q3HXNmU5jA"
      },
      "outputs": [],
      "source": [
        "from sklearn.linear_model import SGDRegressor"
      ]
    },
    {
      "cell_type": "code",
      "execution_count": 64,
      "metadata": {
        "id": "rXQx-NRmU5jA"
      },
      "outputs": [],
      "source": [
        "SGD = SGDRegressor(random_state=1)\n",
        "SGD_model = SGD.fit(X_train,y_train)\n",
        "SGD_pred = SGD_model.predict(X_train)"
      ]
    },
    {
      "cell_type": "code",
      "execution_count": 65,
      "metadata": {
        "colab": {
          "base_uri": "https://localhost:8080/"
        },
        "id": "nbc_yXASU5jB",
        "outputId": "f90f3699-3082-47bb-cc56-4e3707492138"
      },
      "outputs": [
        {
          "output_type": "stream",
          "name": "stdout",
          "text": [
            "using Linear algorithm intercept and coefficient 0.009483534435590673 [-0.78562968]\n"
          ]
        }
      ],
      "source": [
        "print(\"using Linear algorithm intercept and coefficient\",SLR_model.intercept_,SLR_model.coef_)"
      ]
    },
    {
      "cell_type": "code",
      "execution_count": 66,
      "metadata": {
        "colab": {
          "base_uri": "https://localhost:8080/"
        },
        "id": "YSqQXi3UU5jB",
        "outputId": "d4f44807-fe45-4dae-857f-bb4beed592e4"
      },
      "outputs": [
        {
          "output_type": "stream",
          "name": "stdout",
          "text": [
            "using SGD algorith intercept and coefficient [0.00820688] [-0.76887191]\n"
          ]
        }
      ],
      "source": [
        "print(\"using SGD algorith intercept and coefficient\",SGD_model.intercept_,SGD_model.coef_)"
      ]
    },
    {
      "cell_type": "code",
      "execution_count": 67,
      "metadata": {
        "colab": {
          "base_uri": "https://localhost:8080/",
          "height": 465
        },
        "id": "ny0D5HALU5jB",
        "outputId": "c1e54ed1-8665-4132-eff4-209415cfb191"
      },
      "outputs": [
        {
          "output_type": "display_data",
          "data": {
            "image/png": "[encoded data removed]",
            "text/plain": [
              "<Figure size 720x504 with 1 Axes>"
            ]
          },
          "metadata": {
            "needs_background": "light"
          }
        }
      ],
      "source": [
        "# set the figure size \n",
        "plt.figure(figsize=(10,7))\n",
        "\n",
        "# plot the scatter plot\n",
        "# colors: set the color of the points in the scatter plot\n",
        "plt.scatter(X_train, y_train,color='orange')\n",
        "\n",
        "# set xlabel for the plot\n",
        "plt.xlabel(\"Adult Mortality Rate\",fontsize = 15)\n",
        "\n",
        "# set ylabel for the plot\n",
        "plt.ylabel(\"Life Expectancy\",fontsize = 15)\n",
        "\n",
        "# set title for the plot\n",
        "plt.title(\"Comparison of fits\",fontsize = 15)\n",
        "\n",
        "# plot the regression line for the two models\n",
        "# color: set the color of the line\n",
        "# label: set the label of the line for the legend\n",
        "plt.plot(X_train,SLR_pred,color =\"red\",label=\"Linear_regression\")\n",
        "plt.plot(X_train,SGD_pred,color=\"blue\",label=\"SGD_regression\")\n",
        "# set the position of legend\n",
        "plt.legend(loc='upper left')\n",
        "\n",
        "# disply the plot\n",
        "plt.show()"
      ]
    },
    {
      "cell_type": "code",
      "execution_count": 68,
      "metadata": {
        "id": "Fo6LiQ6CU5jB"
      },
      "outputs": [],
      "source": [
        "# No for this Adult_MOrtality feature They both are fitting the nearly same regression line."
      ]
    },
    {
      "cell_type": "markdown",
      "metadata": {
        "collapsed": true,
        "id": "rQp_5mUAU5jC"
      },
      "source": [
        "<table align=\"left\">\n",
        "    <tr>\n",
        "        <td width=\"6%\">\n",
        "            <img src=\"question_icon.png\">\n",
        "        </td>\n",
        "        <td>\n",
        "            <div align=\"left\", style=\"font-size:120%\">\n",
        "                <font color=\"#21618C\">\n",
        "                    <b>9. Build a model to analyze the influence of immunization on life expectancy. Use SGD and plot a horizontal multiple barchart to compare the values of beta coefficients with values obtained by the full model build least squares regression.</b>\n",
        "                </font>\n",
        "            </div>\n",
        "        </td>\n",
        "    </tr>\n",
        "</table>"
      ]
    },
    {
      "cell_type": "code",
      "execution_count": 69,
      "metadata": {
        "id": "u9Hg9w77U5jC"
      },
      "outputs": [],
      "source": [
        "X = df_lifeExp.iloc[:,[2,6,7]]\n",
        "y = y\n",
        "X_scaler = StandardScaler()\n",
        "X = X_scaler.fit_transform(X)"
      ]
    },
    {
      "cell_type": "code",
      "execution_count": 70,
      "metadata": {
        "id": "1q4jDSxpU5jC"
      },
      "outputs": [],
      "source": [
        "X_train,X_test,y_train,y_test = train_test_split(X,y,train_size=.80,random_state=10)"
      ]
    },
    {
      "cell_type": "code",
      "execution_count": 71,
      "metadata": {
        "id": "Yu2W3g0PU5jC"
      },
      "outputs": [],
      "source": [
        "SGD = SGDRegressor(random_state=10)\n",
        "SGD_model = SGD.fit(X_train,y_train)"
      ]
    },
    {
      "cell_type": "code",
      "execution_count": 72,
      "metadata": {
        "id": "UkRM610yU5jC"
      },
      "outputs": [],
      "source": [
        "LR = LinearRegression()\n",
        "MLR_model = LR.fit(X_train,y_train)"
      ]
    },
    {
      "cell_type": "code",
      "execution_count": 73,
      "metadata": {
        "colab": {
          "base_uri": "https://localhost:8080/",
          "height": 112
        },
        "id": "qAKoGXjuU5jD",
        "outputId": "8c860c61-d020-438d-c485-b9a1f552e329"
      },
      "outputs": [
        {
          "output_type": "execute_result",
          "data": {
            "text/html": [
              "\n",
              "  <div id=\"df-d6bd7907-ae08-422b-bdd4-92c7ae98a126\">\n",
              "    <div class=\"colab-df-container\">\n",
              "      <div>\n",
              "<style scoped>\n",
              "    .dataframe tbody tr th:only-of-type {\n",
              "        vertical-align: middle;\n",
              "    }\n",
              "\n",
              "    .dataframe tbody tr th {\n",
              "        vertical-align: top;\n",
              "    }\n",
              "\n",
              "    .dataframe thead th {\n",
              "        text-align: right;\n",
              "    }\n",
              "</style>\n",
              "<table border=\"1\" class=\"dataframe\">\n",
              "  <thead>\n",
              "    <tr style=\"text-align: right;\">\n",
              "      <th></th>\n",
              "      <th>Hepatitis B</th>\n",
              "      <th>Polio</th>\n",
              "      <th>Diphtheria</th>\n",
              "    </tr>\n",
              "  </thead>\n",
              "  <tbody>\n",
              "    <tr>\n",
              "      <th>linreg_sklearn_coeff</th>\n",
              "      <td>-0.156011</td>\n",
              "      <td>0.341006</td>\n",
              "      <td>0.443232</td>\n",
              "    </tr>\n",
              "    <tr>\n",
              "      <th>linreg_SGD_coeff</th>\n",
              "      <td>0.044471</td>\n",
              "      <td>0.333959</td>\n",
              "      <td>0.242614</td>\n",
              "    </tr>\n",
              "  </tbody>\n",
              "</table>\n",
              "</div>\n",
              "      <button class=\"colab-df-convert\" onclick=\"convertToInteractive('df-d6bd7907-ae08-422b-bdd4-92c7ae98a126')\"\n",
              "              title=\"Convert this dataframe to an interactive table.\"\n",
              "              style=\"display:none;\">\n",
              "        \n",
              "  <svg xmlns=\"http://www.w3.org/2000/svg\" height=\"24px\"viewBox=\"0 0 24 24\"\n",
              "       width=\"24px\">\n",
              "    <path d=\"M0 0h24v24H0V0z\" fill=\"none\"/>\n",
              "    <path d=\"M18.56 5.44l.94 2.06.94-2.06 2.06-.94-2.06-.94-.94-2.06-.94 2.06-2.06.94zm-11 1L8.5 8.5l.94-2.06 2.06-.94-2.06-.94L8.5 2.5l-.94 2.06-2.06.94zm10 10l.94 2.06.94-2.06 2.06-.94-2.06-.94-.94-2.06-.94 2.06-2.06.94z\"/><path d=\"M17.41 7.96l-1.37-1.37c-.4-.4-.92-.59-1.43-.59-.52 0-1.04.2-1.43.59L10.3 9.45l-7.72 7.72c-.78.78-.78 2.05 0 2.83L4 21.41c.39.39.9.59 1.41.59.51 0 1.02-.2 1.41-.59l7.78-7.78 2.81-2.81c.8-.78.8-2.07 0-2.86zM5.41 20L4 18.59l7.72-7.72 1.47 1.35L5.41 20z\"/>\n",
              "  </svg>\n",
              "      </button>\n",
              "      \n",
              "  <style>\n",
              "    .colab-df-container {\n",
              "      display:flex;\n",
              "      flex-wrap:wrap;\n",
              "      gap: 12px;\n",
              "    }\n",
              "\n",
              "    .colab-df-convert {\n",
              "      background-color: #E8F0FE;\n",
              "      border: none;\n",
              "      border-radius: 50%;\n",
              "      cursor: pointer;\n",
              "      display: none;\n",
              "      fill: #1967D2;\n",
              "      height: 32px;\n",
              "      padding: 0 0 0 0;\n",
              "      width: 32px;\n",
              "    }\n",
              "\n",
              "    .colab-df-convert:hover {\n",
              "      background-color: #E2EBFA;\n",
              "      box-shadow: 0px 1px 2px rgba(60, 64, 67, 0.3), 0px 1px 3px 1px rgba(60, 64, 67, 0.15);\n",
              "      fill: #174EA6;\n",
              "    }\n",
              "\n",
              "    [theme=dark] .colab-df-convert {\n",
              "      background-color: #3B4455;\n",
              "      fill: #D2E3FC;\n",
              "    }\n",
              "\n",
              "    [theme=dark] .colab-df-convert:hover {\n",
              "      background-color: #434B5C;\n",
              "      box-shadow: 0px 1px 3px 1px rgba(0, 0, 0, 0.15);\n",
              "      filter: drop-shadow(0px 1px 2px rgba(0, 0, 0, 0.3));\n",
              "      fill: #FFFFFF;\n",
              "    }\n",
              "  </style>\n",
              "\n",
              "      <script>\n",
              "        const buttonEl =\n",
              "          document.querySelector('#df-d6bd7907-ae08-422b-bdd4-92c7ae98a126 button.colab-df-convert');\n",
              "        buttonEl.style.display =\n",
              "          google.colab.kernel.accessAllowed ? 'block' : 'none';\n",
              "\n",
              "        async function convertToInteractive(key) {\n",
              "          const element = document.querySelector('#df-d6bd7907-ae08-422b-bdd4-92c7ae98a126');\n",
              "          const dataTable =\n",
              "            await google.colab.kernel.invokeFunction('convertToInteractive',\n",
              "                                                     [key], {});\n",
              "          if (!dataTable) return;\n",
              "\n",
              "          const docLinkHtml = 'Like what you see? Visit the ' +\n",
              "            '<a target=\"_blank\" href=https://colab.research.google.com/notebooks/data_table.ipynb>data table notebook</a>'\n",
              "            + ' to learn more about interactive tables.';\n",
              "          element.innerHTML = '';\n",
              "          dataTable['output_type'] = 'display_data';\n",
              "          await google.colab.output.renderOutput(dataTable, element);\n",
              "          const docLink = document.createElement('div');\n",
              "          docLink.innerHTML = docLinkHtml;\n",
              "          element.appendChild(docLink);\n",
              "        }\n",
              "      </script>\n",
              "    </div>\n",
              "  </div>\n",
              "  "
            ],
            "text/plain": [
              "                      Hepatitis B     Polio  Diphtheria \n",
              "linreg_sklearn_coeff    -0.156011  0.341006     0.443232\n",
              "linreg_SGD_coeff         0.044471  0.333959     0.242614"
            ]
          },
          "metadata": {},
          "execution_count": 73
        }
      ],
      "source": [
        "df_immunization=df_lifeExp.iloc[:,[2,6,7]]\n",
        "df_coeff = pd.DataFrame([MLR_model.coef_, SGD_model.coef_], columns = df_immunization.columns, \n",
        "                 index = ['linreg_sklearn_coeff', 'linreg_SGD_coeff'])\n",
        "df_coeff"
      ]
    },
    {
      "cell_type": "code",
      "execution_count": 74,
      "metadata": {
        "colab": {
          "base_uri": "https://localhost:8080/",
          "height": 282
        },
        "id": "OBo37CQTU5jD",
        "outputId": "74511862-01c6-47e4-9d69-2f910e0f8659"
      },
      "outputs": [
        {
          "output_type": "execute_result",
          "data": {
            "text/plain": [
              "<matplotlib.axes._subplots.AxesSubplot at 0x7fc865caa750>"
            ]
          },
          "metadata": {},
          "execution_count": 74
        },
        {
          "output_type": "display_data",
          "data": {
            "image/png": "[encoded data removed]",
            "text/plain": [
              "<Figure size 432x288 with 1 Axes>"
            ]
          },
          "metadata": {
            "needs_background": "light"
          }
        }
      ],
      "source": [
        "df_immunization=df_lifeExp.iloc[:,[2,6,7]]\n",
        "df_coeff = pd.DataFrame([MLR_model.coef_,SGD_model.coef_], columns = df_immunization.columns, \n",
        "                 index = ['linreg_sklearn_coeff', 'linreg_SGD_coeff'])\n",
        "df_coeff.T.plot.barh()\n"
      ]
    },
    {
      "cell_type": "code",
      "execution_count": 75,
      "metadata": {
        "colab": {
          "base_uri": "https://localhost:8080/"
        },
        "id": "lMvbuQxGU5jD",
        "outputId": "5c91abee-9d59-43b9-a490-8123be4e127b"
      },
      "outputs": [
        {
          "output_type": "execute_result",
          "data": {
            "text/plain": [
              "array([-0.15601111,  0.34100566,  0.4432324 ])"
            ]
          },
          "metadata": {},
          "execution_count": 75
        }
      ],
      "source": [
        "MLR_model.coef_"
      ]
    },
    {
      "cell_type": "code",
      "execution_count": 76,
      "metadata": {
        "colab": {
          "base_uri": "https://localhost:8080/"
        },
        "id": "AP1T4w6IU5jD",
        "outputId": "539bf887-1d4b-4242-a75f-a819e21e5c02"
      },
      "outputs": [
        {
          "output_type": "execute_result",
          "data": {
            "text/plain": [
              "array([0.04447119, 0.33395921, 0.24261394])"
            ]
          },
          "metadata": {},
          "execution_count": 76
        }
      ],
      "source": [
        "SGD_model.coef_"
      ]
    },
    {
      "cell_type": "code",
      "execution_count": 77,
      "metadata": {
        "colab": {
          "base_uri": "https://localhost:8080/"
        },
        "id": "FCDqwPACU5jE",
        "outputId": "e61e52ca-2b4e-46f7-d98d-a47c7a9ddc95"
      },
      "outputs": [
        {
          "output_type": "stream",
          "name": "stdout",
          "text": [
            "Bias_error_CGD 0.9064852812556086\n",
            "Var_error_CGD 0.1876085262818809\n"
          ]
        }
      ],
      "source": [
        "from sklearn.model_selection import cross_val_score,KFold\n",
        "CGD=LinearRegression()\n",
        "SGD=SGDRegressor(random_state=1)\n",
        "X=df_immunization\n",
        "sc=StandardScaler()\n",
        "X_std=sc.fit_transform(X)\n",
        "kf=KFold(n_splits=3,shuffle=True,random_state=0)\n",
        "rmse=cross_val_score(CGD,X_std,y,cv=kf,scoring='neg_root_mean_squared_error')\n",
        "CGD_be=np.mean(np.abs(rmse))\n",
        "CGD_ve=np.std(np.abs(rmse),ddof=1)\n",
        "print('Bias_error_CGD',CGD_be)\n",
        "print('Var_error_CGD',CGD_ve)"
      ]
    },
    {
      "cell_type": "code",
      "execution_count": 78,
      "metadata": {
        "id": "8EJWErVJU5jE"
      },
      "outputs": [],
      "source": [
        "# AS we see that the SGD regression model found less coeffient value as compare to the Linear_regression model\n",
        "# Hence we can say that SGD model will give better pridiction."
      ]
    },
    {
      "cell_type": "markdown",
      "metadata": {
        "collapsed": true,
        "id": "9MbrzBfbU5jE"
      },
      "source": [
        "<table align=\"left\">\n",
        "    <tr>\n",
        "        <td width=\"6%\">\n",
        "            <img src=\"question_icon.png\">\n",
        "        </td>\n",
        "        <td>\n",
        "            <div align=\"left\", style=\"font-size:120%\">\n",
        "                <font color=\"#21618C\">\n",
        "                    <b>10. Build a full model using least squares regression. Check whether the model overfits the training data or not.\n",
        "</b>\n",
        "                </font>\n",
        "            </div>\n",
        "        </td>\n",
        "    </tr>\n",
        "</table>"
      ]
    },
    {
      "cell_type": "code",
      "execution_count": 82,
      "metadata": {
        "id": "0XzsGoG_U5jF"
      },
      "outputs": [],
      "source": [
        "from sklearn.metrics import mean_squared_error as mse"
      ]
    },
    {
      "cell_type": "code",
      "execution_count": 79,
      "metadata": {
        "id": "RAd0tyUSU5jE"
      },
      "outputs": [],
      "source": [
        "X = df_lifeExp.drop(\"Life_Expectancy\",axis=1)\n",
        "X_scaler = StandardScaler()\n",
        "\n",
        "y = df_lifeExp[\"Life_Expectancy\"]\n",
        "X_train,X_test,y_train,y_test = train_test_split(X,y,train_size=.80,random_state=10)"
      ]
    },
    {
      "cell_type": "code",
      "execution_count": 80,
      "metadata": {
        "id": "1Yfrn9CCU5jF"
      },
      "outputs": [],
      "source": [
        "LR = LinearRegression()"
      ]
    },
    {
      "cell_type": "code",
      "execution_count": 81,
      "metadata": {
        "colab": {
          "base_uri": "https://localhost:8080/"
        },
        "id": "IBGnNkx6U5jF",
        "outputId": "48d91b7c-9ae8-4268-ec7e-b232e38a04ad"
      },
      "outputs": [
        {
          "output_type": "execute_result",
          "data": {
            "text/plain": [
              "LinearRegression()"
            ]
          },
          "metadata": {},
          "execution_count": 81
        }
      ],
      "source": [
        "MLR_model.fit(X_train,y_train)"
      ]
    },
    {
      "cell_type": "code",
      "execution_count": 83,
      "metadata": {
        "id": "rwBsea7bU5jF"
      },
      "outputs": [],
      "source": [
        "train_pred = MLR_model.predict(X_train)\n",
        "test_pred = MLR_model.predict(X_test)"
      ]
    },
    {
      "cell_type": "code",
      "execution_count": 84,
      "metadata": {
        "id": "j7wQOdx4U5jF"
      },
      "outputs": [],
      "source": [
        "mse_train = mse(y_train,train_pred)\n",
        "mse_test = mse(y_test,test_pred)"
      ]
    },
    {
      "cell_type": "code",
      "execution_count": 85,
      "metadata": {
        "id": "OcceoXhxU5jG"
      },
      "outputs": [],
      "source": [
        "rmse_train = np.sqrt(mse_train)\n",
        "rmse_test = np.sqrt(mse_test)"
      ]
    },
    {
      "cell_type": "code",
      "execution_count": 86,
      "metadata": {
        "colab": {
          "base_uri": "https://localhost:8080/"
        },
        "id": "gX_UlLuNU5jG",
        "outputId": "28fdf8a8-2d2f-4fe4-fbcd-ab3150ab2c03"
      },
      "outputs": [
        {
          "output_type": "stream",
          "name": "stdout",
          "text": [
            "Train rmse 2.656895695380306 Test rmse 3.4247311940858958\n"
          ]
        }
      ],
      "source": [
        "print(\"Train rmse\",rmse_train,\"Test rmse\",rmse_test)"
      ]
    },
    {
      "cell_type": "code",
      "source": [
        "R_square=MLR_model.score(x_train,y_train)"
      ],
      "metadata": {
        "id": "aUP0dKHtYXKq"
      },
      "execution_count": 92,
      "outputs": []
    },
    {
      "cell_type": "code",
      "source": [
        "R_square"
      ],
      "metadata": {
        "colab": {
          "base_uri": "https://localhost:8080/"
        },
        "id": "F6zgff-jYl8f",
        "outputId": "2aacc4ad-4b1e-47b7-e9e3-fc141cddc46d"
      },
      "execution_count": 93,
      "outputs": [
        {
          "output_type": "execute_result",
          "data": {
            "text/plain": [
              "0.8911155163998359"
            ]
          },
          "metadata": {},
          "execution_count": 93
        }
      ]
    },
    {
      "cell_type": "code",
      "execution_count": 89,
      "metadata": {
        "id": "Fq2WxXRVU5jG"
      },
      "outputs": [],
      "source": [
        "# we could see train and test rmse values are quite close so we can say that the model is not over fit."
      ]
    },
    {
      "cell_type": "markdown",
      "metadata": {
        "collapsed": true,
        "id": "wmK2X4_GU5jG"
      },
      "source": [
        "<table align=\"left\">\n",
        "    <tr>\n",
        "        <td width=\"6%\">\n",
        "            <img src=\"question_icon.png\">\n",
        "        </td>\n",
        "        <td>\n",
        "            <div align=\"left\", style=\"font-size:120%\">\n",
        "                <font color=\"#21618C\">\n",
        "                    <b>11. Can we use a linear regression model to analyze how all features from the dataset impact life expectancy?</b>\n",
        "                </font>\n",
        "            </div>\n",
        "        </td>\n",
        "    </tr>\n",
        "</table>"
      ]
    },
    {
      "cell_type": "code",
      "execution_count": 90,
      "metadata": {
        "id": "CiMuGPibU5jH"
      },
      "outputs": [],
      "source": [
        "# Yes we can use linear regression model to check the independent variables impact on target variable."
      ]
    },
    {
      "cell_type": "code",
      "source": [
        "# set dimensions for the plot figure\n",
        "fig_dims = (15,10)\n",
        "fig, ax = plt.subplots(figsize=fig_dims)\n",
        "\n",
        "# create a copy of dataframe\n",
        "df_features = df_lifeExp.iloc[:,:15]\n",
        "\n",
        "# plot the heat map\n",
        "# corr: give the correlation matrix\n",
        "# annot: prints the correlation values in the chart\n",
        "# annot_kws: sets the font size of the annotation\n",
        "sns.heatmap(df_features.corr(), annot = True, annot_kws = {\"size\": 10})\n",
        "\n",
        "# rotate the y-axis labels\n",
        "# set text size using 'fontsize'\n",
        "plt.yticks(rotation = 'horizontal', fontsize = 15)\n",
        "plt.xticks(fontsize = 15)\n",
        "\n",
        "# display the plot\n",
        "plt.show()"
      ],
      "metadata": {
        "colab": {
          "base_uri": "https://localhost:8080/",
          "height": 725
        },
        "id": "_lkk2GgManro",
        "outputId": "3c9eec4c-47ff-4def-f1bd-cdea107fc535"
      },
      "execution_count": 99,
      "outputs": [
        {
          "output_type": "display_data",
          "data": {
            "image/png": "[encoded data removed]",
            "text/plain": [
              "<Figure size 1080x720 with 2 Axes>"
            ]
          },
          "metadata": {
            "needs_background": "light"
          }
        }
      ]
    },
    {
      "cell_type": "code",
      "execution_count": 91,
      "metadata": {
        "id": "Plziyf-MU5jH"
      },
      "outputs": [],
      "source": [
        "# But before that we need to check the assumption and that must be satisfied."
      ]
    },
    {
      "cell_type": "code",
      "execution_count": 94,
      "metadata": {
        "colab": {
          "base_uri": "https://localhost:8080/"
        },
        "id": "wkqBzEXFU5jH",
        "outputId": "07347666-0366-4d59-b20f-182a5a5599dc"
      },
      "outputs": [
        {
          "output_type": "execute_result",
          "data": {
            "text/plain": [
              "dtype('float64')"
            ]
          },
          "metadata": {},
          "execution_count": 94
        }
      ],
      "source": [
        "df_lifeExp.Life_Expectancy.dtype"
      ]
    },
    {
      "cell_type": "code",
      "execution_count": 95,
      "metadata": {
        "id": "7yleUyXuU5jH"
      },
      "outputs": [],
      "source": [
        "# as we that the life_expectancy feature is numeric of our first assumption is satisfied."
      ]
    },
    {
      "cell_type": "code",
      "execution_count": 96,
      "metadata": {
        "id": "legtC3RjU5jI"
      },
      "outputs": [],
      "source": [
        "# Checking for multicollinearity."
      ]
    },
    {
      "cell_type": "code",
      "execution_count": 97,
      "metadata": {
        "colab": {
          "base_uri": "https://localhost:8080/",
          "height": 569
        },
        "id": "JrE3x3oZU5jI",
        "outputId": "80cac738-be00-4dec-f4d9-239228f397d7"
      },
      "outputs": [
        {
          "output_type": "display_data",
          "data": {
            "image/png": "[encoded data removed]",
            "text/plain": [
              "<Figure size 1080x576 with 2 Axes>"
            ]
          },
          "metadata": {
            "needs_background": "light"
          }
        }
      ],
      "source": [
        "plt.figure(figsize =(15,8))\n",
        "sns.heatmap(df_lifeExp.drop(\"Life_Expectancy\",axis =1).corr()[df_lifeExp.drop(\"Life_Expectancy\",axis =1).corr()>.9],annot=True,annot_kws={\"size\":12})\n",
        "plt.show()"
      ]
    },
    {
      "cell_type": "code",
      "execution_count": null,
      "metadata": {
        "id": "mGF-xzMaU5jI"
      },
      "outputs": [],
      "source": [
        "# we can see that Hepatitis B and Diphtheria have multicollinearity and income_Index and schoolig have multicollinearity."
      ]
    },
    {
      "cell_type": "code",
      "execution_count": null,
      "metadata": {
        "id": "PZWjsEuJU5jI"
      },
      "outputs": [],
      "source": [
        "X = df_lifeExp.drop(\"Life_Expectancy\",axis =1)\n",
        "y = df_lifeExp['Life_Expectancy']"
      ]
    },
    {
      "cell_type": "code",
      "execution_count": null,
      "metadata": {
        "id": "RXTx4bP9U5jJ",
        "outputId": "39b84425-96d1-46ae-c811-38c2be0ef77f"
      },
      "outputs": [
        {
          "name": "stdout",
          "output_type": "stream",
          "text": [
            "                            OLS Regression Results                            \n",
            "==============================================================================\n",
            "Dep. Variable:        Life_Expectancy   R-squared:                       0.879\n",
            "Model:                            OLS   Adj. R-squared:                  0.868\n",
            "Method:                 Least Squares   F-statistic:                     76.22\n",
            "Date:                Mon, 18 Oct 2021   Prob (F-statistic):           5.55e-64\n",
            "Time:                        21:20:11   Log-Likelihood:                -422.55\n",
            "No. Observations:                 173   AIC:                             877.1\n",
            "Df Residuals:                     157   BIC:                             927.6\n",
            "Df Model:                          15                                         \n",
            "Covariance Type:            nonrobust                                         \n",
            "=====================================================================================\n",
            "                        coef    std err          t      P>|t|      [0.025      0.975]\n",
            "-------------------------------------------------------------------------------------\n",
            "const                53.7149      2.337     22.982      0.000      49.098      58.331\n",
            "Status               -1.2098      0.712     -1.698      0.091      -2.617       0.197\n",
            "Adult_Mortality      -0.0243      0.004     -6.777      0.000      -0.031      -0.017\n",
            "Hepatitis B           0.0448      0.024      1.877      0.062      -0.002       0.092\n",
            "Measles            6.372e-06   4.69e-05      0.136      0.892   -8.63e-05     9.9e-05\n",
            "BMI                  -0.0099      0.014     -0.690      0.491      -0.038       0.018\n",
            "Underfive_Deaths     -0.0002      0.004     -0.058      0.954      -0.008       0.008\n",
            "Polio                 0.0127      0.013      0.966      0.336      -0.013       0.039\n",
            "Diphtheria           -0.0050      0.028     -0.180      0.857      -0.060       0.050\n",
            "HIV                  -0.5315      0.229     -2.318      0.022      -0.985      -0.079\n",
            "GDP               -9.499e-06   2.38e-05     -0.398      0.691   -5.66e-05    3.76e-05\n",
            "Population        -6.444e-09   9.73e-09     -0.662      0.509   -2.57e-08    1.28e-08\n",
            "Malnourished10_19    -0.1577      0.246     -0.641      0.522      -0.643       0.328\n",
            "Malnourished5_9       0.0143      0.241      0.059      0.953      -0.462       0.491\n",
            "Income_Index         29.3677      4.611      6.369      0.000      20.259      38.476\n",
            "Schooling            -0.0229      0.204     -0.112      0.911      -0.426       0.380\n",
            "==============================================================================\n",
            "Omnibus:                        9.421   Durbin-Watson:                   1.908\n",
            "Prob(Omnibus):                  0.009   Jarque-Bera (JB):               14.700\n",
            "Skew:                          -0.278   Prob(JB):                     0.000642\n",
            "Kurtosis:                       4.316   Cond. No.                     6.02e+08\n",
            "==============================================================================\n",
            "\n",
            "Notes:\n",
            "[1] Standard Errors assume that the covariance matrix of the errors is correctly specified.\n",
            "[2] The condition number is large, 6.02e+08. This might indicate that there are\n",
            "strong multicollinearity or other numerical problems.\n"
          ]
        }
      ],
      "source": [
        "X= sm.add_constant(X)\n",
        "MLR_model = sm.OLS(y,X).fit()\n",
        "print(MLR_model.summary())"
      ]
    },
    {
      "cell_type": "code",
      "execution_count": null,
      "metadata": {
        "id": "SP5Q2BR0U5jJ"
      },
      "outputs": [],
      "source": [
        "# As we the coefficient of each varibles and p_values, we know the how the independent variables impact on target variable."
      ]
    },
    {
      "cell_type": "markdown",
      "metadata": {
        "id": "X4BZbyDlU5jJ"
      },
      "source": [
        "<a id=\"reg\"> </a>\n",
        "## 4. Regularization"
      ]
    },
    {
      "cell_type": "markdown",
      "metadata": {
        "collapsed": true,
        "id": "xPAcDgKBU5jJ"
      },
      "source": [
        "<table align=\"left\">\n",
        "    <tr>\n",
        "        <td width=\"6%\">\n",
        "            <img src=\"question_icon.png\">\n",
        "        </td>\n",
        "        <td>\n",
        "            <div align=\"left\", style=\"font-size:120%\">\n",
        "                <font color=\"#21618C\">\n",
        "                    <b>12. Can we perform regression analysis without eliminating features involved in multicollinearity detected in question 11?</b>\n",
        "                </font>\n",
        "            </div>\n",
        "        </td>\n",
        "    </tr>\n",
        "</table>"
      ]
    },
    {
      "cell_type": "code",
      "execution_count": 100,
      "metadata": {
        "id": "RBacCVWQU5jK"
      },
      "outputs": [],
      "source": [
        "# Ridge regression reduces the sensitivity of regression parameters to multicollinearity. This is accomplished through\n",
        "# penality applied to the cost function. Imposoing a penalty functionkeeps the value of predictors below a pre-specified value."
      ]
    },
    {
      "cell_type": "code",
      "execution_count": 101,
      "metadata": {
        "id": "D3Lq5r_WU5jK"
      },
      "outputs": [],
      "source": [
        "from sklearn.preprocessing import StandardScaler\n",
        "SS = StandardScaler()"
      ]
    },
    {
      "cell_type": "code",
      "execution_count": 102,
      "metadata": {
        "scrolled": true,
        "id": "LR4A0tZnU5jK"
      },
      "outputs": [],
      "source": [
        "X = df_lifeExp.drop('Life_Expectancy',axis = 1)\n",
        "y = df_lifeExp['Life_Expectancy']\n",
        "X = SS.fit_transform(X)\n",
        "y = (y-y.mean())/y.std()\n",
        "x_train,x_test,y_train,y_test = train_test_split(X,y,train_size=.80,random_state=1)"
      ]
    },
    {
      "cell_type": "code",
      "execution_count": 103,
      "metadata": {
        "colab": {
          "base_uri": "https://localhost:8080/"
        },
        "id": "1wCbFUGDU5jL",
        "outputId": "ae539500-50d7-43c6-8394-022aded2e10d"
      },
      "outputs": [
        {
          "output_type": "execute_result",
          "data": {
            "text/plain": [
              "((138, 14), (138,))"
            ]
          },
          "metadata": {},
          "execution_count": 103
        }
      ],
      "source": [
        "x_train.shape,y_train.shape"
      ]
    },
    {
      "cell_type": "code",
      "execution_count": 128,
      "metadata": {
        "id": "zRZNj91yU5jM"
      },
      "outputs": [],
      "source": [
        "from sklearn.linear_model import Ridge\n",
        "ridge = Ridge(alpha = 7.5)"
      ]
    },
    {
      "cell_type": "code",
      "execution_count": 129,
      "metadata": {
        "id": "rOUCIamDU5jM"
      },
      "outputs": [],
      "source": [
        "MLR_model = ridge.fit(x_train,y_train)"
      ]
    },
    {
      "cell_type": "code",
      "execution_count": 130,
      "metadata": {
        "id": "btzaqdEtU5jN"
      },
      "outputs": [],
      "source": [
        "test_prd=ridge.predict(x_test)\n",
        "train_prd = ridge.predict(x_train)"
      ]
    },
    {
      "cell_type": "code",
      "execution_count": 131,
      "metadata": {
        "id": "pWM-y9xfU5jN"
      },
      "outputs": [],
      "source": [
        "from sklearn.metrics import mean_squared_error"
      ]
    },
    {
      "cell_type": "code",
      "execution_count": 132,
      "metadata": {
        "id": "njn68hVpU5jN"
      },
      "outputs": [],
      "source": [
        "test_mse = mean_squared_error(y_test,test_prd)\n",
        "train_mse = mean_squared_error(y_train,train_prd)"
      ]
    },
    {
      "cell_type": "code",
      "execution_count": 133,
      "metadata": {
        "id": "mFn_udjcU5jN"
      },
      "outputs": [],
      "source": [
        "test_rmse = np.sqrt(test_mse)\n",
        "train_rmse = np.sqrt(train_mse)"
      ]
    },
    {
      "cell_type": "code",
      "execution_count": 134,
      "metadata": {
        "colab": {
          "base_uri": "https://localhost:8080/"
        },
        "id": "EPjSEKT1U5jO",
        "outputId": "861a6c81-e7d1-4b1f-862d-0daeb1d637ba"
      },
      "outputs": [
        {
          "output_type": "execute_result",
          "data": {
            "text/plain": [
              "(5.723188620590126, 5.704401970404256)"
            ]
          },
          "metadata": {},
          "execution_count": 134
        }
      ],
      "source": [
        "test_rmse,train_rmse"
      ]
    },
    {
      "cell_type": "code",
      "execution_count": 135,
      "metadata": {
        "id": "z1mOXdkCU5jO"
      },
      "outputs": [],
      "source": [
        "# We can see that using the redge regression we reducing the multicollinearity problem.becuase the \n",
        "# we are adding the alpha value and cost function for reducing the B1 and fiding the low error."
      ]
    },
    {
      "cell_type": "markdown",
      "metadata": {
        "collapsed": true,
        "id": "66oMaXYyU5jO"
      },
      "source": [
        "<table align=\"left\">\n",
        "    <tr>\n",
        "        <td width=\"6%\">\n",
        "            <img src=\"question_icon.png\">\n",
        "        </td>\n",
        "        <td>\n",
        "            <div align=\"left\", style=\"font-size:120%\">\n",
        "                <font color=\"#21618C\">\n",
        "                    <b>13. Build a model to study the impact of diseases and immunization on life expectancy. Identify the significant variables from the model. Use 'alpha = 1.5' if required.\n",
        "</b>\n",
        "                </font>\n",
        "            </div>\n",
        "        </td>\n",
        "    </tr>\n",
        "</table>"
      ]
    },
    {
      "cell_type": "code",
      "source": [
        "df_lifeExp.iloc[:,[3,8,2,6,7]].head()"
      ],
      "metadata": {
        "colab": {
          "base_uri": "https://localhost:8080/",
          "height": 206
        },
        "id": "pBkP_w_RfQzT",
        "outputId": "f017be53-7e9b-4852-94be-d25947a42bc9"
      },
      "execution_count": 140,
      "outputs": [
        {
          "output_type": "execute_result",
          "data": {
            "text/html": [
              "\n",
              "  <div id=\"df-1d804dcd-665c-45fe-a78f-771858595e42\">\n",
              "    <div class=\"colab-df-container\">\n",
              "      <div>\n",
              "<style scoped>\n",
              "    .dataframe tbody tr th:only-of-type {\n",
              "        vertical-align: middle;\n",
              "    }\n",
              "\n",
              "    .dataframe tbody tr th {\n",
              "        vertical-align: top;\n",
              "    }\n",
              "\n",
              "    .dataframe thead th {\n",
              "        text-align: right;\n",
              "    }\n",
              "</style>\n",
              "<table border=\"1\" class=\"dataframe\">\n",
              "  <thead>\n",
              "    <tr style=\"text-align: right;\">\n",
              "      <th></th>\n",
              "      <th>Measles</th>\n",
              "      <th>HIV</th>\n",
              "      <th>Hepatitis B</th>\n",
              "      <th>Polio</th>\n",
              "      <th>Diphtheria</th>\n",
              "    </tr>\n",
              "  </thead>\n",
              "  <tbody>\n",
              "    <tr>\n",
              "      <th>0</th>\n",
              "      <td>1154</td>\n",
              "      <td>0.1</td>\n",
              "      <td>65.0</td>\n",
              "      <td>6</td>\n",
              "      <td>65</td>\n",
              "    </tr>\n",
              "    <tr>\n",
              "      <th>1</th>\n",
              "      <td>0</td>\n",
              "      <td>0.1</td>\n",
              "      <td>99.0</td>\n",
              "      <td>99</td>\n",
              "      <td>99</td>\n",
              "    </tr>\n",
              "    <tr>\n",
              "      <th>2</th>\n",
              "      <td>63</td>\n",
              "      <td>0.1</td>\n",
              "      <td>95.0</td>\n",
              "      <td>95</td>\n",
              "      <td>95</td>\n",
              "    </tr>\n",
              "    <tr>\n",
              "      <th>3</th>\n",
              "      <td>118</td>\n",
              "      <td>1.9</td>\n",
              "      <td>64.0</td>\n",
              "      <td>7</td>\n",
              "      <td>64</td>\n",
              "    </tr>\n",
              "    <tr>\n",
              "      <th>4</th>\n",
              "      <td>0</td>\n",
              "      <td>0.2</td>\n",
              "      <td>99.0</td>\n",
              "      <td>86</td>\n",
              "      <td>99</td>\n",
              "    </tr>\n",
              "  </tbody>\n",
              "</table>\n",
              "</div>\n",
              "      <button class=\"colab-df-convert\" onclick=\"convertToInteractive('df-1d804dcd-665c-45fe-a78f-771858595e42')\"\n",
              "              title=\"Convert this dataframe to an interactive table.\"\n",
              "              style=\"display:none;\">\n",
              "        \n",
              "  <svg xmlns=\"http://www.w3.org/2000/svg\" height=\"24px\"viewBox=\"0 0 24 24\"\n",
              "       width=\"24px\">\n",
              "    <path d=\"M0 0h24v24H0V0z\" fill=\"none\"/>\n",
              "    <path d=\"M18.56 5.44l.94 2.06.94-2.06 2.06-.94-2.06-.94-.94-2.06-.94 2.06-2.06.94zm-11 1L8.5 8.5l.94-2.06 2.06-.94-2.06-.94L8.5 2.5l-.94 2.06-2.06.94zm10 10l.94 2.06.94-2.06 2.06-.94-2.06-.94-.94-2.06-.94 2.06-2.06.94z\"/><path d=\"M17.41 7.96l-1.37-1.37c-.4-.4-.92-.59-1.43-.59-.52 0-1.04.2-1.43.59L10.3 9.45l-7.72 7.72c-.78.78-.78 2.05 0 2.83L4 21.41c.39.39.9.59 1.41.59.51 0 1.02-.2 1.41-.59l7.78-7.78 2.81-2.81c.8-.78.8-2.07 0-2.86zM5.41 20L4 18.59l7.72-7.72 1.47 1.35L5.41 20z\"/>\n",
              "  </svg>\n",
              "      </button>\n",
              "      \n",
              "  <style>\n",
              "    .colab-df-container {\n",
              "      display:flex;\n",
              "      flex-wrap:wrap;\n",
              "      gap: 12px;\n",
              "    }\n",
              "\n",
              "    .colab-df-convert {\n",
              "      background-color: #E8F0FE;\n",
              "      border: none;\n",
              "      border-radius: 50%;\n",
              "      cursor: pointer;\n",
              "      display: none;\n",
              "      fill: #1967D2;\n",
              "      height: 32px;\n",
              "      padding: 0 0 0 0;\n",
              "      width: 32px;\n",
              "    }\n",
              "\n",
              "    .colab-df-convert:hover {\n",
              "      background-color: #E2EBFA;\n",
              "      box-shadow: 0px 1px 2px rgba(60, 64, 67, 0.3), 0px 1px 3px 1px rgba(60, 64, 67, 0.15);\n",
              "      fill: #174EA6;\n",
              "    }\n",
              "\n",
              "    [theme=dark] .colab-df-convert {\n",
              "      background-color: #3B4455;\n",
              "      fill: #D2E3FC;\n",
              "    }\n",
              "\n",
              "    [theme=dark] .colab-df-convert:hover {\n",
              "      background-color: #434B5C;\n",
              "      box-shadow: 0px 1px 3px 1px rgba(0, 0, 0, 0.15);\n",
              "      filter: drop-shadow(0px 1px 2px rgba(0, 0, 0, 0.3));\n",
              "      fill: #FFFFFF;\n",
              "    }\n",
              "  </style>\n",
              "\n",
              "      <script>\n",
              "        const buttonEl =\n",
              "          document.querySelector('#df-1d804dcd-665c-45fe-a78f-771858595e42 button.colab-df-convert');\n",
              "        buttonEl.style.display =\n",
              "          google.colab.kernel.accessAllowed ? 'block' : 'none';\n",
              "\n",
              "        async function convertToInteractive(key) {\n",
              "          const element = document.querySelector('#df-1d804dcd-665c-45fe-a78f-771858595e42');\n",
              "          const dataTable =\n",
              "            await google.colab.kernel.invokeFunction('convertToInteractive',\n",
              "                                                     [key], {});\n",
              "          if (!dataTable) return;\n",
              "\n",
              "          const docLinkHtml = 'Like what you see? Visit the ' +\n",
              "            '<a target=\"_blank\" href=https://colab.research.google.com/notebooks/data_table.ipynb>data table notebook</a>'\n",
              "            + ' to learn more about interactive tables.';\n",
              "          element.innerHTML = '';\n",
              "          dataTable['output_type'] = 'display_data';\n",
              "          await google.colab.output.renderOutput(dataTable, element);\n",
              "          const docLink = document.createElement('div');\n",
              "          docLink.innerHTML = docLinkHtml;\n",
              "          element.appendChild(docLink);\n",
              "        }\n",
              "      </script>\n",
              "    </div>\n",
              "  </div>\n",
              "  "
            ],
            "text/plain": [
              "   Measles   HIV  Hepatitis B  Polio  Diphtheria \n",
              "0      1154  0.1         65.0      6           65\n",
              "1         0  0.1         99.0     99           99\n",
              "2        63  0.1         95.0     95           95\n",
              "3       118  1.9         64.0      7           64\n",
              "4         0  0.2         99.0     86           99"
            ]
          },
          "metadata": {},
          "execution_count": 140
        }
      ]
    },
    {
      "cell_type": "code",
      "execution_count": 112,
      "metadata": {
        "id": "cMndl7kqU5jO"
      },
      "outputs": [],
      "source": [
        "X = df_lifeExp.iloc[:,[3,8,2,6,7]]\n",
        "y = df_lifeExp['Life_Expectancy']"
      ]
    },
    {
      "cell_type": "code",
      "execution_count": 136,
      "metadata": {
        "colab": {
          "base_uri": "https://localhost:8080/"
        },
        "id": "nBiKBxqyU5jP",
        "outputId": "bf7fe0fb-6f60-49b5-9ca5-3e87792c6bb8"
      },
      "outputs": [
        {
          "output_type": "stream",
          "name": "stdout",
          "text": [
            "                            OLS Regression Results                            \n",
            "==============================================================================\n",
            "Dep. Variable:        Life_Expectancy   R-squared:                       0.498\n",
            "Model:                            OLS   Adj. R-squared:                  0.479\n",
            "Method:                 Least Squares   F-statistic:                     26.22\n",
            "Date:                Thu, 03 Mar 2022   Prob (F-statistic):           2.55e-18\n",
            "Time:                        06:34:19   Log-Likelihood:                -436.08\n",
            "No. Observations:                 138   AIC:                             884.2\n",
            "Df Residuals:                     132   BIC:                             901.7\n",
            "Df Model:                           5                                         \n",
            "Covariance Type:            nonrobust                                         \n",
            "===============================================================================\n",
            "                  coef    std err          t      P>|t|      [0.025      0.975]\n",
            "-------------------------------------------------------------------------------\n",
            "const          63.0085      2.536     24.849      0.000      57.993      68.024\n",
            "Measles     -6.631e-05    5.7e-05     -1.163      0.247      -0.000    4.64e-05\n",
            "HIV            -2.5762      0.387     -6.650      0.000      -3.342      -1.810\n",
            "Hepatitis B    -0.0375      0.046     -0.811      0.419      -0.129       0.054\n",
            "Polio           0.0879      0.026      3.347      0.001       0.036       0.140\n",
            "Diphtheria      0.0791      0.056      1.418      0.159      -0.031       0.189\n",
            "==============================================================================\n",
            "Omnibus:                        7.047   Durbin-Watson:                   2.005\n",
            "Prob(Omnibus):                  0.029   Jarque-Bera (JB):                6.764\n",
            "Skew:                          -0.456   Prob(JB):                       0.0340\n",
            "Kurtosis:                       3.586   Cond. No.                     4.54e+04\n",
            "==============================================================================\n",
            "\n",
            "Warnings:\n",
            "[1] Standard Errors assume that the covariance matrix of the errors is correctly specified.\n",
            "[2] The condition number is large, 4.54e+04. This might indicate that there are\n",
            "strong multicollinearity or other numerical problems.\n"
          ]
        },
        {
          "output_type": "stream",
          "name": "stderr",
          "text": [
            "/usr/local/lib/python3.7/dist-packages/statsmodels/tsa/tsatools.py:117: FutureWarning: In a future version of pandas all arguments of concat except for the argument 'objs' will be keyword-only\n",
            "  x = pd.concat(x[::order], 1)\n"
          ]
        }
      ],
      "source": [
        "X = sm.add_constant(X)\n",
        "x_train,x_test,y_train,y_test = train_test_split(X,y,train_size=.80,random_state=10)\n",
        "MLR_model = sm.OLS(y_train,x_train).fit()\n",
        "print(MLR_model.summary())"
      ]
    },
    {
      "cell_type": "code",
      "execution_count": 137,
      "metadata": {
        "id": "oMBEeYXLU5jP"
      },
      "outputs": [],
      "source": [
        "train_pred = MLR_model.predict(x_train)\n",
        "test_pred =MLR_model.predict(x_test)"
      ]
    },
    {
      "cell_type": "code",
      "execution_count": 138,
      "metadata": {
        "id": "mUPvshkhU5jP"
      },
      "outputs": [],
      "source": [
        "train_mse = mean_squared_error(y_train,train_pred)\n",
        "test_mse = mean_squared_error(y_test,test_pred)"
      ]
    },
    {
      "cell_type": "code",
      "execution_count": 116,
      "metadata": {
        "id": "BoJwmMT4U5jP"
      },
      "outputs": [],
      "source": [
        "train_rmse = np.sqrt(train_mse)\n",
        "test_rmse = np.sqrt(test_mse)"
      ]
    },
    {
      "cell_type": "code",
      "execution_count": 117,
      "metadata": {
        "colab": {
          "base_uri": "https://localhost:8080/"
        },
        "id": "1Ja4-p4_U5jP",
        "outputId": "2f428c03-75ca-42e1-9e1e-a7f82102dc44"
      },
      "outputs": [
        {
          "output_type": "stream",
          "name": "stdout",
          "text": [
            "train_rmse 5.7034240059677455 test_rmse 5.728231682843468\n"
          ]
        }
      ],
      "source": [
        "print(\"train_rmse\",train_rmse,\"test_rmse\",test_rmse)"
      ]
    },
    {
      "cell_type": "code",
      "execution_count": 118,
      "metadata": {
        "id": "ubciRAtFU5jQ"
      },
      "outputs": [],
      "source": [
        "# we could see that train and test rmse are nearly same so we can say that our model is not overfit."
      ]
    },
    {
      "cell_type": "code",
      "execution_count": 119,
      "metadata": {
        "colab": {
          "base_uri": "https://localhost:8080/"
        },
        "id": "usAIX8iyU5jQ",
        "outputId": "fc188fd6-9d7a-46bd-d8df-59bfd9825f3b"
      },
      "outputs": [
        {
          "output_type": "execute_result",
          "data": {
            "text/plain": [
              "const    1.277152e-51\n",
              "HIV      7.081057e-10\n",
              "Polio    1.064558e-03\n",
              "dtype: float64"
            ]
          },
          "metadata": {},
          "execution_count": 119
        }
      ],
      "source": [
        "MLR_model.pvalues[MLR_model.pvalues<0.05]"
      ]
    },
    {
      "cell_type": "code",
      "execution_count": 120,
      "metadata": {
        "id": "TpbRJ1J3U5jQ"
      },
      "outputs": [],
      "source": [
        "# we can see these are the features are significantly contributing for predicting the life expectancy."
      ]
    },
    {
      "cell_type": "markdown",
      "metadata": {
        "collapsed": true,
        "id": "7IH60N51U5jR"
      },
      "source": [
        "<table align=\"left\">\n",
        "    <tr>\n",
        "        <td width=\"6%\">\n",
        "            <img src=\"question_icon.png\">\n",
        "        </td>\n",
        "        <td>\n",
        "            <div align=\"left\", style=\"font-size:120%\">\n",
        "                <font color=\"#21618C\">\n",
        "                    <b>14. Build a model to study the impact of malnutrition and diseases on life expectancy. Identify the insignificant variables from the model. Use 'alpha = 1' if required.</b>\n",
        "                </font>\n",
        "            </div>\n",
        "        </td>\n",
        "    </tr>\n",
        "</table>"
      ]
    },
    {
      "cell_type": "code",
      "execution_count": null,
      "metadata": {
        "id": "1K22beSKU5jR"
      },
      "outputs": [],
      "source": [
        "ridge = Ridge(alpha = 1)\n",
        "X = df_lifeExp.iloc[:,[3,8,12,11]]\n",
        "y = df_lifeExp['Life_Expectancy']"
      ]
    },
    {
      "cell_type": "code",
      "execution_count": null,
      "metadata": {
        "id": "ChuVLbPMU5jR"
      },
      "outputs": [],
      "source": [
        "LR = LinearRegression()"
      ]
    },
    {
      "cell_type": "code",
      "execution_count": null,
      "metadata": {
        "id": "-mCRTO8bU5jR"
      },
      "outputs": [],
      "source": [
        "\n",
        "x_train,x_test,y_train,y_test = train_test_split(X,y,train_size=.80,random_state=10)"
      ]
    },
    {
      "cell_type": "code",
      "execution_count": null,
      "metadata": {
        "id": "BuFPRQJdU5jR"
      },
      "outputs": [],
      "source": [
        "MLR_model = LR.fit(X,y)"
      ]
    },
    {
      "cell_type": "code",
      "execution_count": null,
      "metadata": {
        "id": "NwWLaJg2U5jS"
      },
      "outputs": [],
      "source": [
        "train_predict = MLR_model.predict(x_train)\n",
        "test_predict = MLR_model.predict(x_test)"
      ]
    },
    {
      "cell_type": "code",
      "execution_count": null,
      "metadata": {
        "id": "f6Vc21RjU5jS"
      },
      "outputs": [],
      "source": [
        "train_mse = mean_squared_error(y_train,train_predict)\n",
        "test_mse = mean_squared_error(y_test,test_predict)"
      ]
    },
    {
      "cell_type": "code",
      "execution_count": null,
      "metadata": {
        "id": "y5DYMB6hU5jS"
      },
      "outputs": [],
      "source": [
        "train_RMSE = np.sqrt(train_mse)\n",
        "test_RMSE = np.sqrt(test_mse)"
      ]
    },
    {
      "cell_type": "code",
      "execution_count": null,
      "metadata": {
        "id": "XHGtT9d4U5jT",
        "outputId": "13124f9b-3356-4466-b39a-d7dcc483956c"
      },
      "outputs": [
        {
          "name": "stdout",
          "output_type": "stream",
          "text": [
            "The train rmse and test rmse using linear regressor 5.492754103715008 5.896740651653842\n"
          ]
        }
      ],
      "source": [
        "print('The train rmse and test rmse using linear regressor',train_RMSE,test_RMSE)"
      ]
    },
    {
      "cell_type": "code",
      "execution_count": null,
      "metadata": {
        "id": "AuziUWjwU5jT"
      },
      "outputs": [],
      "source": [
        "# As we could see that there is lot of difference in train and test rmse so we can decied that the model is overfitted."
      ]
    },
    {
      "cell_type": "code",
      "execution_count": null,
      "metadata": {
        "id": "sfD7bfrFU5jT"
      },
      "outputs": [],
      "source": [
        "# We are using the lasso reggressor for tunning the Bcoeffients and reducing the error.\n",
        "# by doing the tuning we can reduce multicollinearity problem."
      ]
    },
    {
      "cell_type": "code",
      "execution_count": null,
      "metadata": {
        "id": "aEziYq-5U5jT"
      },
      "outputs": [],
      "source": [
        "from sklearn.linear_model import Lasso"
      ]
    },
    {
      "cell_type": "code",
      "execution_count": null,
      "metadata": {
        "id": "OFhLUqBOU5jT"
      },
      "outputs": [],
      "source": [
        "# initialize the standard scalar\n",
        "X_scaler = StandardScaler()\n",
        "\n",
        "# standardize all the columns of the dataframe 'X'\n",
        "X = X_scaler.fit_transform(X)\n",
        "\n",
        "# standardize the target variable explicitly \n",
        "y = (y - y.mean()) / y.std()"
      ]
    },
    {
      "cell_type": "code",
      "execution_count": null,
      "metadata": {
        "id": "SUhYpsXHU5jU",
        "outputId": "3bd5a9cf-7416-477d-f500-6ca3581bb307"
      },
      "outputs": [
        {
          "name": "stdout",
          "output_type": "stream",
          "text": [
            "Root Mean Squared Error (RMSE) on training set:  5.6436\n",
            "Root Mean Squared Error (RMSE) on test set:  6.1908\n"
          ]
        }
      ],
      "source": [
        "##### use Lasso() to perform lasso regression\n",
        "# 'alpha' assigns the regularization strength to the model\n",
        "lasso = Lasso(alpha = 1)\n",
        "\n",
        "# fit the model on train set using fit()\n",
        "lasso_model = lasso.fit(X_train, y_train)\n",
        "\n",
        "# For training set:\n",
        "# train_pred: prediction made by the model on the training dataset 'X_train'\n",
        "# y_train: actual values ofthe target variable for the train dataset\n",
        " \n",
        "# predict the output of the target variable from the train data \n",
        "train_pred = lasso_model.predict(X_train)\n",
        "\n",
        "# calculate the MSE using the \"mean_squared_error\" function\n",
        "# MSE for the train data\n",
        "mse_train = mean_squared_error(y_train, train_pred)\n",
        "\n",
        "# take the square root of the MSE to calculate the RMSE\n",
        "# round the value upto 4 digits using 'round()'\n",
        "rmse_train = round(np.sqrt(mse_train), 4)\n",
        " \n",
        "# print the RMSE for the train set\n",
        "print(\"Root Mean Squared Error (RMSE) on training set: \", rmse_train)\n",
        "    \n",
        "# For testing set:\n",
        "# test_pred: prediction made by the model on the test dataset 'y_train'\n",
        "# y_test: actual values of the target variable for the test dataset\n",
        " \n",
        "# predict the output of the target variable from the test data\n",
        "test_pred = lasso_model.predict(X_test)\n",
        "\n",
        "# MSE for the test data\n",
        "mse_test = mean_squared_error(y_test, test_pred)\n",
        "\n",
        "# take the square root of the MSE to calculate the RMSE\n",
        "# round the value upto 4 digits using 'round()'\n",
        "rmse_test = round(np.sqrt(mse_test), 4)\n",
        "\n",
        "# print the RMSE for the test set\n",
        "print(\"Root Mean Squared Error (RMSE) on test set: \", rmse_test)"
      ]
    },
    {
      "cell_type": "code",
      "execution_count": null,
      "metadata": {
        "id": "SFLTbVUjU5jU",
        "outputId": "5a6eb571-1d8c-4411-a63e-517304c5aa01"
      },
      "outputs": [
        {
          "data": {
            "text/plain": [
              "array([0.])"
            ]
          },
          "execution_count": 324,
          "metadata": {},
          "output_type": "execute_result"
        }
      ],
      "source": [
        "lasso_model.coef_[lasso_model.coef_==0]"
      ]
    },
    {
      "cell_type": "markdown",
      "metadata": {
        "collapsed": true,
        "id": "_Xf1B_lkU5jU"
      },
      "source": [
        "<table align=\"left\">\n",
        "    <tr>\n",
        "        <td width=\"6%\">\n",
        "            <img src=\"question_icon.png\">\n",
        "        </td>\n",
        "        <td>\n",
        "            <div align=\"left\", style=\"font-size:120%\">\n",
        "                <font color=\"#21618C\">\n",
        "                    <b>15. Build a full model using the elastic net regression. Use 'alpha = 0.1' and 'l1_ratio=0.001'. Also, compute the RMSE for train and test sets.\n",
        " </b>\n",
        "                </font>\n",
        "            </div>\n",
        "        </td>\n",
        "    </tr>\n",
        "</table>"
      ]
    },
    {
      "cell_type": "code",
      "execution_count": null,
      "metadata": {
        "scrolled": true,
        "id": "wLuMT3xvU5jU"
      },
      "outputs": [],
      "source": [
        "from sklearn.linear_model import ElasticNet\n",
        "EN = ElasticNet(alpha=0.1,l1_ratio=0.0001)"
      ]
    },
    {
      "cell_type": "code",
      "execution_count": null,
      "metadata": {
        "id": "EVjxWG9vU5jV"
      },
      "outputs": [],
      "source": [
        "# selecting the independent variables \n",
        "X = df_lifeExp.iloc[:,:15]\n",
        "\n",
        "# set the dependent variable\n",
        "y = df_lifeExp['Life_Expectancy']\n",
        "\n",
        "# initializing the standard scalar\n",
        "X_scaler = StandardScaler()\n",
        "\n",
        "# standardizing all the columns of df_ipl\n",
        "X = X_scaler.fit_transform(X)\n",
        "\n",
        "# standardizing the target explicitly and storing it in a new variable 'y'\n",
        "y = (y - y.mean()) / y.std()\n",
        "\n",
        "X_train, X_test, y_train, y_test = train_test_split(X, y, random_state=110, test_size = 0.2)"
      ]
    },
    {
      "cell_type": "code",
      "execution_count": null,
      "metadata": {
        "id": "bMQ0wtnuU5jV"
      },
      "outputs": [],
      "source": [
        "EN_model = EN.fit(X_train,y_train)"
      ]
    },
    {
      "cell_type": "code",
      "execution_count": null,
      "metadata": {
        "id": "uFuLlhzKU5jV"
      },
      "outputs": [],
      "source": [
        "train_pred = EN_model.predict(X_train)\n",
        "test_pred = EN_model.predict(X_test)"
      ]
    },
    {
      "cell_type": "code",
      "execution_count": null,
      "metadata": {
        "id": "AuvXsECKU5jV"
      },
      "outputs": [],
      "source": [
        "train_mse = mean_squared_error(y_train,train_pred)\n",
        "test_mse = mean_squared_error(y_test,test_pred)"
      ]
    },
    {
      "cell_type": "code",
      "execution_count": null,
      "metadata": {
        "id": "I2EeifNhU5jV"
      },
      "outputs": [],
      "source": [
        "train_rmse = np.sqrt(train_mse)\n",
        "test_rmse = np.sqrt(test_mse)"
      ]
    },
    {
      "cell_type": "code",
      "execution_count": null,
      "metadata": {
        "id": "AoO30BGkU5jW",
        "outputId": "6bd0cd88-75bd-4cac-b6b5-47fc62fb2907"
      },
      "outputs": [
        {
          "name": "stdout",
          "output_type": "stream",
          "text": [
            "train and test rmse values using Elastic Net regressor 0.3580675793286309 0.35441222437304715\n"
          ]
        }
      ],
      "source": [
        "print(\"train and test rmse values using Elastic Net regressor\",train_rmse,test_rmse)"
      ]
    },
    {
      "cell_type": "code",
      "execution_count": null,
      "metadata": {
        "id": "QyC6go-6U5jW"
      },
      "outputs": [],
      "source": [
        ""
      ]
    },
    {
      "cell_type": "markdown",
      "metadata": {
        "collapsed": true,
        "id": "90ig8NU8U5jW"
      },
      "source": [
        "<table align=\"left\">\n",
        "    <tr>\n",
        "        <td width=\"6%\">\n",
        "            <img src=\"question_icon.png\">\n",
        "        </td>\n",
        "        <td>\n",
        "            <div align=\"left\", style=\"font-size:120%\">\n",
        "                <font color=\"#21618C\">\n",
        "                    <b>16. Build a full model. Identify the features that are significantly influencing the life expectancy. Use 'alpha = 0.5' if required. </b>\n",
        "                </font>\n",
        "            </div>\n",
        "        </td>\n",
        "    </tr>\n",
        "</table>"
      ]
    },
    {
      "cell_type": "code",
      "execution_count": 141,
      "metadata": {
        "scrolled": true,
        "id": "k80_hhMUU5jW"
      },
      "outputs": [],
      "source": [
        "# selecting the independent variables \n",
        "X = df_lifeExp.iloc[:,:15]\n",
        "\n",
        "# set the dependent variable\n",
        "y = df_lifeExp['Life_Expectancy']\n",
        "\n",
        "# split data into train subset and test subset\n",
        "# set 'random_state' to generate the same dataset each time you run the code \n",
        "# 'test_size' returns the proportion of data to be included in the testing set\n",
        "X_train, X_test, y_train, y_test = train_test_split(X, y, random_state = 10, test_size = 0.2)"
      ]
    },
    {
      "cell_type": "code",
      "execution_count": 142,
      "metadata": {
        "id": "ObdRGhkkU5jW"
      },
      "outputs": [],
      "source": [
        "X_train,X_test,y_train,y_test = train_test_split(X,y,train_size=.80,random_state=1)"
      ]
    },
    {
      "cell_type": "code",
      "execution_count": 143,
      "metadata": {
        "id": "HH9hBSakU5jX"
      },
      "outputs": [],
      "source": [
        "LR = LinearRegression()"
      ]
    },
    {
      "cell_type": "code",
      "execution_count": 144,
      "metadata": {
        "id": "4qWS94SWU5jX"
      },
      "outputs": [],
      "source": [
        "LR_model = LR.fit(X_train,y_train)"
      ]
    },
    {
      "cell_type": "code",
      "execution_count": 145,
      "metadata": {
        "id": "PaGSrN95U5jX"
      },
      "outputs": [],
      "source": [
        "train_pred = LR_model.predict(X_train)\n",
        "test_pred = LR_model.predict(X_test)"
      ]
    },
    {
      "cell_type": "code",
      "execution_count": 146,
      "metadata": {
        "id": "96RwsOy2U5jX"
      },
      "outputs": [],
      "source": [
        "train_mse = mean_squared_error(y_train,train_pred)\n",
        "test_mse = mean_squared_error(y_test,test_pred)"
      ]
    },
    {
      "cell_type": "code",
      "execution_count": 147,
      "metadata": {
        "id": "vrq4rfmPU5jY"
      },
      "outputs": [],
      "source": [
        "train_rmse = np.sqrt(train_mse)\n",
        "test_rmse = np.sqrt(test_mse)"
      ]
    },
    {
      "cell_type": "code",
      "execution_count": 148,
      "metadata": {
        "colab": {
          "base_uri": "https://localhost:8080/"
        },
        "id": "FLS6FIcyU5jY",
        "outputId": "32049f3f-fe60-4872-9958-a1785cb23b7f"
      },
      "outputs": [
        {
          "output_type": "stream",
          "name": "stdout",
          "text": [
            "train and test rmse 2.3333091433866964e-11 9.46802227069508e-12\n"
          ]
        }
      ],
      "source": [
        "print(\"train and test rmse\",train_rmse,test_rmse)"
      ]
    },
    {
      "cell_type": "code",
      "execution_count": 149,
      "metadata": {
        "id": "Tam3dGowU5jY"
      },
      "outputs": [],
      "source": [
        "# so we can see that over model not overfit."
      ]
    },
    {
      "cell_type": "markdown",
      "metadata": {
        "id": "UCcYeyQeU5jY"
      },
      "source": [
        "<a id=\"gs\"> </a>\n",
        "## 5. Grid Search "
      ]
    },
    {
      "cell_type": "markdown",
      "metadata": {
        "collapsed": true,
        "id": "T9IVUi8NU5jY"
      },
      "source": [
        "<table align=\"left\">\n",
        "    <tr>\n",
        "        <td width=\"6%\">\n",
        "            <img src=\"question_icon.png\">\n",
        "        </td>\n",
        "        <td>\n",
        "            <div align=\"left\", style=\"font-size:120%\">\n",
        "                <font color=\"#21618C\">\n",
        "                    <b>17. If ridge regression is used to build a full model. Which value is the best alpha from the list of values?<br><br>Consider the alpha values: [7,8,9,10,11]</b>\n",
        "                </font>\n",
        "            </div>\n",
        "        </td>\n",
        "    </tr>\n",
        "</table>"
      ]
    },
    {
      "cell_type": "code",
      "execution_count": null,
      "metadata": {
        "id": "IEYqipG3U5jZ"
      },
      "outputs": [],
      "source": [
        "# select the independent variables \n",
        "X = df_lifeExp.iloc[:,:15]\n",
        "\n",
        "# set the dependent variable\n",
        "y = df_lifeExp['Life_Expectancy']\n",
        "\n",
        "# initialize the standard scalar\n",
        "X_scaler = StandardScaler()\n",
        "\n",
        "# standardize all the columns of df_lifeExp\n",
        "X = X_scaler.fit_transform(X)\n",
        "\n",
        "# standardize the target explicitly and storing it in a new variable 'y'\n",
        "y = (y - y.mean()) / y.std()\n",
        "\n",
        "# split data into train subset and test subset\n",
        "# set 'random_state' to generate the same dataset each time you run the code \n",
        "# 'test_size' returns the proportion of data to be included in the testing set\n",
        "X_train, X_test, y_train, y_test = train_test_split(X, y, random_state=110, test_size = 0.2)"
      ]
    },
    {
      "cell_type": "code",
      "execution_count": null,
      "metadata": {
        "id": "XvgIvmFmU5jZ"
      },
      "outputs": [],
      "source": [
        "from sklearn.model_selection import GridSearchCV"
      ]
    },
    {
      "cell_type": "code",
      "execution_count": null,
      "metadata": {
        "id": "m-zSTJ-QU5jZ"
      },
      "outputs": [],
      "source": [
        "ridge = Ridge()"
      ]
    },
    {
      "cell_type": "code",
      "execution_count": null,
      "metadata": {
        "id": "69nREir3U5jZ"
      },
      "outputs": [],
      "source": [
        "tuned_paramaters = [{'alpha':[7, 8, 9, 10, 11]}]"
      ]
    },
    {
      "cell_type": "code",
      "execution_count": null,
      "metadata": {
        "id": "8TYsBkjQU5ja"
      },
      "outputs": [],
      "source": [
        "ridge_grid = GridSearchCV(estimator=ridge,param_grid=tuned_paramaters,cv = 5)"
      ]
    },
    {
      "cell_type": "code",
      "execution_count": null,
      "metadata": {
        "id": "2KY3txzaU5ja",
        "outputId": "f27f28fc-3f68-4bd0-d4e6-708708a763ec"
      },
      "outputs": [
        {
          "data": {
            "text/plain": [
              "GridSearchCV(cv=5, estimator=Ridge(), param_grid=[{'alpha': [7, 8, 9, 10, 11]}])"
            ]
          },
          "execution_count": 406,
          "metadata": {},
          "output_type": "execute_result"
        }
      ],
      "source": [
        "ridge_grid.fit(X_train,y_train)"
      ]
    },
    {
      "cell_type": "code",
      "execution_count": null,
      "metadata": {
        "id": "QwpryOijU5ja",
        "outputId": "2027ec81-661d-4b0b-b19f-edfdf8cd3da7"
      },
      "outputs": [
        {
          "data": {
            "text/plain": [
              "{'alpha': 11}"
            ]
          },
          "execution_count": 414,
          "metadata": {},
          "output_type": "execute_result"
        }
      ],
      "source": [
        "ridge_grid.best_params_"
      ]
    },
    {
      "cell_type": "code",
      "execution_count": null,
      "metadata": {
        "id": "LBOXwobSU5jb"
      },
      "outputs": [],
      "source": [
        ""
      ]
    },
    {
      "cell_type": "markdown",
      "metadata": {
        "collapsed": true,
        "id": "0jFfrHUjU5jb"
      },
      "source": [
        "<table align=\"left\">\n",
        "    <tr>\n",
        "        <td width=\"6%\">\n",
        "            <img src=\"question_icon.png\">\n",
        "        </td>\n",
        "        <td>\n",
        "            <div align=\"left\", style=\"font-size:120%\">\n",
        "                <font color=\"#21618C\">\n",
        "                    <b>18. If lasso regression is used to build a full model. Which value is the best alpha from the list of values?<br><br>Consider the alpha values: [7,8,9,10,11]</b>\n",
        "                </font>\n",
        "            </div>\n",
        "        </td>\n",
        "    </tr>\n",
        "</table>"
      ]
    },
    {
      "cell_type": "code",
      "execution_count": null,
      "metadata": {
        "id": "qnYRn_RWU5jc"
      },
      "outputs": [],
      "source": [
        "lasso = Lasso()"
      ]
    },
    {
      "cell_type": "code",
      "execution_count": null,
      "metadata": {
        "id": "pItG879gU5jd"
      },
      "outputs": [],
      "source": [
        "lasso_grid = GridSearchCV(estimator=lasso,param_grid=tuned_paramaters,cv = 5)"
      ]
    },
    {
      "cell_type": "code",
      "execution_count": null,
      "metadata": {
        "id": "TjJb1628U5je",
        "outputId": "4fceeeec-9e45-4030-a11a-6850954d9957"
      },
      "outputs": [
        {
          "data": {
            "text/plain": [
              "GridSearchCV(cv=5, estimator=Lasso(), param_grid=[{'alpha': [7, 8, 9, 10, 11]}])"
            ]
          },
          "execution_count": 411,
          "metadata": {},
          "output_type": "execute_result"
        }
      ],
      "source": [
        "lasso_grid.fit(x_train,y_train)\n"
      ]
    },
    {
      "cell_type": "code",
      "execution_count": null,
      "metadata": {
        "id": "Ra3kBGL7U5jf",
        "outputId": "64629425-59b4-44c9-d9d2-3af7d107f84e"
      },
      "outputs": [
        {
          "data": {
            "text/plain": [
              "{'alpha': 7}"
            ]
          },
          "execution_count": 412,
          "metadata": {},
          "output_type": "execute_result"
        }
      ],
      "source": [
        "lasso_grid.best_params_"
      ]
    },
    {
      "cell_type": "markdown",
      "metadata": {
        "collapsed": true,
        "id": "V-ESIxv3U5jf"
      },
      "source": [
        "<table align=\"left\">\n",
        "    <tr>\n",
        "        <td width=\"6%\">\n",
        "            <img src=\"question_icon.png\">\n",
        "        </td>\n",
        "        <td>\n",
        "            <div align=\"left\", style=\"font-size:120%\">\n",
        "                <font color=\"#21618C\">\n",
        "                    <b>19. Perform regression analysis to study the impact of malnutrition and diseases on life expectancy. Determine the optimal value of alpha and mixing parameter if elastic net regression is used to build the model. Consider the following list of values:<br><br> alpha : [0.1,0.5,1,1.5,2,2.5,3,3.5,4]<br> l1_ratio : [0.5,0.55,0.6,0.65,0.7,0.75,0.8,0.85,0.9] </b>\n",
        "                </font>\n",
        "            </div>\n",
        "        </td>\n",
        "    </tr>\n",
        "</table>"
      ]
    },
    {
      "cell_type": "code",
      "execution_count": null,
      "metadata": {
        "id": "CwGHnjp9U5jf"
      },
      "outputs": [],
      "source": [
        "tuned_parameters = [{\"alpha\" : [0.1,0.5,1,1.5,2,2.5,3,3.5,4],\n",
        "                    \"l1_ratio\" : [0.5,0.55,0.6,0.65,0.7,0.75,0.8,0.85,0.9]}]"
      ]
    },
    {
      "cell_type": "code",
      "execution_count": null,
      "metadata": {
        "id": "fl6dhHPpU5jf"
      },
      "outputs": [],
      "source": [
        "enet = ElasticNet()"
      ]
    },
    {
      "cell_type": "code",
      "execution_count": null,
      "metadata": {
        "id": "NYq7K8goU5jg"
      },
      "outputs": [],
      "source": [
        "# select the variables describing malnutrition: Malnourished10_19, Malnourished5_9\n",
        "# select the variables describing diseases: Measles, HIV\n",
        "X = df_lifeExp.iloc[:,[12,11,3,8]]\n",
        "\n",
        "# set the dependent variable\n",
        "y = df_lifeExp['Life_Expectancy']\n",
        "\n",
        "# split data into train subset and test subset\n",
        "# set 'random_state' to generate the same dataset each time you run the code \n",
        "# 'test_size' returns the proportion of data to be included in the testing set\n",
        "X_train, X_test, y_train, y_test = train_test_split(X, y, random_state=7, test_size = 0.2)"
      ]
    },
    {
      "cell_type": "code",
      "execution_count": null,
      "metadata": {
        "id": "8-scmcqrU5jg"
      },
      "outputs": [],
      "source": [
        "enet_grid = GridSearchCV(estimator=enet,param_grid=tuned_parameters,cv = 10)"
      ]
    },
    {
      "cell_type": "code",
      "execution_count": null,
      "metadata": {
        "id": "X1cJfrqmU5jg",
        "outputId": "f9de5a12-a1f0-4416-900b-e47714ff27cc"
      },
      "outputs": [
        {
          "data": {
            "text/plain": [
              "GridSearchCV(cv=10, estimator=ElasticNet(),\n",
              "             param_grid=[{'alpha': [0.1, 0.5, 1, 1.5, 2, 2.5, 3, 3.5, 4],\n",
              "                          'l1_ratio': [0.5, 0.55, 0.6, 0.65, 0.7, 0.75, 0.8,\n",
              "                                       0.85, 0.9]}])"
            ]
          },
          "execution_count": 428,
          "metadata": {},
          "output_type": "execute_result"
        }
      ],
      "source": [
        "enet_grid.fit(X_train,y_train)"
      ]
    },
    {
      "cell_type": "code",
      "execution_count": null,
      "metadata": {
        "id": "sVbUjeqnU5jg",
        "outputId": "81f7fd12-f3d2-4004-c86f-7ca85aaacc4d"
      },
      "outputs": [
        {
          "data": {
            "text/plain": [
              "{'alpha': 1.5, 'l1_ratio': 0.9}"
            ]
          },
          "execution_count": 429,
          "metadata": {},
          "output_type": "execute_result"
        }
      ],
      "source": [
        "enet_grid.best_params_"
      ]
    },
    {
      "cell_type": "code",
      "execution_count": null,
      "metadata": {
        "id": "XCM3NY4_U5jh"
      },
      "outputs": [],
      "source": [
        ""
      ]
    },
    {
      "cell_type": "markdown",
      "metadata": {
        "collapsed": true,
        "id": "wNN3FL1ZU5jh"
      },
      "source": [
        "<table align=\"left\">\n",
        "    <tr>\n",
        "        <td width=\"6%\">\n",
        "            <img src=\"question_icon.png\">\n",
        "        </td>\n",
        "        <td>\n",
        "            <div align=\"left\", style=\"font-size:120%\">\n",
        "                <font color=\"#21618C\">\n",
        "                    <b>20. Build a full model. Select the optimal value for elastic net mixing parameter if the alpha value is 0.8<br><br>Consider the values: l1_ratio : [0.001, 0.005, 0.01, 0.05, 0.1, 0.5, 1]</b>\n",
        "                </font>\n",
        "            </div>\n",
        "        </td>\n",
        "    </tr>\n",
        "</table>"
      ]
    },
    {
      "cell_type": "code",
      "execution_count": null,
      "metadata": {
        "id": "okFqzP36U5jh"
      },
      "outputs": [],
      "source": [
        "# selecte the independent variables \n",
        "X = df_lifeExp.iloc[:,:15]\n",
        "\n",
        "# set the dependent variable\n",
        "y = df_lifeExp['Life_Expectancy']\n",
        "\n",
        "# initialize the standard scalar\n",
        "X_scaler = StandardScaler()\n",
        "\n",
        "# standardize all the columns of df_lifeExp\n",
        "X = X_scaler.fit_transform(X)\n",
        "\n",
        "# standardize the target explicitly and storing it in a new variable 'y'\n",
        "y = (y - y.mean()) / y.std()\n",
        "\n",
        "# split data into train subset and test subset\n",
        "# set 'random_state' to generate the same dataset each time you run the code \n",
        "# 'test_size' returns the proportion of data to be included in the testing set\n",
        "X_train, X_test, y_train, y_test = train_test_split(X, y, random_state=110, test_size = 0.2)"
      ]
    },
    {
      "cell_type": "code",
      "execution_count": null,
      "metadata": {
        "scrolled": true,
        "id": "Ecq_CovHU5jh"
      },
      "outputs": [],
      "source": [
        "enet = ElasticNet(alpha = 0.8)"
      ]
    },
    {
      "cell_type": "code",
      "execution_count": null,
      "metadata": {
        "id": "jgFaxYSrU5jh"
      },
      "outputs": [],
      "source": [
        "tuned_paramaters = [{'l1_ratio':[0.001, 0.005, 0.01, 0.05, 0.1, 0.5, 1]}]"
      ]
    },
    {
      "cell_type": "code",
      "execution_count": null,
      "metadata": {
        "id": "EHatDnQNU5jh"
      },
      "outputs": [],
      "source": [
        "enet_grid = GridSearchCV(estimator=enet,param_grid=tuned_paramaters,cv =10)"
      ]
    },
    {
      "cell_type": "code",
      "execution_count": null,
      "metadata": {
        "id": "y4mnXZTJU5ji",
        "outputId": "1a021943-ccf7-4cb6-f167-16f4ad15ad73"
      },
      "outputs": [
        {
          "data": {
            "text/plain": [
              "GridSearchCV(cv=10, estimator=ElasticNet(alpha=0.8),\n",
              "             param_grid=[{'l1_ratio': [0.001, 0.005, 0.01, 0.05, 0.1, 0.5, 1]}])"
            ]
          },
          "execution_count": 440,
          "metadata": {},
          "output_type": "execute_result"
        }
      ],
      "source": [
        "enet_grid.fit(X_train,y_train)"
      ]
    },
    {
      "cell_type": "code",
      "execution_count": null,
      "metadata": {
        "id": "IGY3tI78U5ji",
        "outputId": "6c47105b-0e12-477f-db4a-7734e68dc724"
      },
      "outputs": [
        {
          "data": {
            "text/plain": [
              "{'l1_ratio': 0.005}"
            ]
          },
          "execution_count": 441,
          "metadata": {},
          "output_type": "execute_result"
        }
      ],
      "source": [
        "enet_grid.best_params_"
      ]
    },
    {
      "cell_type": "code",
      "execution_count": null,
      "metadata": {
        "id": "xXufewNCU5ji"
      },
      "outputs": [],
      "source": [
        ""
      ]
    },
    {
      "cell_type": "code",
      "execution_count": null,
      "metadata": {
        "id": "BWnlOCBjU5ji"
      },
      "outputs": [],
      "source": [
        ""
      ]
    }
  ],
  "metadata": {
    "kernelspec": {
      "display_name": "Python 3 (ipykernel)",
      "language": "python",
      "name": "python3"
    },
    "language_info": {
      "codemirror_mode": {
        "name": "ipython",
        "version": 3
      },
      "file_extension": ".py",
      "mimetype": "text/x-python",
      "name": "python",
      "nbconvert_exporter": "python",
      "pygments_lexer": "ipython3",
      "version": "3.9.7"
    },
    "colab": {
      "name": "SLR - In-Class - Lab Exercise (Day 3) - Questions  [v1.0 - 270420].ipynb",
      "provenance": [],
      "include_colab_link": true
    }
  },
  "nbformat": 4,
  "nbformat_minor": 0
}